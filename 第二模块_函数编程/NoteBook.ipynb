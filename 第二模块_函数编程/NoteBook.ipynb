{
 "cells": [
  {
   "cell_type": "markdown",
   "source": [
    "# Bytes类型\n",
    "\n",
    "2进制 ——> 10进制 ——> ASCII/GBK/UTF-8/   Unicode\n",
    "\n",
    "bytes类型是以字节为单位处理的。\n",
    "\n",
    "bytes对象只负责以二进制字节序列的形式记录所需记录的对象，至于该对象到底表示什么则由相应的编码格式解码所决定。\n",
    "\n",
    "数据要存到硬盘上，但是硬盘只能存储2进制，要以相应的编码转成2进制后存储，相当于上述过程反过来。\n",
    "\n",
    "```\n",
    "\"Alex  天津科技大学\"\n",
    "\n",
    "b'Alex  \\xcc\\xec\\xbd\\xf2\\xbf\\xc6\\xbc\\xbc\\xb4\\xf3\\xd1\\xa7'\n",
    "```\n",
    "\n",
    "就是bytes类型，以16进制形式表示，两个16进制数构成一个byte，以b来标识。\n",
    "\n",
    "python3文件和pycharm的默认编码时UTF-8。\n",
    "\n",
    "b binary\n",
    "\n",
    "优势：\n",
    "    \n",
    "    1.字符存硬盘要变成bytes\n",
    "    2.网络传输字符要变成bytes\n"
   ],
   "metadata": {
    "collapsed": false
   }
  },
  {
   "cell_type": "code",
   "execution_count": 1,
   "metadata": {},
   "outputs": [],
   "source": [
    "string = \"我是Alex，天天007， 天天很开心\""
   ]
  },
  {
   "cell_type": "code",
   "execution_count": 2,
   "metadata": {},
   "outputs": [
    {
     "data": {
      "text/plain": [
       "b'\\xe6\\x88\\x91\\xe6\\x98\\xafAlex\\xef\\xbc\\x8c\\xe5\\xa4\\xa9\\xe5\\xa4\\xa9007\\xef\\xbc\\x8c \\xe5\\xa4\\xa9\\xe5\\xa4\\xa9\\xe5\\xbe\\x88\\xe5\\xbc\\x80\\xe5\\xbf\\x83'"
      ]
     },
     "execution_count": 2,
     "metadata": {},
     "output_type": "execute_result"
    }
   ],
   "source": [
    "string.encode(\"utf-8\")"
   ]
  },
  {
   "cell_type": "code",
   "execution_count": 5,
   "metadata": {},
   "outputs": [
    {
     "data": {
      "text/plain": [
       "b'\\xe6\\x88\\x91\\xe6\\x98\\xafAlex'"
      ]
     },
     "execution_count": 5,
     "metadata": {},
     "output_type": "execute_result"
    }
   ],
   "source": [
    "\"我是Alex\".encode(\"utf-8\")"
   ]
  },
  {
   "cell_type": "markdown",
   "metadata": {},
   "source": [
    "**UTF-8编码 一个中文占三个字节**"
   ]
  },
  {
   "cell_type": "code",
   "execution_count": 6,
   "metadata": {},
   "outputs": [
    {
     "data": {
      "text/plain": [
       "b'\\xce\\xd2\\xca\\xc7Alex\\xa3\\xac\\xcc\\xec\\xcc\\xec007\\xa3\\xac \\xcc\\xec\\xcc\\xec\\xba\\xdc\\xbf\\xaa\\xd0\\xc4'"
      ]
     },
     "execution_count": 6,
     "metadata": {},
     "output_type": "execute_result"
    }
   ],
   "source": [
    "string.encode(\"gbk\")"
   ]
  },
  {
   "cell_type": "code",
   "execution_count": 7,
   "metadata": {},
   "outputs": [
    {
     "data": {
      "text/plain": [
       "b'\\xce\\xd2\\xca\\xc7Alex'"
      ]
     },
     "execution_count": 7,
     "metadata": {},
     "output_type": "execute_result"
    }
   ],
   "source": [
    "\"我是Alex\".encode(\"gbk\")"
   ]
  },
  {
   "cell_type": "markdown",
   "metadata": {},
   "source": [
    "**GBK编码 一个中文占两个字节**"
   ]
  },
  {
   "cell_type": "markdown",
   "metadata": {},
   "source": [
    "# 字符编码的转换\n",
    "\n",
    "s.encode(\"utf-8\")   # 以utf-8编码成2进制\n",
    "\n",
    "s.decode(\"utf-8\")   # 从2进制解码称unicode\n",
    "\n",
    "![](/media/alex/新加卷/PythonProject/PythonFullStack/第二模块_函数编程/images/编码与解码.png)"
   ]
  },
  {
   "cell_type": "code",
   "execution_count": 9,
   "metadata": {},
   "outputs": [],
   "source": [
    "file = open(\"GBK_file\", \"wb\")\n",
    "string = \"我是Alex，天天007， 天天很开心\"\n",
    "file.write(string.encode(\"gbk\"))\n",
    "file.close()"
   ]
  },
  {
   "cell_type": "code",
   "execution_count": 10,
   "metadata": {},
   "outputs": [
    {
     "name": "stdout",
     "output_type": "stream",
     "text": [
      "����Alex������007�� ����ܿ���"
     ]
    }
   ],
   "source": [
    "!cat GBK_file"
   ]
  },
  {
   "cell_type": "code",
   "execution_count": 12,
   "metadata": {},
   "outputs": [
    {
     "name": "stdout",
     "output_type": "stream",
     "text": [
      "b'\\xce\\xd2\\xca\\xc7Alex\\xa3\\xac\\xcc\\xec\\xcc\\xec007\\xa3\\xac \\xcc\\xec\\xcc\\xec\\xba\\xdc\\xbf\\xaa\\xd0\\xc4'\n"
     ]
    }
   ],
   "source": [
    "file = open(\"GBK_file\", \"rb\")\n",
    "string_bytes = file.read()\n",
    "print(string_bytes)\n",
    "file.close()"
   ]
  },
  {
   "cell_type": "code",
   "execution_count": 14,
   "metadata": {},
   "outputs": [],
   "source": [
    "file = open(\"UTF-8_file\", \"wb\")\n",
    "file.write(string_bytes.decode(\"gbk\").encode(\"utf-8\"))\n",
    "file.close()"
   ]
  },
  {
   "cell_type": "code",
   "execution_count": 15,
   "metadata": {},
   "outputs": [
    {
     "name": "stdout",
     "output_type": "stream",
     "text": [
      "我是Alex，天天007， 天天很开心"
     ]
    }
   ],
   "source": [
    "!cat UTF-8_file"
   ]
  },
  {
   "cell_type": "markdown",
   "metadata": {},
   "source": [
    "# eval用法"
   ]
  },
  {
   "cell_type": "code",
   "execution_count": 83,
   "metadata": {},
   "outputs": [
    {
     "name": "stdout",
     "output_type": "stream",
     "text": [
      "<class 'list'>\n",
      "jack\n"
     ]
    }
   ],
   "source": [
    "f = open(\"eval_test\")\n",
    "d = eval(f.read())\n",
    "\n",
    "\n",
    "print(type(d))\n",
    "print(d[2])"
   ]
  },
  {
   "cell_type": "markdown",
   "metadata": {},
   "source": [
    "# 深浅copy\n",
    "\n",
    "copy：原则上就是把数据分离出来，复制其数据，并以后修改互不影响。"
   ]
  },
  {
   "cell_type": "markdown",
   "metadata": {},
   "source": [
    "## =赋值\n",
    "\n",
    "数据完全共享\n",
    "\n",
    "=赋值是在内存中指向同一个对象，如果是可变(mutable)类型，修改其中一个，另一个必定改变"
   ]
  },
  {
   "cell_type": "code",
   "execution_count": 16,
   "metadata": {},
   "outputs": [],
   "source": [
    "data = {\n",
    "    \"name\":\"Alex\",\n",
    "    \"age\":\"20\",\n",
    "    \"score\":{\n",
    "        \"离散数学\":100,\n",
    "        \"大学物理\":100,\n",
    "        \"概率论与数理统计\":100,\n",
    "    }\n",
    "}\n",
    "\n",
    "data2 = data"
   ]
  },
  {
   "cell_type": "code",
   "execution_count": 17,
   "metadata": {},
   "outputs": [
    {
     "name": "stdout",
     "output_type": "stream",
     "text": [
      "140683879346736\n",
      "140683879346736\n"
     ]
    }
   ],
   "source": [
    "print(id(data))\n",
    "print(id(data2))"
   ]
  },
  {
   "cell_type": "markdown",
   "metadata": {},
   "source": [
    "**此时data2和data共享同一份数据的**"
   ]
  },
  {
   "cell_type": "markdown",
   "metadata": {},
   "source": [
    "## 浅拷贝\n",
    "\n",
    "数据半共享\n",
    "\n",
    "复制其数据独立内存存放，但是只拷贝成功第一层"
   ]
  },
  {
   "cell_type": "code",
   "execution_count": 18,
   "metadata": {},
   "outputs": [],
   "source": [
    "data3 = data.copy()\n",
    "data3[\"name\"] = \"Mike\"\n",
    "data3[\"score\"][\"离散数学\"] = 90"
   ]
  },
  {
   "cell_type": "code",
   "execution_count": 22,
   "metadata": {},
   "outputs": [
    {
     "name": "stdout",
     "output_type": "stream",
     "text": [
      "{'name': 'Alex', 'age': '20', 'score': {'离散数学': 90, '大学物理': 100, '概率论与数理统计': 100}}\n",
      "{'name': 'Mike', 'age': '20', 'score': {'离散数学': 90, '大学物理': 100, '概率论与数理统计': 100}}\n",
      "\n",
      "140683879346736\n",
      "140683879347456\n",
      "\n",
      "94116178738752\n",
      "94116178738752\n"
     ]
    }
   ],
   "source": [
    "print(data)\n",
    "print(data3)\n",
    "\n",
    "print()\n",
    "print(id(data))\n",
    "print(id(data3))\n",
    "\n",
    "print()\n",
    "print(id(data[\"score\"][\"离散数学\"]))\n",
    "print(id(data3[\"score\"][\"离散数学\"]))"
   ]
  },
  {
   "cell_type": "markdown",
   "metadata": {},
   "source": [
    "**copy一份新的数据，但只是copy了第一层的浅copy**"
   ]
  },
  {
   "cell_type": "markdown",
   "metadata": {},
   "source": [
    "## 深拷贝\n",
    "\n",
    "数据完全不共享\n",
    "\n",
    "复制其数据完完全全放独立的一个内存，完全拷贝，数据不共享"
   ]
  },
  {
   "cell_type": "code",
   "execution_count": 23,
   "metadata": {},
   "outputs": [],
   "source": [
    "import copy\n",
    "\n",
    "data4 = copy.deepcopy(data)\n",
    "data4[\"name\"] = \"Tom\"\n",
    "data4[\"score\"][\"离散数学\"] = 80"
   ]
  },
  {
   "cell_type": "code",
   "execution_count": 24,
   "metadata": {},
   "outputs": [
    {
     "name": "stdout",
     "output_type": "stream",
     "text": [
      "{'name': 'Alex', 'age': '20', 'score': {'离散数学': 90, '大学物理': 100, '概率论与数理统计': 100}}\n",
      "{'name': 'Tom', 'age': '20', 'score': {'离散数学': 80, '大学物理': 100, '概率论与数理统计': 100}}\n",
      "\n",
      "140683879346736\n",
      "140683884432432\n",
      "\n",
      "94116178738752\n",
      "94116178738432\n"
     ]
    }
   ],
   "source": [
    "print(data)\n",
    "print(data4)\n",
    "\n",
    "print()\n",
    "print(id(data))\n",
    "print(id(data4))\n",
    "\n",
    "print()\n",
    "print(id(data[\"score\"][\"离散数学\"]))\n",
    "print(id(data4[\"score\"][\"离散数学\"]))"
   ]
  },
  {
   "cell_type": "markdown",
   "metadata": {},
   "source": [
    "**完全复制一份新的数据**"
   ]
  },
  {
   "cell_type": "markdown",
   "metadata": {},
   "source": [
    "# 函数"
   ]
  },
  {
   "cell_type": "markdown",
   "metadata": {},
   "source": [
    "## 函数的返回值\n",
    "\n",
    "函数需要先定义后调用，函数体中 return 语句的结果就是返回值。\n",
    "\n",
    "如果一个函数没有 reutrn 语句，其实它有一个隐含的 return 语句，返回值是 None，类型也是 'NoneType'。\n",
    "\n",
    "return 语句的作用：结束函数调用、返回值。\n",
    "\n",
    "如果有多个返回值，使用逗号分割，将返回元组的形式。\n",
    "\n",
    "一个函数可以存在多条 return 语句，但只有一条可以被执行，如果没有一条 reutrn 语句被执行，同样会隐式调用 return None 作为返回值\n",
    "\n",
    "如果函数执行了 return 语句，函数会立刻返回，结束调用，return 之后的其它语句都不会被执行了"
   ]
  },
  {
   "cell_type": "markdown",
   "metadata": {},
   "source": [
    "## 嵌套函数\n",
    "\n",
    "函数的嵌套是指在\"函数中再定义其它函数\"。\n",
    "\n",
    "也就是说:函数嵌套允许在一个函数中调用另外一个函数。"
   ]
  },
  {
   "cell_type": "markdown",
   "metadata": {},
   "source": [
    "## 局部变量与全局变量\n",
    "\n",
    "当内部作用域想修改外部作用域的变量时，就要用到global和nonlocal关键字\n",
    "\n",
    "当修改的变量是在全局作用域（global作用域）上的，就要使用global先声明一下\n",
    "\n",
    "global关键字声明的变量必须在全局作用域上，不能嵌套作用域上，\n",
    "\n",
    "当要修改嵌套作用域（enclosing作用域，外层非全局作用域）时就需要nonlocal关键字了"
   ]
  },
  {
   "cell_type": "code",
   "execution_count": 27,
   "metadata": {},
   "outputs": [
    {
     "name": "stdout",
     "output_type": "stream",
     "text": [
      "第3层打印 Alex and Coco\n",
      "第2层打印 Coco\n",
      "最外层打印 Alex\n"
     ]
    }
   ],
   "source": [
    "name = \"Alex\"\n",
    "\n",
    "\n",
    "def change():\n",
    "    name = \"Coco\"\n",
    "\n",
    "    def change2():\n",
    "        # global name  如果声明了这句，下面的name改的是最外层的全局变层\n",
    "        name = \"Alex and Coco\"\n",
    "        print(\"第3层打印\", name)\n",
    "\n",
    "    change2()  # 调用内层函数\n",
    "    print(\"第2层打印\", name)\n",
    "\n",
    "\n",
    "change()\n",
    "print(\"最外层打印\", name)"
   ]
  },
  {
   "cell_type": "markdown",
   "metadata": {},
   "source": [
    "## 匿名函数\n",
    "\n",
    "python允许用lambda关键字创造匿名函数。匿名是不需要以标准的方式来声明，比如说使用 def 语句。\n",
    "\n",
    "### 语法\n",
    "\n",
    "lambda [arg1[, arg2, ... argN]]: expression\n",
    "\n",
    "lambda 参数列表 : 表达式\n",
    "\n",
    "1.将创建好的匿名函数通过一个变量来去接收。\n",
    "\n",
    "2.使用变量再去调用匿名函数。\n",
    "\n",
    "### 特点\n",
    "\n",
    "**lambda是一个表达式，而不是一个语句（lambda is an expression, not a statement.）**\n",
    "\n",
    "因此，lambda能够出现在Python语法不允许def出现的地方，例如，在一个列表常量中或者函数调用的参数中。\n",
    "\n",
    "**lambda的主体是一个单个的表达式，而不是一个代码块。（lambda's body is a single expression, not a block of statements.）**\n",
    "\n",
    "lambda里面的语句相当于def中return中的代码一样。\n",
    "\n",
    "只能是简单的表达式，所以说lambda的能力小于def，在lambda中只能使用简单的语法，不能使用if else while return等语句。\n",
    "\n",
    "**lambda是一个为编写简单的函数而设计的，而def用来处理更大的任务。（lambda is designed for coding simple functions, and def handles larger tasks.）**\n",
    "\n",
    "**lambda函数拥有自己的名字空间，且不能访问参数列表之外或全局名字空间里的参数。**"
   ]
  },
  {
   "cell_type": "code",
   "execution_count": 28,
   "metadata": {},
   "outputs": [
    {
     "name": "stdout",
     "output_type": "stream",
     "text": [
      "<class 'map'>\n",
      "1\n",
      "27\n",
      "125\n",
      "343\n",
      "81\n"
     ]
    }
   ],
   "source": [
    "map_temp = map(lambda x: x ** 2 if x > 7 else x ** 3, [1, 3, 5, 7, 9])\n",
    "\n",
    "print(map)\n",
    "\n",
    "for i in map_temp:\n",
    "    print(i)"
   ]
  },
  {
   "cell_type": "markdown",
   "metadata": {},
   "source": [
    "## 高阶函数  Higher-order function"
   ]
  },
  {
   "cell_type": "markdown",
   "metadata": {},
   "source": [
    "### 变量可以指向函数"
   ]
  },
  {
   "cell_type": "code",
   "execution_count": 29,
   "metadata": {},
   "outputs": [
    {
     "data": {
      "text/plain": [
       "7"
      ]
     },
     "execution_count": 29,
     "metadata": {},
     "output_type": "execute_result"
    }
   ],
   "source": [
    "abs(-7)"
   ]
  },
  {
   "cell_type": "code",
   "execution_count": 30,
   "metadata": {},
   "outputs": [
    {
     "data": {
      "text/plain": [
       "7"
      ]
     },
     "execution_count": 30,
     "metadata": {},
     "output_type": "execute_result"
    }
   ],
   "source": [
    "temp = abs\n",
    "temp(-7)"
   ]
  },
  {
   "cell_type": "markdown",
   "metadata": {},
   "source": [
    "**函数本身也可以赋值给变量，即：变量可以指向函数。**"
   ]
  },
  {
   "cell_type": "markdown",
   "metadata": {},
   "source": [
    "### 传入函数\n",
    "\n",
    "既然变量可以指向函数，函数的参数能接收变量，那么一个函数就可以接收另一个函数作为参数，这种函数就称之为高阶函数。"
   ]
  },
  {
   "cell_type": "code",
   "execution_count": 31,
   "metadata": {},
   "outputs": [
    {
     "name": "stdout",
     "output_type": "stream",
     "text": [
      "11\n"
     ]
    }
   ],
   "source": [
    "def add(x, y, f):\n",
    "    return f(x) + f(y)\n",
    "\n",
    "print(add(-5, 6, abs))"
   ]
  },
  {
   "cell_type": "markdown",
   "metadata": {},
   "source": [
    "**把函数作为参数传入，这样的函数称为高阶函数，函数式编程就是指这种高度抽象的编程范式。**"
   ]
  },
  {
   "cell_type": "markdown",
   "metadata": {},
   "source": [
    "## 名称空间\n",
    "\n",
    "全局名称空间：创建的存储“变量名与值的关系”的空间叫做全局名称空间\n",
    "\n",
    "局部名称空间：在函数的运行中开辟的临时的空间叫做局部名称空间\n",
    "\n",
    "内置名称空间：内置名称空间中存放了python解释器为我们提供的名字\n",
    "\n",
    "#### python中的作用域分4种情况：\n",
    "\n",
    "###### L\n",
    "\n",
    "local，局部作用域，即函数中定义的变量；\n",
    "\n",
    "函数内部的名称空间，一般包括函数的局部变量以及形式参数。\n",
    "\n",
    "###### E\n",
    "\n",
    "enclosing，嵌套的父级函数的局部作用域，即包含此函数的上级函数的局部作用域，但不是全局的（闭包常见）；\n",
    "\n",
    "###### G\n",
    "\n",
    "globals，全局变量，就是模块级别定义的变量；\n",
    "\n",
    "###### B\n",
    "\n",
    "built-in，系统固定模块里面的变量，内置模块空间，也就是内置变量或者内置函数的名字空间。。\n",
    "\n",
    "\n",
    "不同变量的作用域不同就是由这个变量所在的名称空间决定的。\n",
    "\n",
    "当然，local 和 enclosing 是相对的，enclosing 变量相对上层来说也是 local 。\n",
    "\n",
    "#### 作用域查找顺序\n",
    "\n",
    "加载变量的优先级顺序依次是：py 内置作用域>当前模块中的全局（文件从上而下读取）>外层作用域>局部作用域\n",
    "\n",
    "搜索变量的优先级顺序依次是：作用域局部>外层作用域>当前模块中的全局>python内置作用域，也就是LEGB。"
   ]
  },
  {
   "cell_type": "code",
   "execution_count": 25,
   "metadata": {},
   "outputs": [
    {
     "name": "stdout",
     "output_type": "stream",
     "text": [
      "{'name': 'Coco', 'age': 19}\n",
      "{'__name__': '__main__', '__doc__': 'Automatically created module for IPython interactive environment', '__package__': None, '__loader__': None, '__spec__': None, '__builtin__': <module 'builtins' (built-in)>, '__builtins__': <module 'builtins' (built-in)>, '_ih': ['', 'string = \"我是Alex，天天007， 天天很开心\"', 'string.encode(\"utf-8\")', '\"我是Alex\".encode(\"utf-8\")', 'string.encode(\"gbk\")', '\"我是Alex\".encode(\"utf-8\")', 'string.encode(\"gbk\")', '\"我是Alex\".encode(\"gbk\")', 'file = open(\"GBK_file\", \"wb\")\\nstring = \"我是Alex，天天007， 天天很开心\"\\nfile.write(string.encode(gbk))\\nfile.close()', 'file = open(\"GBK_file\", \"wb\")\\nstring = \"我是Alex，天天007， 天天很开心\"\\nfile.write(string.encode(\"gbk\"))\\nfile.close()', \"get_ipython().system('cat GBK_file')\", 'file = open(\"GBK_file\", \"rb\")\\nstring_bytes = file.read()\\nprint(string_bytes)', 'file = open(\"GBK_file\", \"rb\")\\nstring_bytes = file.read()\\nprint(string_bytes)\\nfile.close()', 'file = open(\"UTF-8_file\", \"wb\")\\nfile.write(file.read().decode(\"gbk\").encode(\"utf-8\"))\\nfile.close()', 'file = open(\"UTF-8_file\", \"wb\")\\nfile.write(string_bytes.decode(\"gbk\").encode(\"utf-8\"))\\nfile.close()', \"get_ipython().system('cat UTF-8_file')\", 'data = {\\n    \"name\":\"Alex\",\\n    \"age\":\"20\",\\n    \"score\":{\\n        \"离散数学\":100,\\n        \"大学物理\":100,\\n        \"概率论与数理统计\":100,\\n    }\\n}\\n\\ndata2 = data', 'print(id(data))\\nprint(id(data2))', 'data3 = data.copy()\\ndata3[\"name\"] = \"Mike\"\\ndata3[\"score\"][\"离散数学\"] = 90', 'print(data)\\nprint(data3)\\n\\nprint(id(data))\\nprint(id(data3))', 'print(data)\\nprint(data3)\\n\\nprint(id(data))\\nprint(id(data3))\\n\\nprint(id(data[\"score\"][\"离散数学\"]))\\nprint(id(data3[\"score\"][\"离散数学\"]))', 'print(data)\\nprint(data3)\\n\\nprint(id(data))\\nprint(id(data3))\\nprint()\\nprint(id(data[\"score\"][\"离散数学\"]))\\nprint(id(data3[\"score\"][\"离散数学\"]))', 'print(data)\\nprint(data3)\\n\\nprint()\\nprint(id(data))\\nprint(id(data3))\\n\\nprint()\\nprint(id(data[\"score\"][\"离散数学\"]))\\nprint(id(data3[\"score\"][\"离散数学\"]))', 'import copy\\n\\ndata4 = copy.deepcopy(data)\\ndata4[\"name\"] = \"Tom\"\\ndata4[\"score\"][\"离散数学\"] = 80', 'print(data)\\nprint(data4)\\n\\nprint()\\nprint(id(data))\\nprint(id(data4))\\n\\nprint()\\nprint(id(data[\"score\"][\"离散数学\"]))\\nprint(id(data4[\"score\"][\"离散数学\"]))', 'name = \"Alex\"\\n\\n\\ndef change():\\n    name = \"Coco\"\\n    age = 19\\n    print(locals())     # 打印所有的局部变量\\n    print(globals())    # 打印所有的全局变量\\n    print(name, id(name))\\n\\n\\nchange()\\nprint(name, id(name))'], '_oh': {2: b'\\xe6\\x88\\x91\\xe6\\x98\\xafAlex\\xef\\xbc\\x8c\\xe5\\xa4\\xa9\\xe5\\xa4\\xa9007\\xef\\xbc\\x8c \\xe5\\xa4\\xa9\\xe5\\xa4\\xa9\\xe5\\xbe\\x88\\xe5\\xbc\\x80\\xe5\\xbf\\x83', 3: b'\\xe6\\x88\\x91\\xe6\\x98\\xafAlex', 4: b'\\xce\\xd2\\xca\\xc7Alex\\xa3\\xac\\xcc\\xec\\xcc\\xec007\\xa3\\xac \\xcc\\xec\\xcc\\xec\\xba\\xdc\\xbf\\xaa\\xd0\\xc4', 5: b'\\xe6\\x88\\x91\\xe6\\x98\\xafAlex', 6: b'\\xce\\xd2\\xca\\xc7Alex\\xa3\\xac\\xcc\\xec\\xcc\\xec007\\xa3\\xac \\xcc\\xec\\xcc\\xec\\xba\\xdc\\xbf\\xaa\\xd0\\xc4', 7: b'\\xce\\xd2\\xca\\xc7Alex'}, '_dh': ['/media/alex/新加卷/PythonProject/PythonFullStack/第二模块_函数编程'], 'In': ['', 'string = \"我是Alex，天天007， 天天很开心\"', 'string.encode(\"utf-8\")', '\"我是Alex\".encode(\"utf-8\")', 'string.encode(\"gbk\")', '\"我是Alex\".encode(\"utf-8\")', 'string.encode(\"gbk\")', '\"我是Alex\".encode(\"gbk\")', 'file = open(\"GBK_file\", \"wb\")\\nstring = \"我是Alex，天天007， 天天很开心\"\\nfile.write(string.encode(gbk))\\nfile.close()', 'file = open(\"GBK_file\", \"wb\")\\nstring = \"我是Alex，天天007， 天天很开心\"\\nfile.write(string.encode(\"gbk\"))\\nfile.close()', \"get_ipython().system('cat GBK_file')\", 'file = open(\"GBK_file\", \"rb\")\\nstring_bytes = file.read()\\nprint(string_bytes)', 'file = open(\"GBK_file\", \"rb\")\\nstring_bytes = file.read()\\nprint(string_bytes)\\nfile.close()', 'file = open(\"UTF-8_file\", \"wb\")\\nfile.write(file.read().decode(\"gbk\").encode(\"utf-8\"))\\nfile.close()', 'file = open(\"UTF-8_file\", \"wb\")\\nfile.write(string_bytes.decode(\"gbk\").encode(\"utf-8\"))\\nfile.close()', \"get_ipython().system('cat UTF-8_file')\", 'data = {\\n    \"name\":\"Alex\",\\n    \"age\":\"20\",\\n    \"score\":{\\n        \"离散数学\":100,\\n        \"大学物理\":100,\\n        \"概率论与数理统计\":100,\\n    }\\n}\\n\\ndata2 = data', 'print(id(data))\\nprint(id(data2))', 'data3 = data.copy()\\ndata3[\"name\"] = \"Mike\"\\ndata3[\"score\"][\"离散数学\"] = 90', 'print(data)\\nprint(data3)\\n\\nprint(id(data))\\nprint(id(data3))', 'print(data)\\nprint(data3)\\n\\nprint(id(data))\\nprint(id(data3))\\n\\nprint(id(data[\"score\"][\"离散数学\"]))\\nprint(id(data3[\"score\"][\"离散数学\"]))', 'print(data)\\nprint(data3)\\n\\nprint(id(data))\\nprint(id(data3))\\nprint()\\nprint(id(data[\"score\"][\"离散数学\"]))\\nprint(id(data3[\"score\"][\"离散数学\"]))', 'print(data)\\nprint(data3)\\n\\nprint()\\nprint(id(data))\\nprint(id(data3))\\n\\nprint()\\nprint(id(data[\"score\"][\"离散数学\"]))\\nprint(id(data3[\"score\"][\"离散数学\"]))', 'import copy\\n\\ndata4 = copy.deepcopy(data)\\ndata4[\"name\"] = \"Tom\"\\ndata4[\"score\"][\"离散数学\"] = 80', 'print(data)\\nprint(data4)\\n\\nprint()\\nprint(id(data))\\nprint(id(data4))\\n\\nprint()\\nprint(id(data[\"score\"][\"离散数学\"]))\\nprint(id(data4[\"score\"][\"离散数学\"]))', 'name = \"Alex\"\\n\\n\\ndef change():\\n    name = \"Coco\"\\n    age = 19\\n    print(locals())     # 打印所有的局部变量\\n    print(globals())    # 打印所有的全局变量\\n    print(name, id(name))\\n\\n\\nchange()\\nprint(name, id(name))'], 'Out': {2: b'\\xe6\\x88\\x91\\xe6\\x98\\xafAlex\\xef\\xbc\\x8c\\xe5\\xa4\\xa9\\xe5\\xa4\\xa9007\\xef\\xbc\\x8c \\xe5\\xa4\\xa9\\xe5\\xa4\\xa9\\xe5\\xbe\\x88\\xe5\\xbc\\x80\\xe5\\xbf\\x83', 3: b'\\xe6\\x88\\x91\\xe6\\x98\\xafAlex', 4: b'\\xce\\xd2\\xca\\xc7Alex\\xa3\\xac\\xcc\\xec\\xcc\\xec007\\xa3\\xac \\xcc\\xec\\xcc\\xec\\xba\\xdc\\xbf\\xaa\\xd0\\xc4', 5: b'\\xe6\\x88\\x91\\xe6\\x98\\xafAlex', 6: b'\\xce\\xd2\\xca\\xc7Alex\\xa3\\xac\\xcc\\xec\\xcc\\xec007\\xa3\\xac \\xcc\\xec\\xcc\\xec\\xba\\xdc\\xbf\\xaa\\xd0\\xc4', 7: b'\\xce\\xd2\\xca\\xc7Alex'}, 'get_ipython': <bound method InteractiveShell.get_ipython of <ipykernel.zmqshell.ZMQInteractiveShell object at 0x7ff3994219d0>>, 'exit': <IPython.core.autocall.ZMQExitAutocall object at 0x7ff396f68d10>, 'quit': <IPython.core.autocall.ZMQExitAutocall object at 0x7ff396f68d10>, '_': b'\\xce\\xd2\\xca\\xc7Alex', '__': b'\\xce\\xd2\\xca\\xc7Alex\\xa3\\xac\\xcc\\xec\\xcc\\xec007\\xa3\\xac \\xcc\\xec\\xcc\\xec\\xba\\xdc\\xbf\\xaa\\xd0\\xc4', '___': b'\\xe6\\x88\\x91\\xe6\\x98\\xafAlex', 'sys': <module 'sys' (built-in)>, '_pydevd_bundle': <module '_pydevd_bundle' from '/media/alex/新加卷/Jetbrains/apps/PyCharm-P/ch-0/193.5662.61/plugins/python/helpers/pydev/_pydevd_bundle/__init__.py'>, 'pydev_jupyter_vars': <module 'pydev_jupyter_vars' from '/media/alex/新加卷/Jetbrains/apps/PyCharm-P/ch-0/193.5662.61/plugins/python/helpers-pro/jupyter_debug/pydev_jupyter_vars.py'>, '_i': 'print(data)\\nprint(data4)\\n\\nprint()\\nprint(id(data))\\nprint(id(data4))\\n\\nprint()\\nprint(id(data[\"score\"][\"离散数学\"]))\\nprint(id(data4[\"score\"][\"离散数学\"]))', '_ii': 'import copy\\n\\ndata4 = copy.deepcopy(data)\\ndata4[\"name\"] = \"Tom\"\\ndata4[\"score\"][\"离散数学\"] = 80', '_iii': 'print(data)\\nprint(data3)\\n\\nprint()\\nprint(id(data))\\nprint(id(data3))\\n\\nprint()\\nprint(id(data[\"score\"][\"离散数学\"]))\\nprint(id(data3[\"score\"][\"离散数学\"]))', '_i1': 'string = \"我是Alex，天天007， 天天很开心\"', 'string': '我是Alex，天天007， 天天很开心', '_i2': 'string.encode(\"utf-8\")', '_2': b'\\xe6\\x88\\x91\\xe6\\x98\\xafAlex\\xef\\xbc\\x8c\\xe5\\xa4\\xa9\\xe5\\xa4\\xa9007\\xef\\xbc\\x8c \\xe5\\xa4\\xa9\\xe5\\xa4\\xa9\\xe5\\xbe\\x88\\xe5\\xbc\\x80\\xe5\\xbf\\x83', '_i3': '\"我是Alex\".encode(\"utf-8\")', '_3': b'\\xe6\\x88\\x91\\xe6\\x98\\xafAlex', '_i4': 'string.encode(\"gbk\")', '_4': b'\\xce\\xd2\\xca\\xc7Alex\\xa3\\xac\\xcc\\xec\\xcc\\xec007\\xa3\\xac \\xcc\\xec\\xcc\\xec\\xba\\xdc\\xbf\\xaa\\xd0\\xc4', '_i5': '\"我是Alex\".encode(\"utf-8\")', '_5': b'\\xe6\\x88\\x91\\xe6\\x98\\xafAlex', '_i6': 'string.encode(\"gbk\")', '_6': b'\\xce\\xd2\\xca\\xc7Alex\\xa3\\xac\\xcc\\xec\\xcc\\xec007\\xa3\\xac \\xcc\\xec\\xcc\\xec\\xba\\xdc\\xbf\\xaa\\xd0\\xc4', '_i7': '\"我是Alex\".encode(\"gbk\")', '_7': b'\\xce\\xd2\\xca\\xc7Alex', '_i8': 'file = open(\"GBK_file\", \"wb\")\\nstring = \"我是Alex，天天007， 天天很开心\"\\nfile.write(string.encode(gbk))\\nfile.close()', 'file': <_io.BufferedWriter name='UTF-8_file'>, '_i9': 'file = open(\"GBK_file\", \"wb\")\\nstring = \"我是Alex，天天007， 天天很开心\"\\nfile.write(string.encode(\"gbk\"))\\nfile.close()', '_i10': '!cat GBK_file', '_exit_code': 0, '_i11': 'file = open(\"GBK_file\", \"rb\")\\nstring_bytes = file.read()\\nprint(string_bytes)', 'string_bytes': b'\\xce\\xd2\\xca\\xc7Alex\\xa3\\xac\\xcc\\xec\\xcc\\xec007\\xa3\\xac \\xcc\\xec\\xcc\\xec\\xba\\xdc\\xbf\\xaa\\xd0\\xc4', '_i12': 'file = open(\"GBK_file\", \"rb\")\\nstring_bytes = file.read()\\nprint(string_bytes)\\nfile.close()', '_i13': 'file = open(\"UTF-8_file\", \"wb\")\\nfile.write(file.read().decode(\"gbk\").encode(\"utf-8\"))\\nfile.close()', '_i14': 'file = open(\"UTF-8_file\", \"wb\")\\nfile.write(string_bytes.decode(\"gbk\").encode(\"utf-8\"))\\nfile.close()', '_i15': '!cat UTF-8_file', '_i16': 'data = {\\n    \"name\":\"Alex\",\\n    \"age\":\"20\",\\n    \"score\":{\\n        \"离散数学\":100,\\n        \"大学物理\":100,\\n        \"概率论与数理统计\":100,\\n    }\\n}\\n\\ndata2 = data', 'data': {'name': 'Alex', 'age': '20', 'score': {'离散数学': 90, '大学物理': 100, '概率论与数理统计': 100}}, 'data2': {'name': 'Alex', 'age': '20', 'score': {'离散数学': 90, '大学物理': 100, '概率论与数理统计': 100}}, '_i17': 'print(id(data))\\nprint(id(data2))', '_i18': 'data3 = data.copy()\\ndata3[\"name\"] = \"Mike\"\\ndata3[\"score\"][\"离散数学\"] = 90', 'data3': {'name': 'Mike', 'age': '20', 'score': {'离散数学': 90, '大学物理': 100, '概率论与数理统计': 100}}, '_i19': 'print(data)\\nprint(data3)\\n\\nprint(id(data))\\nprint(id(data3))', '_i20': 'print(data)\\nprint(data3)\\n\\nprint(id(data))\\nprint(id(data3))\\n\\nprint(id(data[\"score\"][\"离散数学\"]))\\nprint(id(data3[\"score\"][\"离散数学\"]))', '_i21': 'print(data)\\nprint(data3)\\n\\nprint(id(data))\\nprint(id(data3))\\nprint()\\nprint(id(data[\"score\"][\"离散数学\"]))\\nprint(id(data3[\"score\"][\"离散数学\"]))', '_i22': 'print(data)\\nprint(data3)\\n\\nprint()\\nprint(id(data))\\nprint(id(data3))\\n\\nprint()\\nprint(id(data[\"score\"][\"离散数学\"]))\\nprint(id(data3[\"score\"][\"离散数学\"]))', '_i23': 'import copy\\n\\ndata4 = copy.deepcopy(data)\\ndata4[\"name\"] = \"Tom\"\\ndata4[\"score\"][\"离散数学\"] = 80', 'copy': <module 'copy' from '/home/alex/anaconda3/lib/python3.7/copy.py'>, 'data4': {'name': 'Tom', 'age': '20', 'score': {'离散数学': 80, '大学物理': 100, '概率论与数理统计': 100}}, '_i24': 'print(data)\\nprint(data4)\\n\\nprint()\\nprint(id(data))\\nprint(id(data4))\\n\\nprint()\\nprint(id(data[\"score\"][\"离散数学\"]))\\nprint(id(data4[\"score\"][\"离散数学\"]))', '_i25': 'name = \"Alex\"\\n\\n\\ndef change():\\n    name = \"Coco\"\\n    age = 19\\n    print(locals())     # 打印所有的局部变量\\n    print(globals())    # 打印所有的全局变量\\n    print(name, id(name))\\n\\n\\nchange()\\nprint(name, id(name))', 'name': 'Alex', 'change': <function change at 0x7ff384d23290>}\n",
      "Coco 140683879201840\n",
      "Alex 140683879747952\n"
     ]
    }
   ],
   "source": [
    "name = \"Alex\"\n",
    "\n",
    "\n",
    "def change():\n",
    "    name = \"Coco\"\n",
    "    age = 19\n",
    "    print(locals())     # 打印所有的局部变量\n",
    "    print(globals())    # 打印所有的全局变量\n",
    "    print(name, id(name))\n",
    "\n",
    "\n",
    "change()\n",
    "print(name, id(name))"
   ]
  },
  {
   "cell_type": "markdown",
   "metadata": {},
   "source": [
    "# 闭包\n",
    "\n",
    "在计算机科学中，闭包（英语：Closure），又称词法闭包（Lexical Closure）或函数闭包（function closures），是引用了自由变量的函数。\n",
    "\n",
    "这个被引用的自由变量将和这个函数一同存在，即使已经离开了创造它的环境也不例外。\n",
    "\n",
    "所以，有另一种说法认为闭包是由函数和与其相关的引用环境组合而成的实体。\n",
    "\n",
    "闭包在运行时可以有多个实例，不同的引用环境和相同的函数组合可以产生不同的实例。\n",
    "\n",
    "---\n",
    "\n",
    "关于闭包，即函数定义和函数表达式位于另一个函数的函数体内（嵌套函数）。\n",
    "\n",
    "而且，这些内部函数可以访问它们所在的外部函数中声明的所有局部变量、参数。\n",
    "\n",
    "当其中一个这样的内部函数在包含它们的外部函数之外被调用时，就会形成闭包。\n",
    "\n",
    "也就是说，内部函数会在外部函数返回后被执行。\n",
    "\n",
    "而当这个内部函数执行时，它仍然必需访问其外部函数的局部变量、参数以及其它内部函数。\n",
    "\n",
    "这些局部变量、参数和函数声明（最初时）的值时外部函数返回时的值，但也会受到内部函数的影响。\n",
    "\n",
    "**闭包的意义：返回的函数对象，不仅仅是一个函数对象，在该函数外包裹了一层作用域，这使得该函数无论在何处调用，优先使用自己外层包裹的作用域。**"
   ]
  },
  {
   "cell_type": "code",
   "execution_count": 32,
   "metadata": {},
   "outputs": [
    {
     "name": "stdout",
     "output_type": "stream",
     "text": [
      "Inner Alex\n"
     ]
    }
   ],
   "source": [
    "def outer():\n",
    "    name = \"Alex\"\n",
    "\n",
    "    def inner():\n",
    "        print(\"Inner\",name)\n",
    "\n",
    "    return inner\n",
    "\n",
    "\n",
    "func = outer()  # 返回的是inner的内存地址， inner\n",
    "\n",
    "func() #inner()"
   ]
  },
  {
   "cell_type": "markdown",
   "metadata": {},
   "source": [
    "C++中有static关键字，函数中的static关键字定义的变量独立于函数之外，而且会保留函数中值的变化。\n",
    "\n",
    "函数中使用的全局变量也有类似的性质。"
   ]
  },
  {
   "cell_type": "code",
   "execution_count": 35,
   "metadata": {},
   "outputs": [
    {
     "name": "stdout",
     "output_type": "stream",
     "text": [
      "clo_func_0 loc_list = [1]\n",
      "clo_func_0 loc_list = [1, 2]\n",
      "clo_func_0 loc_list = [1, 2, 3]\n",
      "clo_func_1 loc_list = [1]\n",
      "clo_func_0 loc_list = [1, 2, 3, 4]\n",
      "clo_func_1 loc_list = [1, 2]\n"
     ]
    }
   ],
   "source": [
    "def outer_func():\n",
    "    loc_list = []\n",
    "    def inner_func(name):\n",
    "        loc_list.append(len(loc_list) + 1)\n",
    "        print ('%s loc_list = %s' %(name, loc_list))\n",
    "    return inner_func\n",
    "\n",
    "clo_func_0 = outer_func()\n",
    "\n",
    "clo_func_0('clo_func_0')\n",
    "clo_func_0('clo_func_0')\n",
    "clo_func_0('clo_func_0')\n",
    "\n",
    "clo_func_1 = outer_func()\n",
    "\n",
    "clo_func_1('clo_func_1')\n",
    "\n",
    "clo_func_0('clo_func_0')\n",
    "\n",
    "clo_func_1('clo_func_1')"
   ]
  },
  {
   "cell_type": "markdown",
   "metadata": {},
   "source": [
    "运行的结果也说明了闭包函数中引用的父函数中local variable既不具有C++中的全局变量的性质也没有static变量的行为。\n",
    "\n",
    "在python中称上面的这个loc_list为闭包函数inner_func的一个自由变量(free variable)。"
   ]
  },
  {
   "cell_type": "markdown",
   "metadata": {},
   "source": [
    "闭包中引用的自由变量有如下的认识：\n",
    "\n",
    "    闭包中的引用的自由变量只和具体的闭包有关联，闭包的每个实例引用的自由变量互不干扰。\n",
    "  \n",
    "    一个闭包实例对其自由变量的修改会被传递到下一次该闭包实例的调用。"
   ]
  },
  {
   "cell_type": "markdown",
   "metadata": {},
   "source": [
    "### 闭包陷阱"
   ]
  },
  {
   "cell_type": "code",
   "execution_count": 36,
   "metadata": {},
   "outputs": [
    {
     "name": "stdout",
     "output_type": "stream",
     "text": [
      "4\n",
      "4\n",
      "4\n"
     ]
    }
   ],
   "source": [
    "def my_func(*args):\n",
    "    fs = []\n",
    "    for i in range(3):\n",
    "        def func():\n",
    "            return i * i\n",
    "        fs.append(func)\n",
    "    return fs\n",
    "\n",
    "fs1, fs2, fs3 = my_func()\n",
    "print(fs1())\n",
    "print(fs2())\n",
    "print(fs3())"
   ]
  },
  {
   "cell_type": "markdown",
   "metadata": {},
   "source": [
    "这个例子中，my_func返回的并不是一个闭包函数，而是一个包含三个闭包函数的一个list。\n",
    "\n",
    "这个例子中比较特殊的地方就是返回的所有闭包函数均引用父函数中定义的同一个自由变量。\n",
    "\n",
    "---\n",
    "\n",
    "但这里的问题是为什么for循环中的变量变化会影响到所有的闭包函数？\n",
    "\n",
    "其实问题的关键就在于在返回闭包列表fs之前for循环的变量的值已经发生改变了，而且这个改变会影响到所有引用它的内部定义的函数。\n",
    "\n",
    "因为在函数my_func返回前其内部定义的函数并不是闭包函数，只是一个内部定义的函数。\n",
    "\n",
    "当然这个内部函数引用的父函数中定义的变量也不是自由变量，而只是当前block中的一个local variable。\n",
    "\n",
    "---\n",
    "\n",
    "**返回闭包中不要引用任何循环变量，或者后续会发生变化的变量。**"
   ]
  },
  {
   "cell_type": "markdown",
   "metadata": {},
   "source": [
    "###### 正确写法\n",
    "\n",
    "正确的做法便是将父函数的local variable赋值给函数的形参。\n",
    "\n",
    "函数定义时，对形参的不同赋值会保留在当前函数定义中，不会对其他函数有影响。\n",
    "\n",
    "另外注意一点，如果返回的函数中没有引用父函数中定义的local variable，那么返回的函数不是闭包函数。"
   ]
  },
  {
   "cell_type": "code",
   "execution_count": 41,
   "metadata": {},
   "outputs": [
    {
     "name": "stdout",
     "output_type": "stream",
     "text": [
      "0\n",
      "1\n",
      "4\n"
     ]
    }
   ],
   "source": [
    "def my_func(*args):\n",
    "    fs = []\n",
    "    for i in range(3):\n",
    "        func = lambda _i = i : _i * _i\n",
    "        fs.append(func)\n",
    "    return fs\n",
    "\n",
    "fs1, fs2, fs3 = my_func()\n",
    "print(fs1())\n",
    "print(fs2())\n",
    "print(fs3())"
   ]
  },
  {
   "cell_type": "markdown",
   "metadata": {},
   "source": [
    "## 闭包的应用\n",
    "\n",
    "自由变元可以记录闭包函数被调用的信息，以及闭包函数的一些计算结果中间值。\n",
    "\n",
    "而且被自由变量记录的值，在下次调用闭包函数时依旧有效。\n",
    "\n",
    "如果我们想对一个函数或者类进行修改重定义，最简单的方法就是直接修改其定义。\n",
    "\n",
    "但是这种做法的缺点也是显而易见的：\n",
    "\n",
    "    可能看不到函数或者类的定义\n",
    "\n",
    "    会破坏原来的定义，导致原来对类的引用不兼容\n",
    "\n",
    "    如果多人想在原来的基础上定制自己函数，很容易冲突"
   ]
  },
  {
   "cell_type": "markdown",
   "metadata": {},
   "source": [
    "# 函数进阶——装饰器"
   ]
  },
  {
   "cell_type": "markdown",
   "metadata": {},
   "source": [
    "装饰器(Decorators)是 Python 的一个重要部分。\n",
    "\n",
    "简单地说：装饰器是修改其他函数的功能的函数。\n",
    "\n",
    "装饰器有助于让我们的代码更简短，也更Pythonic（Python范儿）。\n",
    "\n",
    "---\n",
    "\n",
    "软件开发中的一个原则：“开放——封闭”原则：\n",
    "\n",
    "    封闭：已实现的功能代码块不应该被修改\n",
    "    \n",
    "    开放：对现有功能的扩展开放\n",
    "\n",
    "---\n",
    "\n",
    " python 中装饰器做的事情是封装一个函数，并且用这样或者那样的方式来修改它的行为。"
   ]
  },
  {
   "cell_type": "code",
   "execution_count": 42,
   "metadata": {},
   "outputs": [
    {
     "name": "stdout",
     "output_type": "stream",
     "text": [
      "---首页----\n",
      "user:alex\n",
      "password:abc123\n",
      "welcome login....\n",
      "----欧美专区----\n",
      "用户已登录，验证通过...\n",
      "解锁本专区所有高级玩法\n"
     ]
    }
   ],
   "source": [
    "account = {\n",
    "    \"is_authenticated\": False,   # 用户登录了就把这个改成True\n",
    "    \"username\": \"alex\",          # 假装这是DB里存的用户信息\n",
    "    \"password\": \"abc123\"         # 假装这是DB里存的用户信息\n",
    "}\n",
    "\n",
    "\n",
    "def login(func):\n",
    "    def inner(*args, **kwargs):\n",
    "        if account[\"is_authenticated\"] is False:\n",
    "            username = input(\"user:\")\n",
    "            password = input(\"password:\")\n",
    "            if username == account[\"username\"] and password == account[\"password\"]:\n",
    "                print(\"welcome login....\")\n",
    "                account[\"is_authenticated\"] = True\n",
    "                func(*args, **kwargs)  # 认证成功，执行功能函数\n",
    "            else:\n",
    "                print(\"wrong username or password!\")\n",
    "        else:\n",
    "            print(\"用户已登录，验证通过...\")\n",
    "            func(*args, **kwargs)  # 认证成功，执行功能函数\n",
    "\n",
    "    return inner\n",
    "\n",
    "\n",
    "def home():\n",
    "    print(\"---首页----\")\n",
    "\n",
    "\n",
    "@login\n",
    "def america():\n",
    "    # login()  # 执行前加上验证\n",
    "    print(\"----欧美专区----\")\n",
    "\n",
    "\n",
    "def japan():\n",
    "    print(\"----日韩专区----\")\n",
    "\n",
    "\n",
    "# @pay_money\n",
    "@login  # 装饰器， 语法糖\n",
    "def henan(vip_level):\n",
    "    # login()  # 执行前加上验证\n",
    "    if vip_level > 3:\n",
    "        print(\"解锁本专区所有高级玩法\")\n",
    "    else:\n",
    "        print(\"----河南专区vip----\")\n",
    "\n",
    "\n",
    "# america = login(america) # inner 的内存地址\n",
    "# henan = login(henan)\n",
    "\n",
    "\n",
    "home()\n",
    "america()  # inner()\n",
    "henan(4)  # inner(4)"
   ]
  },
  {
   "cell_type": "markdown",
   "metadata": {},
   "source": [
    "## 列表生成式"
   ]
  },
  {
   "cell_type": "code",
   "execution_count": 43,
   "metadata": {},
   "outputs": [
    {
     "data": {
      "text/plain": [
       "[1, 4, 9, 16, 25, 36, 49, 64, 81, 100]"
      ]
     },
     "execution_count": 43,
     "metadata": {},
     "output_type": "execute_result"
    }
   ],
   "source": [
    "[x * x for x in range(1, 11)]"
   ]
  },
  {
   "cell_type": "code",
   "execution_count": 44,
   "metadata": {},
   "outputs": [
    {
     "data": {
      "text/plain": [
       "[4, 16, 36, 64, 100]"
      ]
     },
     "execution_count": 44,
     "metadata": {},
     "output_type": "execute_result"
    }
   ],
   "source": [
    "[x * x for x in range(1, 11) if x % 2 == 0]"
   ]
  },
  {
   "cell_type": "code",
   "execution_count": 45,
   "metadata": {},
   "outputs": [
    {
     "data": {
      "text/plain": [
       "['AX', 'AY', 'AZ', 'BX', 'BY', 'BZ', 'CX', 'CY', 'CZ']"
      ]
     },
     "execution_count": 45,
     "metadata": {},
     "output_type": "execute_result"
    }
   ],
   "source": [
    "[m + n for m in 'ABC' for n in 'XYZ']"
   ]
  },
  {
   "cell_type": "code",
   "execution_count": 46,
   "metadata": {},
   "outputs": [
    {
     "data": {
      "text/plain": [
       "['x=A', 'y=B', 'z=C']"
      ]
     },
     "execution_count": 46,
     "metadata": {},
     "output_type": "execute_result"
    }
   ],
   "source": [
    "d = {'x': 'A', 'y': 'B', 'z': 'C' }\n",
    "[k + '=' + v for k, v in d.items()]"
   ]
  },
  {
   "cell_type": "markdown",
   "metadata": {},
   "source": [
    "# 生成器\n",
    "\n",
    "如果列表元素可以按照某种算法推算出来，在循环的过程中不断推算出后续的元素，这样就不必创建完整的list，从而节省大量的空间。\n",
    "\n",
    "在Python中，这种一边循环一边计算的机制，称为生成器：generator。"
   ]
  },
  {
   "cell_type": "markdown",
   "metadata": {},
   "source": [
    "### 创建生成器"
   ]
  },
  {
   "cell_type": "markdown",
   "metadata": {},
   "source": [
    "#### 1 列表生成式"
   ]
  },
  {
   "cell_type": "code",
   "execution_count": 47,
   "metadata": {},
   "outputs": [
    {
     "data": {
      "text/plain": [
       "[0, 1, 4, 9, 16, 25, 36, 49, 64, 81]"
      ]
     },
     "execution_count": 47,
     "metadata": {},
     "output_type": "execute_result"
    }
   ],
   "source": [
    "[x * x for x in range(10)]"
   ]
  },
  {
   "cell_type": "code",
   "execution_count": 51,
   "metadata": {},
   "outputs": [],
   "source": [
    "g = (x * x for x in range(10))"
   ]
  },
  {
   "cell_type": "code",
   "execution_count": 52,
   "metadata": {},
   "outputs": [
    {
     "data": {
      "text/plain": [
       "0"
      ]
     },
     "execution_count": 52,
     "metadata": {},
     "output_type": "execute_result"
    }
   ],
   "source": [
    "g\n",
    "\n",
    "next(g)"
   ]
  },
  {
   "cell_type": "code",
   "execution_count": 53,
   "metadata": {},
   "outputs": [
    {
     "data": {
      "text/plain": [
       "9"
      ]
     },
     "execution_count": 53,
     "metadata": {},
     "output_type": "execute_result"
    }
   ],
   "source": [
    "next(g)\n",
    "\n",
    "next(g)\n",
    "\n",
    "next(g)"
   ]
  },
  {
   "cell_type": "markdown",
   "metadata": {},
   "source": [
    "generator保存的是算法，每次调用next(g)，就计算出g的下一个元素的值，直到计算到最后一个元素，没有更多的元素时，抛出StopIteration的错误。"
   ]
  },
  {
   "cell_type": "code",
   "execution_count": 54,
   "metadata": {},
   "outputs": [
    {
     "name": "stdout",
     "output_type": "stream",
     "text": [
      "0\n",
      "1\n",
      "4\n",
      "9\n",
      "16\n",
      "25\n",
      "36\n",
      "49\n",
      "64\n",
      "81\n"
     ]
    }
   ],
   "source": [
    "g = (x * x for x in range(10))\n",
    "for i in g:\n",
    "    print(i)"
   ]
  },
  {
   "cell_type": "markdown",
   "metadata": {},
   "source": [
    "#### 2 函数生成器\n",
    "\n",
    "函数定义中包含yield关键字，那么这个函数就不再是一个普通函数，而是一个generator。"
   ]
  },
  {
   "cell_type": "code",
   "execution_count": 56,
   "metadata": {},
   "outputs": [],
   "source": [
    "def fib(max):\n",
    "    n, a, b = 0, 0, 1\n",
    "    while n < max:\n",
    "        yield b\n",
    "        a, b = b, a + b\n",
    "        n += 1\n",
    "    return \"done\""
   ]
  },
  {
   "cell_type": "code",
   "execution_count": 57,
   "metadata": {},
   "outputs": [
    {
     "data": {
      "text/plain": [
       "<generator object fib at 0x7ff377df5ad0>"
      ]
     },
     "execution_count": 57,
     "metadata": {},
     "output_type": "execute_result"
    }
   ],
   "source": [
    "func = fib(7)\n",
    "\n",
    "func"
   ]
  },
  {
   "cell_type": "markdown",
   "metadata": {},
   "source": [
    "generator和函数的执行流程不一样。\n",
    "\n",
    "函数是顺序执行，遇到return语句或者最后一行函数语句就返回。\n",
    "\n",
    "而变成generator的函数，在每次调用next()的时候执行，遇到yield语句返回，再次执行时从上次返回的yield语句处继续执行。"
   ]
  },
  {
   "cell_type": "code",
   "execution_count": 58,
   "metadata": {},
   "outputs": [],
   "source": [
    "def odd():\n",
    "    print('step 1')\n",
    "    yield 1\n",
    "    print('step 2')\n",
    "    yield(3)\n",
    "    print('step 3')\n",
    "    yield(5)"
   ]
  },
  {
   "cell_type": "code",
   "execution_count": 59,
   "metadata": {},
   "outputs": [],
   "source": [
    "test = odd()"
   ]
  },
  {
   "cell_type": "code",
   "execution_count": 60,
   "metadata": {},
   "outputs": [
    {
     "name": "stdout",
     "output_type": "stream",
     "text": [
      "step 1\n"
     ]
    },
    {
     "data": {
      "text/plain": [
       "1"
      ]
     },
     "execution_count": 60,
     "metadata": {},
     "output_type": "execute_result"
    }
   ],
   "source": [
    "next(test)"
   ]
  },
  {
   "cell_type": "code",
   "execution_count": 61,
   "metadata": {},
   "outputs": [
    {
     "name": "stdout",
     "output_type": "stream",
     "text": [
      "step 2\n"
     ]
    },
    {
     "data": {
      "text/plain": [
       "3"
      ]
     },
     "execution_count": 61,
     "metadata": {},
     "output_type": "execute_result"
    }
   ],
   "source": [
    "next(test)"
   ]
  },
  {
   "cell_type": "code",
   "execution_count": 62,
   "metadata": {},
   "outputs": [
    {
     "name": "stdout",
     "output_type": "stream",
     "text": [
      "step 3\n"
     ]
    },
    {
     "data": {
      "text/plain": [
       "5"
      ]
     },
     "execution_count": 62,
     "metadata": {},
     "output_type": "execute_result"
    }
   ],
   "source": [
    "next(test)"
   ]
  },
  {
   "cell_type": "code",
   "execution_count": 63,
   "metadata": {},
   "outputs": [
    {
     "ename": "StopIteration",
     "evalue": "",
     "output_type": "error",
     "traceback": [
      "\u001b[0;31m---------------------------------------------------------------------------\u001b[0m",
      "\u001b[0;31mStopIteration\u001b[0m                             Traceback (most recent call last)",
      "\u001b[0;32m<ipython-input-63-0b4bc1fdfd69>\u001b[0m in \u001b[0;36m<module>\u001b[0;34m\u001b[0m\n\u001b[0;32m----> 1\u001b[0;31m \u001b[0mnext\u001b[0m\u001b[0;34m(\u001b[0m\u001b[0mtest\u001b[0m\u001b[0;34m)\u001b[0m\u001b[0;34m\u001b[0m\u001b[0;34m\u001b[0m\u001b[0m\n\u001b[0m",
      "\u001b[0;31mStopIteration\u001b[0m: "
     ]
    }
   ],
   "source": [
    "next(test)"
   ]
  },
  {
   "cell_type": "code",
   "execution_count": 64,
   "metadata": {},
   "outputs": [
    {
     "name": "stdout",
     "output_type": "stream",
     "text": [
      "value:  1\n",
      "value:  1\n",
      "value:  2\n",
      "value:  3\n",
      "value:  5\n",
      "value:  8\n",
      "value:  13\n",
      "Generator return value:  done\n"
     ]
    }
   ],
   "source": [
    "func = fib(7)\n",
    "\n",
    "while True:\n",
    "    try:\n",
    "        print(\"value: \", next(func))\n",
    "    except StopIteration as val:\n",
    "        print(\"Generator return value: \", val.value)\n",
    "        break"
   ]
  },
  {
   "cell_type": "markdown",
   "metadata": {},
   "source": [
    "# 迭代器\n",
    "\n",
    "可以直接作用于for循环的数据类型有以下几种：\n",
    "\n",
    "一类是集合数据类型，如list、tuple、dict、set、str等；\n",
    "\n",
    "一类是generator，包括生成器和带yield的generator function。\n",
    "\n",
    "这些可以直接作用于for循环的对象统称为可迭代对象：Iterable。\n",
    "\n",
    "可以使用isinstance()判断一个对象是否是Iterable对象："
   ]
  },
  {
   "cell_type": "code",
   "execution_count": 67,
   "metadata": {},
   "outputs": [],
   "source": [
    "from collections import Iterable"
   ]
  },
  {
   "cell_type": "code",
   "execution_count": 66,
   "metadata": {},
   "outputs": [
    {
     "data": {
      "text/plain": [
       "True"
      ]
     },
     "execution_count": 66,
     "metadata": {},
     "output_type": "execute_result"
    }
   ],
   "source": [
    "isinstance({}, Iterable)"
   ]
  },
  {
   "cell_type": "code",
   "execution_count": 68,
   "metadata": {},
   "outputs": [
    {
     "data": {
      "text/plain": [
       "True"
      ]
     },
     "execution_count": 68,
     "metadata": {},
     "output_type": "execute_result"
    }
   ],
   "source": [
    "isinstance([], Iterable)"
   ]
  },
  {
   "cell_type": "code",
   "execution_count": 69,
   "metadata": {},
   "outputs": [
    {
     "data": {
      "text/plain": [
       "True"
      ]
     },
     "execution_count": 69,
     "metadata": {},
     "output_type": "execute_result"
    }
   ],
   "source": [
    "isinstance(\"Alex\", Iterable)"
   ]
  },
  {
   "cell_type": "code",
   "execution_count": 70,
   "metadata": {},
   "outputs": [
    {
     "data": {
      "text/plain": [
       "True"
      ]
     },
     "execution_count": 70,
     "metadata": {},
     "output_type": "execute_result"
    }
   ],
   "source": [
    "isinstance((x for x in range(7)), Iterable)"
   ]
  },
  {
   "cell_type": "code",
   "execution_count": 72,
   "metadata": {},
   "outputs": [
    {
     "data": {
      "text/plain": [
       "False"
      ]
     },
     "execution_count": 72,
     "metadata": {},
     "output_type": "execute_result"
    }
   ],
   "source": [
    "isinstance(777, Iterable)"
   ]
  },
  {
   "cell_type": "markdown",
   "metadata": {},
   "source": [
    "而生成器不但可以作用于for循环，还可以被next()函数不断调用并返回下一个值，直到最后抛出StopIteration错误表示无法继续返回下一个值了。\n",
    "\n",
    "可以被next()函数调用并不断返回下一个值的对象称为迭代器：Iterator。\n",
    "\n",
    "可以使用isinstance()判断一个对象是否是Iterator对象："
   ]
  },
  {
   "cell_type": "code",
   "execution_count": 74,
   "metadata": {},
   "outputs": [
    {
     "name": "stderr",
     "output_type": "stream",
     "text": [
      "/home/alex/anaconda3/lib/python3.7/site-packages/ipykernel_launcher.py:1: DeprecationWarning: Using or importing the ABCs from 'collections' instead of from 'collections.abc' is deprecated, and in 3.8 it will stop working\n",
      "  \"\"\"Entry point for launching an IPython kernel.\n"
     ]
    }
   ],
   "source": [
    "from collections import Iterator"
   ]
  },
  {
   "cell_type": "code",
   "execution_count": 76,
   "metadata": {},
   "outputs": [
    {
     "data": {
      "text/plain": [
       "False"
      ]
     },
     "execution_count": 76,
     "metadata": {},
     "output_type": "execute_result"
    }
   ],
   "source": [
    "isinstance([], Iterator)"
   ]
  },
  {
   "cell_type": "code",
   "execution_count": 77,
   "metadata": {},
   "outputs": [
    {
     "data": {
      "text/plain": [
       "False"
      ]
     },
     "execution_count": 77,
     "metadata": {},
     "output_type": "execute_result"
    }
   ],
   "source": [
    "isinstance({}, Iterator)"
   ]
  },
  {
   "cell_type": "code",
   "execution_count": 78,
   "metadata": {},
   "outputs": [
    {
     "data": {
      "text/plain": [
       "True"
      ]
     },
     "execution_count": 78,
     "metadata": {},
     "output_type": "execute_result"
    }
   ],
   "source": [
    "isinstance((x for x in range(7)), Iterator)"
   ]
  },
  {
   "cell_type": "markdown",
   "metadata": {},
   "source": [
    "生成器都是Iterator对象，但list、dict、str虽然是Iterable，却不是Iterator。\n",
    "\n",
    "把list、dict、str等Iterable变成Iterator可以使用iter()函数："
   ]
  },
  {
   "cell_type": "code",
   "execution_count": 79,
   "metadata": {},
   "outputs": [
    {
     "data": {
      "text/plain": [
       "True"
      ]
     },
     "execution_count": 79,
     "metadata": {},
     "output_type": "execute_result"
    }
   ],
   "source": [
    "isinstance(iter([]), Iterator)"
   ]
  },
  {
   "cell_type": "code",
   "execution_count": 80,
   "metadata": {},
   "outputs": [
    {
     "data": {
      "text/plain": [
       "True"
      ]
     },
     "execution_count": 80,
     "metadata": {},
     "output_type": "execute_result"
    }
   ],
   "source": [
    "isinstance(iter('abc'), Iterator)"
   ]
  },
  {
   "cell_type": "markdown",
   "metadata": {},
   "source": [
    "###### 为什么list、dict、str等数据类型不是Iterator？\n",
    "\n",
    "这是因为Python的Iterator对象表示的是一个数据流，Iterator对象可以被next()函数调用并不断返回下一个数据，直到没有数据时抛出StopIteration错误。\n",
    "\n",
    "可以把这个数据流看做是一个有序序列，但我们却不能提前知道序列的长度，只能不断通过next()函数实现按需计算下一个数据，所以Iterator的计算是惰性的，只有在需要返回下一个数据时它才会计算。\n",
    "\n",
    "Iterator甚至可以表示一个无限大的数据流，例如全体自然数。\n",
    "\n",
    "而使用list是永远不可能存储全体自然数的。"
   ]
  },
  {
   "cell_type": "markdown",
   "metadata": {},
   "source": [
    "**凡是可作用于for循环的对象都是Iterable类型；**\n",
    "\n",
    "**凡是可作用于next()函数的对象都是Iterator类型，它们表示一个惰性计算的序列；**\n",
    "\n",
    "**集合数据类型如list、dict、str等是Iterable但不是Iterator，不过可以通过iter()函数获得一个Iterator对象。**\n",
    "\n",
    "**Python的for循环本质上就是通过不断调用next()函数实现的**"
   ]
  },
  {
   "cell_type": "markdown",
   "metadata": {},
   "source": [
    "# 模块"
   ]
  },
  {
   "cell_type": "markdown",
   "metadata": {},
   "source": [
    "## 模块介绍与引入\n",
    "\n",
    "### 什么是模块\n",
    "\n",
    "为了编写可维护的代码，把很多函数分组，分别放到不同的文件里，这样，每个文件包含的代码就相对较少。\n",
    "\n",
    "很多编程语言都采用这种组织代码的方式，在python中,一个.py文件就可以称之为一个模块(Model)。\n",
    "\n",
    "### 模块的好处\n",
    "\n",
    "1.提高了代码的可维护性\n",
    "\n",
    "2.模块可以被其它地方引用\n",
    "\n",
    "3.模块可以避免函数名和变量名冲突\n",
    "\n",
    "### 模块的分类\n",
    "\n",
    "#### 标准内置模块\n",
    "\n",
    "python自带的模块，不需要安装包，直接import就可以使用。\n",
    "\n",
    "https://docs.python.org/zh-cn/3.7/library/index.html\n",
    "\n",
    "#### 第三方模块\n",
    "\n",
    "第三方开源模块通常需要自己去下载。\n",
    "\n",
    "https://pypi.org/\n",
    "\n",
    "1、pip安装第三发模块\n",
    "\n",
    "    pip install xxx\n",
    "\n",
    "2、手动安装:\n",
    "\n",
    "      （1）下载.whl文件\n",
    "\n",
    "      pip install e:\\\\dowload\\\\pymysql.whl\n",
    "\n",
    "      （2）下载　.tar.gz文件\n",
    "\n",
    "      ---解压\n",
    "\n",
    "      ---进入目录执行 python setup.py install pymysql.tar.gz\n",
    "      （3） 源码编译安装\n",
    "        从官网上下载源码，解压并进入目录，执行以下命令：\n",
    "\n",
    "        编译源码：python setup.py bulid\n",
    "\n",
    "        安装源码：python setup.py install\n",
    "\n",
    "\n",
    "3、列出当前装了哪些模块\n",
    "\n",
    "    pip list\n",
    "\n",
    "4、导出当前已经安装的模块\n",
    "\n",
    "    freeze > 第三方模块.txt\n",
    "\n",
    "5、指定文件批量安装模块\n",
    "\n",
    "    pip install -r 第三方模块.txt\n",
    "\n",
    "#### 自定义模块\n",
    "\n",
    "自己写的实现自己某些功能的.py文件集合。"
   ]
  },
  {
   "cell_type": "markdown",
   "metadata": {},
   "source": [
    "\n",
    "### 模块的导入\n",
    "\n",
    "**注意：模块一旦被调用，即相当于执行了另一个py文件里的代码。**"
   ]
  },
  {
   "cell_type": "code",
   "execution_count": null,
   "metadata": {},
   "outputs": [],
   "source": [
    "import module\n",
    "\n",
    "from module import function\n",
    "\n",
    "from bag.module import function"
   ]
  },
  {
   "cell_type": "markdown",
   "metadata": {},
   "source": [
    "## 操作系统接口模块——OS"
   ]
  },
  {
   "cell_type": "markdown",
   "metadata": {},
   "source": [
    "该模块提供了一些方便使用操作系统相关功能的函数。"
   ]
  },
  {
   "cell_type": "code",
   "execution_count": 85,
   "metadata": {},
   "outputs": [],
   "source": [
    "import os"
   ]
  },
  {
   "cell_type": "markdown",
   "metadata": {},
   "source": [
    "#### os.access() 方法——检验权限模式\n",
    "\n",
    "##### 概述\n",
    "os.access() 方法使用当前的uid/gid尝试访问路径。\n",
    "\n",
    "大部分操作使用有效的 uid/gid, 因此运行环境可以在 suid/sgid 环境尝试。\n",
    "\n",
    "##### 语法\n",
    "\n",
    "access()方法语法格式如下：\n",
    "\n",
    "os.access(path, mode);\n",
    "\n",
    "##### 参数\n",
    "path -- 要用来检测是否有访问权限的路径。\n",
    "\n",
    "mode -- mode为F_OK，测试存在的路径，或者它可以是包含R_OK, W_OK和X_OK或者R_OK, W_OK和X_OK其中之一或者更多。\n",
    "\n",
    "os.F_OK: 作为access()的mode参数，测试path是否存在。\n",
    "\n",
    "os.R_OK: 包含在access()的mode参数中，测试path是否可读。\n",
    "\n",
    "os.W_OK 包含在access()的mode参数中，测试path是否可写。\n",
    "\n",
    "os.X_OK 包含在access()的mode参数中，测试path是否可执行。\n",
    "\n",
    "##### 返回值\n",
    "\n",
    "如果允许访问返回 True , 否则返回False。"
   ]
  },
  {
   "cell_type": "code",
   "execution_count": 88,
   "metadata": {},
   "outputs": [
    {
     "name": "stdout",
     "output_type": "stream",
     "text": [
      "F_OK - 返回值 True\n",
      "R_OK - 返回值 False\n",
      "W_OK - 返回值 False\n",
      "X_OK - 返回值 False\n"
     ]
    }
   ],
   "source": [
    "ret = os.access(\"/media/alex/新加卷/PythonProject/PythonFullStack/第二模块_函数编程/NoteBook.ipynb\", os.F_OK)\n",
    "print (\"F_OK - 返回值 %s\"% ret)\n",
    "\n",
    "ret = os.access(\"/tmp/foo.txt\", os.R_OK)\n",
    "print (\"R_OK - 返回值 %s\"% ret)\n",
    "\n",
    "ret = os.access(\"/tmp/foo.txt\", os.W_OK)\n",
    "print (\"W_OK - 返回值 %s\"% ret)\n",
    "\n",
    "ret = os.access(\"/tmp/foo.txt\", os.X_OK)\n",
    "print (\"X_OK - 返回值 %s\"% ret)"
   ]
  },
  {
   "cell_type": "markdown",
   "metadata": {},
   "source": [
    "#### os.chdir() 方法——改变当前工作目录\n",
    "\n",
    "##### 概述\n",
    "\n",
    "os.chdir() 方法用于改变当前工作目录到指定的路径。\n",
    "\n",
    "##### 语法\n",
    "\n",
    "chdir()方法语法格式如下：\n",
    "\n",
    "os.chdir(path)\n",
    "\n",
    "##### 参数\n",
    "\n",
    "path -- 要切换到的新路径。\n",
    "\n",
    "##### 返回值\n",
    "\n",
    "如果允许访问返回 True , 否则返回False。"
   ]
  },
  {
   "cell_type": "code",
   "execution_count": 97,
   "metadata": {},
   "outputs": [
    {
     "name": "stdout",
     "output_type": "stream",
     "text": [
      "当前工作目录为 /home/alex\n",
      "当前目录更改为 /media/alex/新加卷/PythonProject/PythonFullStack/第二模块_函数编程\n"
     ]
    }
   ],
   "source": [
    "path = \"/media/alex/新加卷/PythonProject/PythonFullStack/第二模块_函数编程/\"\n",
    "\n",
    "print(\"当前工作目录为\", os.getcwd())\n",
    "\n",
    "os.chdir(path)\n",
    "\n",
    "print(\"当前目录更改为\", os.getcwd())"
   ]
  },
  {
   "cell_type": "markdown",
   "metadata": {},
   "source": [
    "#### os.chmod() 方法——更改权限\n",
    "\n",
    "##### 概述\n",
    "\n",
    "os.chmod() 方法用于更改文件或目录的权限。\n",
    "\n",
    "Unix 系统可用。\n",
    "\n",
    "##### 语法\n",
    "\n",
    "chmod()方法语法格式如下：\n",
    "\n",
    "os.chmod(path, mode)\n",
    "\n",
    "##### 参数\n",
    "\n",
    "path -- 文件名路径或目录路径。\n",
    "\n",
    "flags -- 可用以下选项按位或操作生成， 目录的读权限表示可以获取目录里文件名列表 ，执行权限表示可以把工作目录切换到此目录 ，删除添加目录里的文件必须同时有写和执行权限，文件权限以用户id->组id->其它顺序检验,最先匹配的允许或禁止权限被应用。\n",
    "\n",
    "stat.S_IXOTH: 其他用户有执行权0o001\n",
    "\n",
    "stat.S_IWOTH: 其他用户有写权限0o002\n",
    "\n",
    "stat.S_IROTH: 其他用户有读权限0o004\n",
    "\n",
    "stat.S_IRWXO: 其他用户有全部权限(权限掩码)0o007\n",
    "\n",
    "stat.S_IXGRP: 组用户有执行权限0o010\n",
    "\n",
    "stat.S_IWGRP: 组用户有写权限0o020\n",
    "\n",
    "stat.S_IRGRP: 组用户有读权限0o040\n",
    "\n",
    "stat.S_IRWXG: 组用户有全部权限(权限掩码)0o070\n",
    "\n",
    "stat.S_IXUSR: 拥有者具有执行权限0o100\n",
    "\n",
    "stat.S_IWUSR: 拥有者具有写权限0o200\n",
    "\n",
    "stat.S_IRUSR: 拥有者具有读权限0o400\n",
    "\n",
    "stat.S_IRWXU: 拥有者有全部权限(权限掩码)0o700\n",
    "\n",
    "stat.S_ISVTX: 目录里文件目录只有拥有者才可删除更改0o1000\n",
    "\n",
    "stat.S_ISGID: 执行此文件其进程有效组为文件所在组0o2000\n",
    "\n",
    "stat.S_ISUID: 执行此文件其进程有效用户为文件所有者0o4000\n",
    "\n",
    "stat.S_IREAD: windows下设为只读\n",
    "\n",
    "stat.S_IWRITE: windows下取消只读\n",
    "\n",
    "##### 返回值\n",
    "\n",
    "该方法没有返回值。"
   ]
  },
  {
   "cell_type": "markdown",
   "metadata": {},
   "source": [
    "#### os.chown() 方法——更改文件所有者\n",
    "\n",
    "##### 概述\n",
    "\n",
    "os.chown() 方法用于更改文件所有者，如果不修改可以设置为 -1, 你需要超级用户权限来执行权限修改操作。\n",
    "\n",
    "只支持在 Unix 下使用。\n",
    "\n",
    "##### 语法\n",
    "\n",
    "chown()方法语法格式如下：\n",
    "\n",
    "os.chown(path, uid, gid);\n",
    "\n",
    "##### 参数\n",
    "\n",
    "path -- 设置权限的文件路径\n",
    "\n",
    "uid -- 所属用户 ID\n",
    "\n",
    "gid -- 所属用户组 ID\n",
    "\n",
    "##### 返回值\n",
    "\n",
    "该方法没有返回值。"
   ]
  },
  {
   "cell_type": "markdown",
   "metadata": {},
   "source": [
    "#### os.getcwd() 方法\n",
    "\n",
    "##### 概述\n",
    "\n",
    "os.getcwd() 方法用于返回当前工作目录。\n",
    "\n",
    "##### 语法\n",
    "\n",
    "getcwd()方法语法格式如下：\n",
    "\n",
    "os.getcwd()\n",
    "\n",
    "##### 参数\n",
    "\n",
    "无\n",
    "\n",
    "##### 返回值\n",
    "\n",
    "返回当前进程的工作目录。"
   ]
  },
  {
   "cell_type": "code",
   "execution_count": 93,
   "metadata": {},
   "outputs": [
    {
     "data": {
      "text/plain": [
       "'/home/alex'"
      ]
     },
     "execution_count": 93,
     "metadata": {},
     "output_type": "execute_result"
    }
   ],
   "source": [
    "os.getcwd()"
   ]
  },
  {
   "cell_type": "markdown",
   "metadata": {},
   "source": [
    "#### os.listdir() 方法——返回path指定的文件夹包含的文件或文件夹的名字的列表。\n",
    "\n",
    "##### 概述\n",
    "\n",
    "os.listdir() 方法用于返回指定的文件夹包含的文件或文件夹的名字的列表。\n",
    "\n",
    "这个列表以字母顺序。 \n",
    "\n",
    "它不包括 '.' 和'..' 即使它在文件夹中。\n",
    "\n",
    "只支持在 Unix, Windows 下使用。\n",
    "\n",
    "##### 语法\n",
    "\n",
    "listdir()方法语法格式如下：\n",
    "\n",
    "os.listdir(path)\n",
    "\n",
    "##### 参数\n",
    "\n",
    "path -- 需要列出的目录路径\n",
    "\n",
    "##### 返回值\n",
    "\n",
    "返回指定路径下的文件和文件夹列表。"
   ]
  },
  {
   "cell_type": "code",
   "execution_count": 95,
   "metadata": {},
   "outputs": [
    {
     "data": {
      "text/plain": [
       "['.PhpStorm2019.3',\n",
       " '.CLion2019.3',\n",
       " 'java_error_in_PYCHARM_2818.log',\n",
       " 'Arduino',\n",
       " 'Videos',\n",
       " 'Public',\n",
       " '.pam_environment',\n",
       " '.IntelliJIdea2019.3',\n",
       " '.sudo_as_admin_successful',\n",
       " '.gnupg',\n",
       " '.java',\n",
       " 'seaborn-data',\n",
       " '.bash_logout',\n",
       " '.mozilla',\n",
       " '.astropy',\n",
       " '.PyCharm2019.3',\n",
       " '.PyCharm2019.2',\n",
       " 'Desktop',\n",
       " '.ssh',\n",
       " 'java_error_in_PYCHARM.hprof',\n",
       " '.sogouinput',\n",
       " '.ICEauthority',\n",
       " '.config',\n",
       " '.thumbnails',\n",
       " 'scikit_learn_data',\n",
       " '.vmware',\n",
       " '.steam',\n",
       " '.cache',\n",
       " 'snap',\n",
       " '.wget-hsts',\n",
       " '.FreeCAD',\n",
       " '.jupyter',\n",
       " '.gradle',\n",
       " '.xinputrc',\n",
       " '.oracle_jre_usage',\n",
       " '.ipython',\n",
       " '.pki',\n",
       " '.presage',\n",
       " '.electron',\n",
       " '.kaggle',\n",
       " '.gitconfig',\n",
       " '.pronsolerc',\n",
       " '.bashrc',\n",
       " '.deepinwine',\n",
       " '.GoLand2019.3',\n",
       " '.arduino15',\n",
       " '.markdownNavigator',\n",
       " '.pronsolerc~bak',\n",
       " '.accelerate',\n",
       " '.vimrc',\n",
       " '.bash_history',\n",
       " '.CLion2019.2',\n",
       " 'anaconda3',\n",
       " '.npmrc',\n",
       " '.viminfo',\n",
       " '.conda',\n",
       " '.pulse-cookie',\n",
       " '.nv',\n",
       " 'Pictures',\n",
       " 'baidunetdisk',\n",
       " 'Templates',\n",
       " '.python_history',\n",
       " '.anydesk',\n",
       " '.gimp-2.8',\n",
       " '.btanks',\n",
       " '.steampid',\n",
       " '.emulator_console_auth_token',\n",
       " '.steampath',\n",
       " 'Music',\n",
       " 'Edraw',\n",
       " '.profile',\n",
       " '.continuum',\n",
       " '.keras',\n",
       " '.npm',\n",
       " '.gmshrc',\n",
       " '.condarc',\n",
       " '.fltk',\n",
       " 'Downloads',\n",
       " '.dbus',\n",
       " 'Documents',\n",
       " '.nvidia-settings-rc',\n",
       " '.pip',\n",
       " 'examples.desktop',\n",
       " '.android',\n",
       " 'baidunetdiskdownload',\n",
       " '.minecraft',\n",
       " '.local',\n",
       " '.purple',\n",
       " '.AndroidStudio3.5']"
      ]
     },
     "execution_count": 95,
     "metadata": {},
     "output_type": "execute_result"
    }
   ],
   "source": [
    "os.listdir()"
   ]
  },
  {
   "cell_type": "markdown",
   "metadata": {},
   "source": [
    "#### os.makedirs() 方法\n",
    "\n",
    "##### 概述\n",
    "\n",
    "os.makedirs() 方法用于递归创建目录。像 mkdir(), 但创建的所有intermediate-level文件夹需要包含子目录。\n",
    "\n",
    "##### 语法\n",
    "\n",
    "makedirs()方法语法格式如下：\n",
    "\n",
    "os.makedirs(path, mode=0o777)\n",
    "\n",
    "##### 参数\n",
    "\n",
    "path -- 需要递归创建的目录。\n",
    "\n",
    "mode -- 权限模式。\n",
    "\n",
    "##### 返回值\n",
    "\n",
    "该方法没有返回值。"
   ]
  },
  {
   "cell_type": "code",
   "execution_count": 100,
   "metadata": {},
   "outputs": [],
   "source": [
    "os.makedirs('/media/alex/新加卷/PythonProject/PythonFullStack/第二模块_函数编程/test_makedirs', 0o777)"
   ]
  },
  {
   "cell_type": "code",
   "execution_count": 101,
   "metadata": {},
   "outputs": [
    {
     "name": "stdout",
     "output_type": "stream",
     "text": [
      "2019-12-30  2020-1-11  2020-1-2  eval_test  NoteBook.ipynb  UTF-8_file\r\n",
      "2020-1-1    2020-1-12  2020-1-8  GBK_file   NoteBook.md     课件\r\n",
      "2020-1-10   2020-1-13  2020-1-9  images     test_makedirs\r\n"
     ]
    }
   ],
   "source": [
    "!ls"
   ]
  },
  {
   "cell_type": "markdown",
   "metadata": {},
   "source": [
    "#### os.mkdir() 方法\n",
    "\n",
    "##### 概述\n",
    "\n",
    "os.mkdir() 方法用于以数字权限模式创建目录。默认的模式为 0777 (八进制)。\n",
    "\n",
    "##### 语法\n",
    "\n",
    "mkdir()方法语法格式如下：\n",
    "\n",
    "os.mkdir(path[, mode])\n",
    "\n",
    "##### 参数\n",
    "\n",
    "path -- 要创建的目录\n",
    "\n",
    "mode -- 要为目录设置的权限数字模式\n",
    "\n",
    "##### 返回值\n",
    "\n",
    "该方法没有返回值。"
   ]
  },
  {
   "cell_type": "code",
   "execution_count": 102,
   "metadata": {},
   "outputs": [],
   "source": [
    "os.mkdir('/media/alex/新加卷/PythonProject/PythonFullStack/第二模块_函数编程/test_mkdir', 0o777)"
   ]
  },
  {
   "cell_type": "code",
   "execution_count": 103,
   "metadata": {},
   "outputs": [
    {
     "name": "stdout",
     "output_type": "stream",
     "text": [
      "2019-12-30  2020-1-11  2020-1-2  eval_test  NoteBook.ipynb  test_mkdir\r\n",
      "2020-1-1    2020-1-12  2020-1-8  GBK_file   NoteBook.md     UTF-8_file\r\n",
      "2020-1-10   2020-1-13  2020-1-9  images     test_makedirs   课件\r\n"
     ]
    }
   ],
   "source": [
    "!ls"
   ]
  },
  {
   "cell_type": "markdown",
   "metadata": {},
   "source": [
    "#### os.open() 方法\n",
    "\n",
    "##### 概述\n",
    "\n",
    "os.open() 方法用于打开一个文件，并且设置需要的打开选项，模式参数mode参数是可选的，默认为 0777。\n",
    "\n",
    "##### 语法\n",
    "\n",
    "open()方法语法格式如下：\n",
    "\n",
    "os.open(file, flags[, mode]);\n",
    "\n",
    "##### 参数\n",
    "\n",
    "file -- 要打开的文件\n",
    "\n",
    "flags -- 该参数可以是以下选项，多个使用 \"|\" 隔开：\n",
    "\n",
    "    os.O_RDONLY: 以只读的方式打开\n",
    "    os.O_WRONLY: 以只写的方式打开\n",
    "    os.O_RDWR : 以读写的方式打开\n",
    "    os.O_NONBLOCK: 打开时不阻塞\n",
    "    os.O_APPEND: 以追加的方式打开\n",
    "    os.O_CREAT: 创建并打开一个新文件\n",
    "    os.O_TRUNC: 打开一个文件并截断它的长度为零（必须有写权限）\n",
    "    os.O_EXCL: 如果指定的文件存在，返回错误\n",
    "    os.O_SHLOCK: 自动获取共享锁\n",
    "    os.O_EXLOCK: 自动获取独立锁\n",
    "    os.O_DIRECT: 消除或减少缓存效果\n",
    "    os.O_FSYNC : 同步写入\n",
    "    os.O_NOFOLLOW: 不追踪软链接\n",
    "\n",
    "mode -- 类似 chmod()。\n",
    "\n",
    "##### 返回值\n",
    "\n",
    "返回新打开文件的描述符。"
   ]
  },
  {
   "cell_type": "code",
   "execution_count": 109,
   "metadata": {},
   "outputs": [
    {
     "ename": "OSError",
     "evalue": "[Errno 9] Bad file descriptor",
     "output_type": "error",
     "traceback": [
      "\u001b[0;31m---------------------------------------------------------------------------\u001b[0m",
      "\u001b[0;31mOSError\u001b[0m                                   Traceback (most recent call last)",
      "\u001b[0;32m<ipython-input-109-852019edf466>\u001b[0m in \u001b[0;36m<module>\u001b[0;34m\u001b[0m\n\u001b[1;32m      1\u001b[0m \u001b[0mfile\u001b[0m \u001b[0;34m=\u001b[0m \u001b[0mos\u001b[0m\u001b[0;34m.\u001b[0m\u001b[0mopen\u001b[0m\u001b[0;34m(\u001b[0m\u001b[0;34m\"eval_test\"\u001b[0m\u001b[0;34m,\u001b[0m \u001b[0mos\u001b[0m\u001b[0;34m.\u001b[0m\u001b[0mO_APPEND\u001b[0m \u001b[0;34m|\u001b[0m \u001b[0mos\u001b[0m\u001b[0;34m.\u001b[0m\u001b[0mO_CREAT\u001b[0m\u001b[0;34m)\u001b[0m\u001b[0;34m\u001b[0m\u001b[0;34m\u001b[0m\u001b[0m\n\u001b[1;32m      2\u001b[0m \u001b[0;34m\u001b[0m\u001b[0m\n\u001b[0;32m----> 3\u001b[0;31m \u001b[0mos\u001b[0m\u001b[0;34m.\u001b[0m\u001b[0mwrite\u001b[0m\u001b[0;34m(\u001b[0m\u001b[0mfile\u001b[0m\u001b[0;34m,\u001b[0m \u001b[0mstr\u001b[0m\u001b[0;34m.\u001b[0m\u001b[0mencode\u001b[0m\u001b[0;34m(\u001b[0m\u001b[0;34m\"This is test\"\u001b[0m\u001b[0;34m)\u001b[0m\u001b[0;34m)\u001b[0m\u001b[0;34m\u001b[0m\u001b[0;34m\u001b[0m\u001b[0m\n\u001b[0m\u001b[1;32m      4\u001b[0m \u001b[0;34m\u001b[0m\u001b[0m\n\u001b[1;32m      5\u001b[0m \u001b[0mos\u001b[0m\u001b[0;34m.\u001b[0m\u001b[0mclose\u001b[0m\u001b[0;34m(\u001b[0m\u001b[0mfile\u001b[0m\u001b[0;34m)\u001b[0m\u001b[0;34m\u001b[0m\u001b[0;34m\u001b[0m\u001b[0m\n",
      "\u001b[0;31mOSError\u001b[0m: [Errno 9] Bad file descriptor"
     ]
    }
   ],
   "source": [
    "file = os.open(\"eval_test\", os.O_APPEND | os.O_CREAT)\n",
    "\n",
    "os.write(file, str.encode(\"This is test\"))\n",
    "\n",
    "os.close(file)"
   ]
  },
  {
   "cell_type": "code",
   "execution_count": 110,
   "metadata": {},
   "outputs": [
    {
     "name": "stdout",
     "output_type": "stream",
     "text": [
      "['Alex', 'Coco', 'Alexander']"
     ]
    }
   ],
   "source": [
    "!cat eval_test"
   ]
  },
  {
   "cell_type": "markdown",
   "metadata": {},
   "source": [
    "#### os.read() 方法\n",
    "\n",
    "##### 概述\n",
    "\n",
    "os.read() 方法用于从文件描述符 fd 中读取最多 n 个字节，返回包含读取字节的字符串，文件描述符 fd对应文件已达到结尾, 返回一个空字符串。\n",
    "\n",
    "在Unix，Windows中有效\n",
    "\n",
    "##### 语法\n",
    "\n",
    "read()方法语法格式如下：\n",
    "\n",
    "os.read(fd,n)\n",
    "\n",
    "##### 参数\n",
    "\n",
    "fd -- 文件描述符。\n",
    "\n",
    "n -- 读取的字节。\n",
    "\n",
    "##### 返回值\n",
    "\n",
    "返回包含读取字节的字符串"
   ]
  },
  {
   "cell_type": "markdown",
   "metadata": {},
   "source": [
    "#### os.remove() 方法\n",
    "\n",
    "##### 概述\n",
    "\n",
    "os.remove() 方法用于删除指定路径的文件。\n",
    "\n",
    "如果指定的路径是一个目录，将抛出OSError。\n",
    "\n",
    "在Unix, Windows中有效\n",
    "\n",
    "##### 语法\n",
    "\n",
    "remove()方法语法格式如下：\n",
    "\n",
    "os.remove(path)\n",
    "\n",
    "##### 参数\n",
    "\n",
    "path -- 要移除的文件路径\n",
    "\n",
    "##### 返回值\n",
    "\n",
    "该方法没有返回值"
   ]
  },
  {
   "cell_type": "markdown",
   "metadata": {},
   "source": [
    "#### os.removedirs() 方法\n",
    "\n",
    "##### 概述\n",
    "\n",
    "os.removedirs() 方法用于递归删除目录。\n",
    "\n",
    "像rmdir(), 如果子文件夹成功删除, removedirs()才尝试它们的父文件夹,直到抛出一个error(它基本上被忽略,因为它一般意味着你文件夹不为空)。\n",
    "\n",
    "##### 语法\n",
    "\n",
    "removedirs()方法语法格式如下：\n",
    "\n",
    "os.removedirs(path)\n",
    "\n",
    "##### 参数\n",
    "\n",
    "path -- 要移除的目录路径\n",
    "\n",
    "##### 返回值\n",
    "\n",
    "该方法没有返回值"
   ]
  },
  {
   "cell_type": "markdown",
   "metadata": {},
   "source": [
    "#### os.rename() 方法\n",
    "\n",
    "##### 概述\n",
    "\n",
    "os.rename() 方法用于命名文件或目录，从 src 到 dst,如果dst是一个存在的目录, 将抛出OSError。\n",
    "\n",
    "##### 语法\n",
    "\n",
    "rename()方法语法格式如下：\n",
    "\n",
    "os.rename(src, dst)\n",
    "\n",
    "##### 参数\n",
    "\n",
    "src -- 要修改的目录名\n",
    "\n",
    "dst -- 修改后的目录名\n",
    "\n",
    "##### 返回值\n",
    "\n",
    "该方法没有返回值"
   ]
  },
  {
   "cell_type": "markdown",
   "metadata": {},
   "source": [
    "#### os.rmdir() 方法\n",
    "\n",
    "##### 概述\n",
    "\n",
    "os.rmdir() 方法用于删除指定路径的目录。\n",
    "\n",
    "仅当这文件夹是空的才可以, 否则, 抛出OSError。\n",
    "\n",
    "##### 语法\n",
    "\n",
    "rmdir()方法语法格式如下：\n",
    "\n",
    "os.rmdir(path)\n",
    "\n",
    "##### 参数\n",
    "\n",
    "path -- 要删除的目录路径\n",
    "\n",
    "##### 返回值\n",
    "\n",
    "该方法没有返回值"
   ]
  },
  {
   "cell_type": "markdown",
   "metadata": {},
   "source": [
    "#### os.path() 模块\n",
    "\n",
    "os.path 模块主要用于获取文件的属性。\n",
    "\n",
    "| 方法 | 说明 |\n",
    "| --- | --- |\n",
    "| os.path.abspath(path) | 返回绝对路径 |\n",
    "| os.path.basename(path) | 返回文件名 |\n",
    "| os.path.commonprefix(list) | 返回list(多个路径)中，所有path共有的最长的路径 |\n",
    "| os.path.dirname(path) | 返回文件路径 |\n",
    "| os.path.exists(path) | 路径存在则返回True,路径损坏返回False |\n",
    "| os.path.lexists | 路径存在则返回True,路径损坏也返回True |\n",
    "| os.path.expanduser(path) | 把path中包含的\"~\"和\"~user\"转换成用户目录 |\n",
    "| os.path.expandvars(path) | 根据环境变量的值替换path中包含的\"$name\"和\"${name}\" |\n",
    "| os.path.getatime(path) | 返回最近访问时间（浮点型秒数） |\n",
    "| os.path.getmtime(path) | 返回最近文件修改时间 |\n",
    "| os.path.getctime(path) | 返回文件 path 创建时间 |\n",
    "| os.path.getsize(path) | 返回文件大小，如果文件不存在就返回错误 |\n",
    "| os.path.isabs(path) | 判断是否为绝对路径 |\n",
    "| os.path.isfile(path) | 判断路径是否为文件 |\n",
    "| os.path.isdir(path) | 判断路径是否为目录 |\n",
    "| os.path.islink(path) | 判断路径是否为链接 |\n",
    "| os.path.ismount(path) | 判断路径是否为挂载点 |\n",
    "| os.path.join(path1[, path2[, ...]]) | 把目录和文件名合成一个路径 |\n",
    "| os.path.normcase(path) | 转换path的大小写和斜杠 |\n",
    "| os.path.normpath(path) | 规范path字符串形式 |\n",
    "| os.path.realpath(path) | 返回path的真实路径 |\n",
    "| os.path.relpath(path[, start])\t | 从start开始计算相对路径 |\n",
    "| os.path.samefile(path1, path2) | 判断目录或文件是否相同 |\n",
    "| os.path.sameopenfile(fp1, fp2) | 判断fp1和fp2是否指向同一文件 |\n",
    "| os.path.samestat(stat1, stat2) | 判断stat tuple stat1和stat2是否指向同一个文件 |\n",
    "| os.path.split(path) | 把路径分割成 dirname 和 basename，返回一个元组 |\n",
    "| os.path.splitdrive(path) | 一般用在 windows 下，返回驱动器名和路径组成的元组 |\n",
    "| os.path.splitext(path) | 分割路径，返回路径名和文件扩展名的元组 |\n",
    "| os.path.splitunc(path) | 把路径分割为加载点与文件 |\n",
    "| os.path.walk(path, visit, arg) | 遍历path，进入每个目录都调用visit函数，visit函数必须有3个参数(arg, dirname, names)，dirname表示当前目录的目录名，names代表当前目录下的所有文件名，args则为walk的第三个参数 |\n",
    "| os.path.supports_unicode_filenames | 设置是否支持unicode路径名 |"
   ]
  },
  {
   "cell_type": "code",
   "execution_count": 112,
   "metadata": {},
   "outputs": [
    {
     "ename": "NameError",
     "evalue": "name '__file__' is not defined",
     "output_type": "error",
     "traceback": [
      "\u001b[0;31m---------------------------------------------------------------------------\u001b[0m",
      "\u001b[0;31mNameError\u001b[0m                                 Traceback (most recent call last)",
      "\u001b[0;32m<ipython-input-112-4f652941e8af>\u001b[0m in \u001b[0;36m<module>\u001b[0;34m\u001b[0m\n\u001b[0;32m----> 1\u001b[0;31m \u001b[0mprint\u001b[0m\u001b[0;34m(\u001b[0m\u001b[0m__file__\u001b[0m\u001b[0;34m)\u001b[0m  \u001b[0;31m# 打印当前脚本所在的路径，包含文件名\u001b[0m\u001b[0;34m\u001b[0m\u001b[0;34m\u001b[0m\u001b[0m\n\u001b[0m\u001b[1;32m      2\u001b[0m \u001b[0;34m\u001b[0m\u001b[0m\n\u001b[1;32m      3\u001b[0m \u001b[0mprint\u001b[0m\u001b[0;34m(\u001b[0m\u001b[0mos\u001b[0m\u001b[0;34m.\u001b[0m\u001b[0mpath\u001b[0m\u001b[0;34m.\u001b[0m\u001b[0mabspath\u001b[0m\u001b[0;34m(\u001b[0m\u001b[0m__file__\u001b[0m\u001b[0;34m)\u001b[0m\u001b[0;34m)\u001b[0m\u001b[0;34m\u001b[0m\u001b[0;34m\u001b[0m\u001b[0m\n",
      "\u001b[0;31mNameError\u001b[0m: name '__file__' is not defined"
     ]
    }
   ],
   "source": [
    "print(__file__)  # 打印当前脚本所在的路径，包含文件名\n",
    "\n",
    "print(os.path.abspath(__file__))"
   ]
  },
  {
   "cell_type": "markdown",
   "metadata": {},
   "source": [
    "## sys"
   ]
  },
  {
   "cell_type": "markdown",
   "metadata": {},
   "source": [
    "| 方法 | 功能 |\n",
    "| --- | --- |\n",
    "|sys.argv    |获取命令行参数列表，第一个元素是程序本身|\n",
    "|sys.exit(n) |退出Python程序，exit(0)表示正常退出。当参数非0时，会引发一个SystemExit异常，可以在程序中捕获该异常|\n",
    "|sys.version |获取Python解释程器的版本信息|\n",
    "|sys.maxsize |最大的Int值，64位平台是2**63 - 1|\n",
    "|sys.path    |返回模块的搜索路径，初始化时使用PYTHONPATH环境变量的值|\n",
    "|sys.platform    |返回操作系统平台名称|\n",
    "|sys.stdin   |输入相关|\n",
    "|sys.stdout  |输出相关|\n",
    "|sys.stderr  |错误相关|\n",
    "|sys.exc_info()  |返回异常信息三元元组|\n",
    "|sys.getdefaultencoding()    |获取系统当前编码，默认为utf-8|\n",
    "|sys.setdefaultencoding()    |设置系统的默认编码|\n",
    "|sys.getfilesystemencoding() |获取文件系统使用编码方式，默认是utf-8|\n",
    "|sys.modules |以字典的形式返回所有当前Python环境中已经导入的模块|\n",
    "|sys.builtin_module_names    |返回一个列表，包含所有已经编译到Python解释器里的模块的名字|\n",
    "|sys.copyright   |当前Python的版权信息|\n",
    "|sys.flags   |命令行标识状态信息列表。只读。|\n",
    "|sys.getrefcount(object) |返回对象的引用数量|\n",
    "|sys.getrecursionlimit() |返回Python最大递归深度，默认1000|\n",
    "|sys.getsizeof(object[, default])    |返回对象的大小|\n",
    "|sys.getswitchinterval() |返回线程切换时间间隔，默认0.005秒|\n",
    "|sys.setswitchinterval(interval) |设置线程切换的时间间隔，单位秒|\n",
    "|sys.getwindowsversion() |返回当前windwos系统的版本信息|\n",
    "|sys.hash_info   |返回Python默认的哈希方法的参数|\n",
    "|sys.implementation  |当前正在运行的Python解释器的具体实现，比如CPython|\n",
    "|sys.thread_info |当前线程信息|"
   ]
  },
  {
   "cell_type": "markdown",
   "metadata": {},
   "source": [
    "## time\n",
    "\n",
    "python中时间的表示方式：\n",
    "\n",
    "    1.时间戳(timestamp)，表示的是从1970年1月1日00:00:00开始按妙计算的偏移量\n",
    "    \n",
    "    2.格式化的时间字符串\n",
    "    \n",
    "    3.元组(struct_time)用九个元素表示时间\n",
    "\n",
    "#### UTC时间\n",
    "\n",
    "UTC亦即格林威治天文时间，世界标准时间。\n",
    "\n",
    "在中国为UTC+8，又称东8区。"
   ]
  },
  {
   "cell_type": "code",
   "execution_count": 113,
   "metadata": {},
   "outputs": [],
   "source": [
    "import time"
   ]
  },
  {
   "cell_type": "code",
   "execution_count": 114,
   "metadata": {},
   "outputs": [
    {
     "data": {
      "text/plain": [
       "1579262703.8547006"
      ]
     },
     "execution_count": 114,
     "metadata": {},
     "output_type": "execute_result"
    }
   ],
   "source": [
    "time.time()"
   ]
  },
  {
   "cell_type": "markdown",
   "metadata": {},
   "source": [
    "时间戳单位最适于做日期运算。\n",
    "\n",
    "但是1970年之前的日期就无法以此表示了。\n",
    "\n",
    "太遥远的日期也不行，UNIX和Windows只支持到2038年。"
   ]
  },
  {
   "cell_type": "markdown",
   "metadata": {},
   "source": [
    "### 什么是时间元组？\n",
    "\n",
    "很多Python函数用一个元组装起来的9组数字处理时间:\n",
    "\n",
    "| 序号 | 字段 | 属性 |\n",
    "| --- | --- | --- |\n",
    "| 0 | 4位数年 | tm_year |\n",
    "| 1 | 月 | tm_mon |\n",
    "| 2 | 日 | tm_mday |\n",
    "| 3 | 小时 | tm_hour |\n",
    "| 4 | 分钟 | tm_min |\n",
    "| 5 | 秒 | tm_sec |\n",
    "| 6 | 一周的第几日 | tm_wday |\n",
    "| 7 | 一年的第几日 | tm_yday |\n",
    "| 8 | 夏令时 | tm_isdst |"
   ]
  },
  {
   "cell_type": "markdown",
   "metadata": {},
   "source": [
    "## 获取当前时间\n",
    "\n",
    "从返回浮点数的时间戳方式向时间元组转换，只要将浮点数传递给如localtime之类的函数。"
   ]
  },
  {
   "cell_type": "code",
   "execution_count": 117,
   "metadata": {},
   "outputs": [
    {
     "name": "stdout",
     "output_type": "stream",
     "text": [
      "time.struct_time(tm_year=2020, tm_mon=1, tm_mday=17, tm_hour=20, tm_min=11, tm_sec=22, tm_wday=4, tm_yday=17, tm_isdst=0)\n"
     ]
    }
   ],
   "source": [
    "localtime = time.localtime(time.time())\n",
    "print(localtime)"
   ]
  },
  {
   "cell_type": "markdown",
   "metadata": {},
   "source": [
    "## 获取格式化的时间\n",
    "\n",
    "你可以根据需求选取各种格式，但是最简单的获取可读的时间模式的函数是asctime():"
   ]
  },
  {
   "cell_type": "code",
   "execution_count": 118,
   "metadata": {},
   "outputs": [
    {
     "name": "stdout",
     "output_type": "stream",
     "text": [
      "Fri Jan 17 20:12:06 2020\n"
     ]
    }
   ],
   "source": [
    "localtime = time.asctime(time.localtime(time.time()))\n",
    "print(localtime)"
   ]
  },
  {
   "cell_type": "markdown",
   "metadata": {},
   "source": [
    "## 格式化日期\n",
    "\n",
    "我们可以使用 time 模块的 strftime 方法来格式化日期。\n",
    "\n",
    "python中时间日期格式化符号：\n",
    "\n",
    "| |  |\n",
    "| --- | --- |\n",
    "|%y |两位数的年份表示（00-99）|\n",
    "|%Y |四位数的年份表示（000-9999）|\n",
    "|%m |月份（01-12）|\n",
    "|%d |月内中的一天（0-31）|\n",
    "|%H |24小时制小时数（0-23）|\n",
    "|%I |12小时制小时数（01-12）|\n",
    "|%M |分钟数（00=59）|\n",
    "|%S |秒（00-59）|\n",
    "|%a |本地简化星期名称|\n",
    "|%A |本地完整星期名称|\n",
    "|%b |本地简化的月份名称|\n",
    "|%B |本地完整的月份名称|\n",
    "|%c |本地相应的日期表示和时间表示|\n",
    "|%j |年内的一天（001-366）|\n",
    "|%p |本地A.M.或P.M.的等价符|\n",
    "|%U |一年中的星期数（00-53）星期天为星期的开始|\n",
    "|%w |星期（0-6），星期天为星期的开始|\n",
    "|%W |一年中的星期数（00-53）星期一为星期的开始|\n",
    "|%x |本地相应的日期表示|\n",
    "|%X |本地相应的时间表示|\n",
    "|%Z |当前时区的名称|\n",
    "|%% |%号本身|"
   ]
  },
  {
   "cell_type": "code",
   "execution_count": 119,
   "metadata": {},
   "outputs": [
    {
     "data": {
      "text/plain": [
       "'2020-01-17 20:13:32'"
      ]
     },
     "execution_count": 119,
     "metadata": {},
     "output_type": "execute_result"
    }
   ],
   "source": [
    "time.strftime(\"%Y-%m-%d %H:%M:%S\", time.localtime())"
   ]
  },
  {
   "cell_type": "code",
   "execution_count": 120,
   "metadata": {},
   "outputs": [
    {
     "data": {
      "text/plain": [
       "'Fri Jan 17 20:13:51 2020'"
      ]
     },
     "execution_count": 120,
     "metadata": {},
     "output_type": "execute_result"
    }
   ],
   "source": [
    "time.strftime(\"%a %b %d %H:%M:%S %Y\", time.localtime()) "
   ]
  },
  {
   "cell_type": "code",
   "execution_count": 121,
   "metadata": {},
   "outputs": [
    {
     "data": {
      "text/plain": [
       "1579263231.0"
      ]
     },
     "execution_count": 121,
     "metadata": {},
     "output_type": "execute_result"
    }
   ],
   "source": [
    "time.mktime(time.strptime(\"Fri Jan 17 20:13:51 2020\",\"%a %b %d %H:%M:%S %Y\"))"
   ]
  },
  {
   "cell_type": "markdown",
   "metadata": {},
   "source": [
    "## Calendar\n",
    "\n",
    "Calendar模块有很广泛的方法用来处理年历和月历，例如打印某月的月历："
   ]
  },
  {
   "cell_type": "code",
   "execution_count": 123,
   "metadata": {},
   "outputs": [
    {
     "name": "stdout",
     "output_type": "stream",
     "text": [
      "    January 2020\n",
      "Mo Tu We Th Fr Sa Su\n",
      "       1  2  3  4  5\n",
      " 6  7  8  9 10 11 12\n",
      "13 14 15 16 17 18 19\n",
      "20 21 22 23 24 25 26\n",
      "27 28 29 30 31\n",
      "\n"
     ]
    }
   ],
   "source": [
    "import calendar\n",
    "\n",
    "print(calendar.month(2020, 1))"
   ]
  },
  {
   "cell_type": "markdown",
   "metadata": {},
   "source": [
    "## datetime"
   ]
  },
  {
   "cell_type": "code",
   "execution_count": 124,
   "metadata": {},
   "outputs": [],
   "source": [
    "import datetime"
   ]
  },
  {
   "cell_type": "code",
   "execution_count": 125,
   "metadata": {},
   "outputs": [
    {
     "data": {
      "text/plain": [
       "datetime.datetime(2020, 1, 17, 20, 21, 25, 479149)"
      ]
     },
     "execution_count": 125,
     "metadata": {},
     "output_type": "execute_result"
    }
   ],
   "source": [
    "datetime.datetime.now()"
   ]
  },
  {
   "cell_type": "code",
   "execution_count": 126,
   "metadata": {},
   "outputs": [
    {
     "name": "stdout",
     "output_type": "stream",
     "text": [
      "2020-01-17 20:21:25.479149\n"
     ]
    }
   ],
   "source": [
    "print(_)"
   ]
  },
  {
   "cell_type": "code",
   "execution_count": 127,
   "metadata": {},
   "outputs": [
    {
     "data": {
      "text/plain": [
       "datetime.datetime(2020, 1, 20, 20, 22, 9, 879747)"
      ]
     },
     "execution_count": 127,
     "metadata": {},
     "output_type": "execute_result"
    }
   ],
   "source": [
    "datetime.datetime.now() + datetime.timedelta(3)"
   ]
  },
  {
   "cell_type": "code",
   "execution_count": 128,
   "metadata": {},
   "outputs": [
    {
     "data": {
      "text/plain": [
       "datetime.datetime(2020, 1, 17, 23, 22, 37, 776842)"
      ]
     },
     "execution_count": 128,
     "metadata": {},
     "output_type": "execute_result"
    }
   ],
   "source": [
    "datetime.datetime.now() + datetime.timedelta(hours = 3)"
   ]
  },
  {
   "cell_type": "code",
   "execution_count": 129,
   "metadata": {},
   "outputs": [
    {
     "data": {
      "text/plain": [
       "datetime.datetime(2020, 1, 17, 20, 25, 58, 630501)"
      ]
     },
     "execution_count": 129,
     "metadata": {},
     "output_type": "execute_result"
    }
   ],
   "source": [
    "datetime.datetime.now() + datetime.timedelta(minutes = 3)"
   ]
  },
  {
   "cell_type": "markdown",
   "metadata": {},
   "source": [
    "## random"
   ]
  },
  {
   "cell_type": "code",
   "execution_count": 130,
   "metadata": {},
   "outputs": [],
   "source": [
    "import random"
   ]
  },
  {
   "cell_type": "code",
   "execution_count": 131,
   "metadata": {},
   "outputs": [
    {
     "data": {
      "text/plain": [
       "37"
      ]
     },
     "execution_count": 131,
     "metadata": {},
     "output_type": "execute_result"
    }
   ],
   "source": [
    "random.randint(1, 70)"
   ]
  },
  {
   "cell_type": "code",
   "execution_count": 133,
   "metadata": {},
   "outputs": [
    {
     "data": {
      "text/plain": [
       "1"
      ]
     },
     "execution_count": 133,
     "metadata": {},
     "output_type": "execute_result"
    }
   ],
   "source": [
    "random.randrange(1, 10, 2)"
   ]
  },
  {
   "cell_type": "code",
   "execution_count": 134,
   "metadata": {},
   "outputs": [
    {
     "data": {
      "text/plain": [
       "0.0022162949345254646"
      ]
     },
     "execution_count": 134,
     "metadata": {},
     "output_type": "execute_result"
    }
   ],
   "source": [
    "random.random()"
   ]
  },
  {
   "cell_type": "code",
   "execution_count": 135,
   "metadata": {},
   "outputs": [
    {
     "data": {
      "text/plain": [
       "'x'"
      ]
     },
     "execution_count": 135,
     "metadata": {},
     "output_type": "execute_result"
    }
   ],
   "source": [
    "random.choice(\"I'm Alex, 19 years old.\")"
   ]
  },
  {
   "cell_type": "code",
   "execution_count": 137,
   "metadata": {},
   "outputs": [
    {
     "data": {
      "text/plain": [
       "['d', 'e', 'o']"
      ]
     },
     "execution_count": 137,
     "metadata": {},
     "output_type": "execute_result"
    }
   ],
   "source": [
    "random.sample(\"I'm Alex, 19 years old.\", 3)"
   ]
  },
  {
   "cell_type": "code",
   "execution_count": 139,
   "metadata": {},
   "outputs": [],
   "source": [
    "import string"
   ]
  },
  {
   "cell_type": "code",
   "execution_count": 142,
   "metadata": {},
   "outputs": [
    {
     "data": {
      "text/plain": [
       "'tuq5j'"
      ]
     },
     "execution_count": 142,
     "metadata": {},
     "output_type": "execute_result"
    }
   ],
   "source": [
    "\"\".join(random.sample(string.digits+string.ascii_lowercase,5))"
   ]
  },
  {
   "cell_type": "code",
   "execution_count": 143,
   "metadata": {},
   "outputs": [
    {
     "data": {
      "text/plain": [
       "'0123456789abcdefghijklmnopqrstuvwxyz'"
      ]
     },
     "execution_count": 143,
     "metadata": {},
     "output_type": "execute_result"
    }
   ],
   "source": [
    "string.digits+string.ascii_lowercase"
   ]
  },
  {
   "cell_type": "code",
   "execution_count": 144,
   "metadata": {},
   "outputs": [
    {
     "name": "stdout",
     "output_type": "stream",
     "text": [
      "[89, 22, 81, 32, 90, 47, 99, 45, 48, 49, 3, 87, 14, 17, 37, 68, 1, 57, 88, 80, 97, 71, 4, 10, 98, 38, 46, 41, 13, 50, 24, 95, 33, 78, 5, 62, 56, 36, 96, 67, 25, 85, 26, 76, 31, 73, 43, 58, 11, 0, 82, 12, 64, 6, 44, 61, 74, 40, 72, 8, 66, 35, 53, 23, 7, 27, 39, 70, 83, 55, 92, 28, 94, 42, 2, 20, 29, 86, 63, 91, 30, 75, 84, 52, 93, 19, 51, 18, 77, 59, 9, 65, 15, 79, 21, 69, 54, 60, 16, 34]\n"
     ]
    }
   ],
   "source": [
    "a = list(range(100))\n",
    "random.shuffle(a)\n",
    "print(a)"
   ]
  },
  {
   "cell_type": "markdown",
   "metadata": {},
   "source": [
    "## pickle"
   ]
  },
  {
   "cell_type": "code",
   "execution_count": 146,
   "metadata": {},
   "outputs": [],
   "source": [
    "import pickle"
   ]
  },
  {
   "cell_type": "code",
   "execution_count": 147,
   "metadata": {},
   "outputs": [],
   "source": [
    "data = {\n",
    "    \"name\":\"Alex\",\n",
    "    \"age\":\"20\",\n",
    "    \"score\":{\n",
    "        \"离散数学\":100,\n",
    "        \"大学物理\":100,\n",
    "        \"概率论与数理统计\":100,\n",
    "    }\n",
    "}"
   ]
  },
  {
   "cell_type": "code",
   "execution_count": 151,
   "metadata": {},
   "outputs": [
    {
     "name": "stdout",
     "output_type": "stream",
     "text": [
      "2020-01-17 20:29:36.813933\n",
      "b'\\x80\\x03cdatetime\\ndatetime\\nq\\x00C\\n\\x07\\xe4\\x01\\x11\\x14\\x1d$\\x0cl\\xddq\\x01\\x85q\\x02Rq\\x03.'\n"
     ]
    }
   ],
   "source": [
    "print(datetime.datetime.now())\n",
    "print(pickle.dumps(datetime.datetime.now()))"
   ]
  },
  {
   "cell_type": "code",
   "execution_count": 152,
   "metadata": {},
   "outputs": [],
   "source": [
    "data_dump = pickle.dumps(data)"
   ]
  },
  {
   "cell_type": "code",
   "execution_count": 153,
   "metadata": {},
   "outputs": [
    {
     "name": "stdout",
     "output_type": "stream",
     "text": [
      "{'name': 'Alex', 'age': '20', 'score': {'离散数学': 100, '大学物理': 100, '概率论与数理统计': 100}}\n"
     ]
    }
   ],
   "source": [
    "print(pickle.loads(data_dump))"
   ]
  },
  {
   "cell_type": "code",
   "execution_count": 154,
   "metadata": {},
   "outputs": [],
   "source": [
    "file = open(\"score.pkl\", \"wb\")\n",
    "file.write(data_dump)\n",
    "file.close()"
   ]
  },
  {
   "cell_type": "code",
   "execution_count": 155,
   "metadata": {},
   "outputs": [
    {
     "name": "stdout",
     "output_type": "stream",
     "text": [
      "�\u0003}q\u0000(X\u0004\u0000\u0000\u0000nameq\u0001X\u0004\u0000\u0000\u0000Alexq\u0002X\u0003\u0000\u0000\u0000ageq\u0003X\u0002\u0000\u0000\u000020q\u0004X\u0005\u0000\u0000\u0000scoreq\u0005}q\u0006(X\f",
      "\u0000\u0000\u0000离散数学q\u0007KdX\f",
      "\u0000\u0000\u0000大学物理q\bKdX\u0018\u0000\u0000\u0000概率论与数理统计q\tKduu."
     ]
    }
   ],
   "source": [
    "!cat score.pkl"
   ]
  },
  {
   "cell_type": "code",
   "execution_count": 158,
   "metadata": {},
   "outputs": [],
   "source": [
    "file = open(\"score.pkl\", \"wb\")\n",
    "pickle.dump(data, file)\n",
    "file.close()"
   ]
  },
  {
   "cell_type": "code",
   "execution_count": 159,
   "metadata": {},
   "outputs": [
    {
     "name": "stdout",
     "output_type": "stream",
     "text": [
      "�\u0003}q\u0000(X\u0004\u0000\u0000\u0000nameq\u0001X\u0004\u0000\u0000\u0000Alexq\u0002X\u0003\u0000\u0000\u0000ageq\u0003X\u0002\u0000\u0000\u000020q\u0004X\u0005\u0000\u0000\u0000scoreq\u0005}q\u0006(X\f",
      "\u0000\u0000\u0000离散数学q\u0007KdX\f",
      "\u0000\u0000\u0000大学物理q\bKdX\u0018\u0000\u0000\u0000概率论与数理统计q\tKduu."
     ]
    }
   ],
   "source": [
    "!cat score.pkl"
   ]
  },
  {
   "cell_type": "markdown",
   "metadata": {},
   "source": [
    "## json"
   ]
  },
  {
   "cell_type": "code",
   "execution_count": 160,
   "metadata": {},
   "outputs": [],
   "source": [
    "import json"
   ]
  },
  {
   "cell_type": "code",
   "execution_count": 165,
   "metadata": {},
   "outputs": [],
   "source": [
    "file = open(\"score.json\", \"w\")\n",
    "json.dump(data, file)\n",
    "file.close()"
   ]
  },
  {
   "cell_type": "code",
   "execution_count": 166,
   "metadata": {},
   "outputs": [
    {
     "name": "stdout",
     "output_type": "stream",
     "text": [
      "{\"name\": \"Alex\", \"age\": \"20\", \"score\": {\"\\u79bb\\u6563\\u6570\\u5b66\": 100, \"\\u5927\\u5b66\\u7269\\u7406\": 100, \"\\u6982\\u7387\\u8bba\\u4e0e\\u6570\\u7406\\u7edf\\u8ba1\": 100}}"
     ]
    }
   ],
   "source": [
    "!cat score.json"
   ]
  },
  {
   "cell_type": "code",
   "execution_count": 167,
   "metadata": {},
   "outputs": [
    {
     "name": "stdout",
     "output_type": "stream",
     "text": [
      "Alex\n"
     ]
    }
   ],
   "source": [
    "file = open(\"score.json\", \"r\")\n",
    "\n",
    "data_read = json.load(file)\n",
    "print(data_read[\"name\"])\n",
    "\n",
    "file.close()"
   ]
  },
  {
   "cell_type": "markdown",
   "metadata": {},
   "source": [
    "json是可以在不同语言之间交换数据的，而pickle只在python之间使用。\n",
    "\n",
    "json只能序列化最基本的数据类型，而pickle可以序列化所有的数据类型，包括类，函数都可以序列化。"
   ]
  },
  {
   "cell_type": "markdown",
   "metadata": {},
   "source": [
    "## hashlib\n",
    "\n",
    "Hash，一般翻译作“散列”，就是把任意长度的输入（又叫做预映射，pre-image），通过散列算法，变换称固定长度的输出，该输出就是散列值。\n",
    "\n",
    "这种转换是一种压缩映射，也就是，散列值的空间通常远小于输入的空间，不同的输入可能会散列成相同的输出，而不是从散列值来唯一的确定输入值。\n",
    "\n",
    "简单的说就是一种将任意长度的消息压缩到某一固定长度的消息摘要的函数。\n",
    "\n",
    "### MD5\n",
    "\n",
    "#### 什么是MD5算法\n",
    "\n",
    "MD5讯息摘要演算法(MD5 Message-Digest Algorithm)，一种被广泛使用的密码杂凑函数，可以产出一个128位的散列值(hash value)，用于确保信息传输完整一致。\n",
    "\n",
    "#### MD5功能\n",
    "\n",
    "输入任意长度的信息，经过处理，输出为128位的信息（数字指纹）\n",
    "\n",
    "不同的输入得到的不同的结果\n",
    "\n",
    "#### MD5算法的特点\n",
    "\n",
    "1.压缩性：任意长度的数据，算出的MD5值的长度都是固定的\n",
    "\n",
    "2.容易计算：从原数据计算出MD5的值很容易\n",
    "\n",
    "3.抗修改性：对原数据进行任何改动，修改一个字节生成的MD5值区别也会很大\n",
    "\n",
    "4.强抗碰撞：已知原数据和MD5，想找到一个具有相同的MD5值的数据是非常困难的\n",
    "\n",
    "#### MD5算法是否可逆？\n",
    "\n",
    "MD5不可逆的原因是其是一种散列函数，使用的是hash算法，在计算过程中原文的部分信息是丢失了的。\n",
    "\n",
    "#### MD5用途\n",
    "\n",
    "1.防止被篡改\n",
    "\n",
    "2.防止直接看到明文\n",
    "\n",
    "3.防止抵赖"
   ]
  },
  {
   "cell_type": "code",
   "execution_count": 169,
   "metadata": {},
   "outputs": [],
   "source": [
    "import hashlib"
   ]
  },
  {
   "cell_type": "code",
   "execution_count": 170,
   "metadata": {},
   "outputs": [
    {
     "name": "stdout",
     "output_type": "stream",
     "text": [
      "c690caaaa5f953e654c28588b1779251\n"
     ]
    }
   ],
   "source": [
    "md5_test = hashlib.md5()\n",
    "md5_test.update(b\"I'm Alex, 19 years old.\")\n",
    "print(md5_test.hexdigest())"
   ]
  },
  {
   "cell_type": "code",
   "execution_count": 171,
   "metadata": {},
   "outputs": [],
   "source": [
    "md5_test.update(\"I love Coco\".encode(\"utf-8\"))"
   ]
  },
  {
   "cell_type": "code",
   "execution_count": 172,
   "metadata": {},
   "outputs": [
    {
     "name": "stdout",
     "output_type": "stream",
     "text": [
      "7ffb1ab6b4f12737618167661401eda0\n"
     ]
    }
   ],
   "source": [
    "print(md5_test.hexdigest())"
   ]
  },
  {
   "cell_type": "markdown",
   "metadata": {},
   "source": [
    "## shutil"
   ]
  },
  {
   "cell_type": "code",
   "execution_count": 174,
   "metadata": {},
   "outputs": [],
   "source": [
    "import shutil"
   ]
  },
  {
   "cell_type": "code",
   "execution_count": 175,
   "metadata": {},
   "outputs": [],
   "source": [
    "shutil.copyfileobj(open(\"score.json\"), open(\"score_copy1.json\", \"w\"))"
   ]
  },
  {
   "cell_type": "code",
   "execution_count": 176,
   "metadata": {},
   "outputs": [
    {
     "name": "stdout",
     "output_type": "stream",
     "text": [
      "2019-12-30  2020-1-12  2020-1-9   NoteBook.ipynb    score.pkl\t   课件\r\n",
      "2020-1-1    2020-1-13  eval_test  NoteBook.md\t    test_makedirs\r\n",
      "2020-1-10   2020-1-2   GBK_file   score_copy1.json  test_mkdir\r\n",
      "2020-1-11   2020-1-8   images\t  score.json\t    UTF-8_file\r\n"
     ]
    }
   ],
   "source": [
    "!ls"
   ]
  },
  {
   "cell_type": "code",
   "execution_count": 177,
   "metadata": {},
   "outputs": [
    {
     "data": {
      "text/plain": [
       "'score_copy1.pkl'"
      ]
     },
     "execution_count": 177,
     "metadata": {},
     "output_type": "execute_result"
    }
   ],
   "source": [
    "shutil.copyfile(\"score.pkl\", \"score_copy1.pkl\")"
   ]
  },
  {
   "cell_type": "code",
   "execution_count": 178,
   "metadata": {},
   "outputs": [
    {
     "name": "stdout",
     "output_type": "stream",
     "text": [
      "2019-12-30  2020-1-12  2020-1-9   NoteBook.ipynb    score.json\t   UTF-8_file\r\n",
      "2020-1-1    2020-1-13  eval_test  NoteBook.md\t    score.pkl\t   课件\r\n",
      "2020-1-10   2020-1-2   GBK_file   score_copy1.json  test_makedirs\r\n",
      "2020-1-11   2020-1-8   images\t  score_copy1.pkl   test_mkdir\r\n"
     ]
    }
   ],
   "source": [
    "!ls"
   ]
  },
  {
   "cell_type": "code",
   "execution_count": null,
   "metadata": {},
   "outputs": [],
   "source": []
  }
 ],
 "metadata": {
  "kernelspec": {
   "display_name": "PyCharm (PythonAI)",
   "language": "python",
   "name": "pycharm-9c7f9b62"
  },
  "language_info": {
   "codemirror_mode": {
    "name": "ipython",
    "version": 3
   },
   "file_extension": ".py",
   "mimetype": "text/x-python",
   "name": "python",
   "nbconvert_exporter": "python",
   "pygments_lexer": "ipython3",
   "version": "3.7.4"
  },
  "pycharm": {
   "stem_cell": {
    "cell_type": "raw",
    "source": [],
    "metadata": {
     "collapsed": false
    }
   }
  }
 },
 "nbformat": 4,
 "nbformat_minor": 1
}