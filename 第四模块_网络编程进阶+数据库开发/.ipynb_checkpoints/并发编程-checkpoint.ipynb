{
 "cells": [
  {
   "cell_type": "markdown",
   "metadata": {},
   "source": [
    "# 并发编程"
   ]
  },
  {
   "cell_type": "markdown",
   "metadata": {},
   "source": [
    "## 一、什么是进程\n",
    "\n",
    "进程：正在进行的一个过程或者说一个任务。而负责执行任务则是cpu。"
   ]
  },
  {
   "cell_type": "markdown",
   "metadata": {},
   "source": [
    "## 二 进程与程序的区别\n",
    "\n",
    "程序仅仅只是一堆代码而已，而进程指的是程序的运行过程。\n",
    "\n",
    "需要强调的是：同一个程序执行两次，那也是两个进程，比如打开暴风影音，虽然都是同一个软件，但是一个可以播放苍井空，一个可以播放饭岛爱。"
   ]
  },
  {
   "cell_type": "markdown",
   "metadata": {},
   "source": [
    "## 三 并发与并行\n",
    "\n",
    "无论是并行还是并发，在用户看来都是'同时'运行的，不管是进程还是线程，都只是一个任务而已，真是干活的是cpu，cpu来做这些任务，而一个cpu同一时刻只能执行一个任务。\n",
    "\n",
    "### 并发：是伪并行，即看起来是同时运行。\n",
    "\n",
    "单个cpu+多道技术就可以实现并发。\n",
    "\n",
    "举例（单核+多道，实现多个进程的并发执行）：\n",
    "\n",
    "egon在一个时间段内有很多任务要做：python备课的任务，写书的任务，交女朋友的任务，王者荣耀上分的任务，\n",
    "\n",
    "但egon同一时刻只能做一个任务（cpu同一时间只能干一个活），如何才能玩出多个任务并发执行的效果？\n",
    "\n",
    "egon备一会课，再去跟李杰的女朋友聊聊天，再去打一会王者荣耀....这就保证了每个任务都在进行中.\n",
    "\n",
    "### 并行：同时运行，只有具备多个cpu才能实现并行\n",
    "\n",
    "单核下，可以利用多道技术，多个核，每个核也都可以利用多道技术（多道技术是针对单核而言的）\n",
    "\n",
    "有四个核，六个任务，这样同一时间有四个任务被执行，假设分别被分配给了cpu1，cpu2，cpu3，cpu4，\n",
    "\n",
    "一旦任务1遇到I/O就被迫中断执行，此时任务5就拿到cpu1的时间片去执行，这就是单核下的多道技术\n",
    "\n",
    "而一旦任务1的I/O结束了，操作系统会重新调用它(需知进程的调度、分配给哪个cpu运行，由操作系统说了算)"
   ]
  },
  {
   "cell_type": "markdown",
   "metadata": {},
   "source": [
    "## 四 进程的创建\n",
    "\n",
    "但凡是硬件，都需要有操作系统去管理，只要有操作系统，就有进程的概念，就需要有创建进程的方式，一些操作系统只为一个应用程序设计，比如微波炉中的控制器，一旦启动微波炉，所有的进程都已经存在。\n",
    "\n",
    "而对于通用系统（跑很多应用程序），需要有系统运行过程中创建或撤销进程的能力，主要分为四种形式创建新的进程：\n",
    "\n",
    "    系统初始化（查看进程linux中用ps命令，windows中用任务管理器，前台进程负责与用户交互，后台运行的进程与用户无关，运行在后台并且只在需要时才唤醒的进程，称为守护进程，如电子邮件、web页面、新闻、打印）\n",
    "\n",
    "    一个进程在运行过程中开启了子进程（如nginx开启多进程，os.fork,subprocess.Popen等）\n",
    "\n",
    "    用户的交互式请求，而创建一个新进程（如用户双击暴风影音）\n",
    "\n",
    "    一个批处理作业的初始化（只在大型机的批处理系统中应用）\n",
    "\n",
    "无论哪一种，新进程的创建都是由一个已经存在的进程执行了一个用于创建进程的系统调用而创建的：\n",
    "\n",
    "    在UNIX中该系统调用是：fork，fork会创建一个与父进程一模一样的副本，二者有相同的存储映像、同样的环境字符串和同样的打开文件（在shell解释器进程中，执行一个命令就会创建一个子进程）\n",
    "\n",
    "    在windows中该系统调用是：CreateProcess，CreateProcess既处理进程的创建，也负责把正确的程序装入新进程。\n",
    "\n",
    "关于创建的子进程，UNIX和windows\n",
    "\n",
    "1.相同的是：进程创建后，父进程和子进程有各自不同的地址空间（多道技术要求物理层面实现进程之间内存的隔离），任何一个进程的在其地址空间中的修改都不会影响到另外一个进程。\n",
    "\n",
    "2.不同的是：在UNIX中，子进程的初始地址空间是父进程的一个副本，提示：子进程和父进程是可以有只读的共享内存区的。但是对于windows系统来说，从一开始父进程与子进程的地址空间就是不同的。"
   ]
  },
  {
   "cell_type": "markdown",
   "metadata": {},
   "source": [
    "## 六 进程的终止\n",
    "\n",
    "正常退出（自愿，如用户点击交互式页面的叉号，或程序执行完毕调用发起系统调用正常退出，在linux中用exit，在windows中用ExitProcess）\n",
    "\n",
    "出错退出（自愿，python a.py中a.py不存在）\n",
    "\n",
    "严重错误（非自愿，执行非法指令，如引用不存在的内存，1/0等，可以捕捉异常，try...except...）\n",
    "\n",
    "被其他进程杀死（非自愿，如kill -9）"
   ]
  },
  {
   "cell_type": "markdown",
   "metadata": {},
   "source": [
    "## 七 进程的层次结构\n",
    "无论UNIX还是windows，进程只有一个父进程，不同的是：\n",
    "\n",
    "在UNIX中所有的进程，都是以init进程为根，组成树形结构。\n",
    "\n",
    "父子进程共同组成一个进程组，这样，当从键盘发出一个信号时，该信号被送给当前与键盘相关的进程组中的所有成员。\n",
    "\n",
    "在windows中，没有进程层次的概念，所有的进程都是地位相同的，唯一类似于进程层次的暗示，是在创建进程时，父进程得到一个特别的令牌（称为句柄）,该句柄可以用来控制子进程，但是父进程有权把该句柄传给其他子进程，这样就没有层次了。"
   ]
  },
  {
   "cell_type": "markdown",
   "metadata": {},
   "source": [
    "## 八 进程的状态\n",
    "\n",
    "tail -f access.log |grep '404'\n",
    "\n",
    "执行程序tail，开启一个子进程，执行程序grep，开启另外一个子进程，两个进程之间基于管道'|'通讯，将tail的结果作为grep的输入。\n",
    "\n",
    "进程grep在等待输入（即I/O）时的状态称为阻塞，此时grep命令都无法运行\n",
    "\n",
    "其实在两种情况下会导致一个进程在逻辑上不能运行，\n",
    "\n",
    "进程挂起是自身原因，遇到I/O阻塞，便要让出CPU让其他进程去执行，这样保证CPU一直在工作\n",
    "\n",
    "与进程无关，是操作系统层面，可能会因为一个进程占用时间过多，或者优先级等原因，而调用其他的进程去使用CPU。\n",
    "\n",
    "因而一个进程由三种状态：\n",
    "\n",
    "![](https://www.luffycity.com/python-book/assets/chapter7/%E8%BF%9B%E7%A8%8B%E7%9A%84%E4%B8%89%E7%A7%8D%E7%8A%B6%E6%80%81.png)"
   ]
  },
  {
   "cell_type": "markdown",
   "metadata": {},
   "source": [
    "## 九 进程并发的实现\n",
    "\n",
    "进程并发的实现在于，硬件中断一个正在运行的进程，把此时进程运行的所有状态保存下来，为此，操作系统维护一张表格，即进程表（process table），每个进程占用一个进程表项（这些表项也称为进程控制块）\n",
    "\n",
    "![](https://www.luffycity.com/python-book/assets/chapter7/%E8%BF%9B%E7%A8%8B%E7%8A%B6%E6%80%81%E8%A1%A8.png)\n",
    "\n",
    "该表存放了进程状态的重要信息：程序计数器、堆栈指针、内存分配状况、所有打开文件的状态、帐号和调度信息，以及其他在进程由运行态转为就绪态或阻塞态时，必须保存的信息，从而保证该进程在再次启动时，就像从未被中断过一样;。"
   ]
  },
  {
   "cell_type": "markdown",
   "metadata": {},
   "source": [
    "## 多进程"
   ]
  },
  {
   "cell_type": "markdown",
   "metadata": {},
   "source": [
    "### 一 multiprocessing模块介绍\n",
    "\n",
    "python中的多线程无法利用多核优势，如果想要充分地使用多核CPU的资源（os.cpu\\_count\\(\\)查看），在python中大部分情况需要使用多进程。\n",
    "\n",
    "Python提供了multiprocessing模块用来开启子进程，并在子进程中执行我们定制的任务（比如函数）。\n",
    "\n",
    "该模块与多线程模块threading的编程接口类似。\n",
    "\n",
    "multiprocessing模块的功能众多：支持子进程、通信和共享数据、执行不同形式的同步，提供了Process、Queue、Pipe、Lock等组件。\n",
    "\n",
    "需要再次强调的一点是：与线程不同，进程没有任何共享状态，进程修改的数据，改动仅限于该进程内。"
   ]
  },
  {
   "cell_type": "markdown",
   "metadata": {},
   "source": [
    "###  二 Process类的介绍\n",
    "\n",
    "创建进程的类：Process([group [, target [, name [, args [, kwargs]]]]])，由该类实例化得到的对象，可用来开启一个子进程\n",
    "\n",
    "强调：\n",
    "\n",
    "    1. 需要使用关键字的方式来指定参数\n",
    "    2. args指定的为传给target函数的位置参数，是一个元组形式，必须有逗号\n",
    "\n",
    "参数介绍：\n",
    "\n",
    "    group参数未使用，值始终为None\n",
    "\n",
    "    target表示调用对象，即子进程要执行的任务\n",
    "\n",
    "    args表示调用对象的位置参数元组，args=(1,2,'egon',)\n",
    "\n",
    "    kwargs表示调用对象的字典,kwargs={'name':'egon','age':18}\n",
    "\n",
    "    name为子进程的名称\n",
    "    \n",
    "方法介绍：\n",
    "\n",
    "    p.start()：启动进程，并调用该子进程中的p.run() \n",
    "    \n",
    "    p.run():进程启动时运行的方法，正是它去调用target指定的函数，我们自定义类的类中一定要实现该方法  \n",
    "\n",
    "    p.terminate():强制终止进程p，不会进行任何清理操作，如果p创建了子进程，该子进程就成了僵尸进程，使用该方法需要特别小心这种情况。如果p还保存了一个锁那么也将不会被释放，进而导致死锁\n",
    "    \n",
    "    p.is_alive():如果p仍然运行，返回True\n",
    "\n",
    "    p.join([timeout]):主线程等待p终止（强调：是主线程处于等的状态，而p是处于运行的状态）。timeout是可选的超时时间。\n",
    "    \n",
    "属性介绍：\n",
    "\n",
    "    p.daemon：默认值为False，如果设为True，代表p为后台运行的守护进程，当p的父进程终止时，p也随之终止，并且设定为True后，p不能创建自己的新进程，必须在p.start()之前设置\n",
    "\n",
    "    p.name:进程的名称\n",
    "\n",
    "    p.pid：进程的pid"
   ]
  },
  {
   "cell_type": "markdown",
   "metadata": {},
   "source": [
    "### 三 Process类的使用"
   ]
  },
  {
   "cell_type": "code",
   "execution_count": 1,
   "metadata": {
    "pycharm": {
     "is_executing": false
    }
   },
   "outputs": [],
   "source": [
    "import os\n",
    "import time\n",
    "from multiprocessing import Process"
   ]
  },
  {
   "cell_type": "markdown",
   "metadata": {},
   "source": [
    "#### 开启子进程的两种方式"
   ]
  },
  {
   "cell_type": "markdown",
   "metadata": {},
   "source": [
    "**方式一**"
   ]
  },
  {
   "cell_type": "code",
   "execution_count": 2,
   "metadata": {
    "pycharm": {
     "is_executing": false
    }
   },
   "outputs": [
    {
     "name": "stdout",
     "output_type": "stream",
     "text": [
      "Main process is done. 1580873258.3458025\n"
     ]
    }
   ],
   "source": [
    "def task(process_name):\n",
    "    print(process_name, \" is start: \", time.time())\n",
    "    time.sleep(2)\n",
    "    print(process_name, \" is done: \", time.time())\n",
    "\n",
    "\n",
    "if __name__ == '__main__':\n",
    "    p = Process(target=task, kwargs={\"process_name\": \"Process 1\"})\n",
    "    p.start()   # 仅仅只是给操作系统发送了一个信号\n",
    "    print(\"Main process is done.\", time.time())"
   ]
  },
  {
   "cell_type": "markdown",
   "metadata": {},
   "source": [
    "Main process is done:  1580805914.2588944\n",
    "\n",
    "Process 1  is start:  1580805914.337683\n",
    "\n",
    "Process 1  is done:  1580805916.338333"
   ]
  },
  {
   "cell_type": "markdown",
   "metadata": {},
   "source": [
    "**方式二**"
   ]
  },
  {
   "cell_type": "code",
   "execution_count": 3,
   "metadata": {
    "pycharm": {
     "is_executing": false
    }
   },
   "outputs": [
    {
     "name": "stdout",
     "output_type": "stream",
     "text": [
      "Main process is done:  1580873258.371733\n"
     ]
    }
   ],
   "source": [
    "class MyProcess(Process):\n",
    "    def __init__(self, name):\n",
    "        super(MyProcess, self).__init__()\n",
    "        self.name = name\n",
    "\n",
    "    def run(self):\n",
    "        print(self.name, \" is start: \", time.time())\n",
    "        time.sleep(2)\n",
    "        print(self.name, \" is done: \", time.time())\n",
    "\n",
    "\n",
    "if __name__ == '__main__':\n",
    "    p = MyProcess(\"Process 1\")\n",
    "    p.start()\n",
    "    print(\"Main process is done: \", time.time())"
   ]
  },
  {
   "cell_type": "markdown",
   "metadata": {},
   "source": [
    "Main process is done:  1580805950.3643117\n",
    "\n",
    "Process 1  is start:  1580805950.4431307\n",
    "\n",
    "Process 1  is done:  1580805952.443842"
   ]
  },
  {
   "cell_type": "markdown",
   "metadata": {},
   "source": [
    "### 查看进程pid"
   ]
  },
  {
   "cell_type": "code",
   "execution_count": 4,
   "metadata": {
    "pycharm": {
     "is_executing": false
    }
   },
   "outputs": [
    {
     "name": "stdout",
     "output_type": "stream",
     "text": [
      "Main process id =  13256\n",
      "Main process's father process id =  7812\n"
     ]
    }
   ],
   "source": [
    "def task(process_name):\n",
    "    print(process_name, \" id = \", os.getpid())\n",
    "    print(process_name, \" father process id = \", os.getppid())\n",
    "\n",
    "\n",
    "if __name__ == '__main__':\n",
    "    p = Process(target=task, kwargs={\"process_name\": \"process 1\"})\n",
    "    p.start()\n",
    "    print(\"Main process id = \", os.getpid())\n",
    "    print(\"Main process's father process id = \", os.getppid())"
   ]
  },
  {
   "cell_type": "markdown",
   "metadata": {
    "pycharm": {
     "is_executing": false
    }
   },
   "source": [
    "Main process id =  18808\n",
    "\n",
    "Main process's father process id =  16840\n",
    "\n",
    "process 1  id =  13604\n",
    "\n",
    "process 1  father process id =  18808"
   ]
  },
  {
   "cell_type": "markdown",
   "metadata": {
    "pycharm": {
     "name": "#%% md\n"
    }
   },
   "source": [
    "## 多线程"
   ]
  },
  {
   "cell_type": "code",
   "execution_count": 5,
   "metadata": {
    "pycharm": {
     "is_executing": false,
     "name": "#%%\n"
    }
   },
   "outputs": [],
   "source": [
    "import time\n",
    "from threading import Thread"
   ]
  },
  {
   "cell_type": "markdown",
   "metadata": {},
   "source": [
    "#### 开启子进程的两种方式"
   ]
  },
  {
   "cell_type": "markdown",
   "metadata": {},
   "source": [
    "**方式一**"
   ]
  },
  {
   "cell_type": "code",
   "execution_count": 6,
   "metadata": {
    "pycharm": {
     "is_executing": false,
     "name": "#%%\n"
    }
   },
   "outputs": [
    {
     "name": "stdout",
     "output_type": "stream",
     "text": [
      "Thread 1Main thread is done:  1580873258.4684746\n",
      "  is start:  1580873258.464485\n"
     ]
    }
   ],
   "source": [
    "def task(thread_name):\n",
    "    print(thread_name, \" is start: \", time.time())\n",
    "    time.sleep(1)\n",
    "    print(thread_name, \" is done: \", time.time())\n",
    "\n",
    "\n",
    "if __name__ == '__main__':\n",
    "    thread1 = Thread(target=task, kwargs={\"thread_name\": \"Thread 1\"})\n",
    "    thread1.start()\n",
    "    print(\"Main thread is done: \", time.time())"
   ]
  },
  {
   "cell_type": "markdown",
   "metadata": {},
   "source": [
    "Thread 1  is start:  1580872213.5254443\n",
    "\n",
    "Main thread is done:  1580872213.5254443\n",
    "\n",
    "Thread 1  is done:  1580872214.5258517"
   ]
  },
  {
   "cell_type": "markdown",
   "metadata": {},
   "source": [
    "**方式二**"
   ]
  },
  {
   "cell_type": "code",
   "execution_count": 7,
   "metadata": {
    "pycharm": {
     "is_executing": false,
     "name": "#%%\n"
    }
   },
   "outputs": [
    {
     "name": "stdout",
     "output_type": "stream",
     "text": [
      "Thread 1Main thread is done:  1580873258.4944053\n",
      "  is start:  1580873258.490415\n"
     ]
    }
   ],
   "source": [
    "class MyThread(Thread):\n",
    "    def __init__(self, name):\n",
    "        super(MyThread, self).__init__()\n",
    "        self.name = name\n",
    "\n",
    "    def run(self):\n",
    "        print(self.name, \" is start: \", time.time())\n",
    "        time.sleep(2)\n",
    "        print(self.name, \" is done: \", time.time())\n",
    "\n",
    "\n",
    "if __name__ == '__main__':\n",
    "    MyThread(\"Thread 1\").start()\n",
    "    print(\"Main thread is done: \", time.time())"
   ]
  },
  {
   "cell_type": "markdown",
   "metadata": {},
   "source": [
    "Thread 1  is start:  1580872251.49591\n",
    "\n",
    "Main thread is done:  1580872251.49591\n",
    "\n",
    "Thread 1  is done:  1580872253.4970107"
   ]
  },
  {
   "cell_type": "markdown",
   "metadata": {},
   "source": [
    "### 进程与线程的区别"
   ]
  },
  {
   "cell_type": "markdown",
   "metadata": {},
   "source": [
    "#### 一、开启进程的开销远大于开启线程"
   ]
  },
  {
   "cell_type": "code",
   "execution_count": null,
   "metadata": {},
   "outputs": [],
   "source": [
    "def task(name):\n",
    "    print(name, \" is start: \", time.time())\n",
    "    time.sleep(2)\n",
    "    print(name, \" is done: \", time.time())\n",
    "\n",
    "\n",
    "if __name__ == '__main__':\n",
    "    process1 = Process(target=task, kwargs={\"name\": \"Process 1\"})\n",
    "    process1.start()\n",
    "    print(\"Under process 1.\")\n",
    "\n",
    "    thread1 = Thread(target=task, kwargs={\"name\": \"Thread 1\"})\n",
    "    thread1.start()\n",
    "    print(\"Under thread 1.\")"
   ]
  },
  {
   "cell_type": "markdown",
   "metadata": {},
   "source": [
    "Under process 1.\n",
    "\n",
    "Thread 1  is start:  1580872772.25061\n",
    "\n",
    "Under thread 1.\n",
    "\n",
    "Process 1  is start:  1580872772.3264234\n",
    "\n",
    "Thread 1  is done:  1580872774.2513134\n",
    "\n",
    "Process 1  is done:  1580872774.327039"
   ]
  },
  {
   "cell_type": "markdown",
   "metadata": {},
   "source": [
    "我们首先是开启了一个进程process 1，"
   ]
  },
  {
   "cell_type": "code",
   "execution_count": null,
   "metadata": {},
   "outputs": [],
   "source": [
    "我们首先是开启了一个进程process 1，"
   ]
  },
  {
   "cell_type": "markdown",
   "metadata": {},
   "source": [
    "#### 开启子进程的两种方式"
   ]
  },
  {
   "cell_type": "markdown",
   "metadata": {},
   "source": [
    "**方式一**"
   ]
  },
  {
   "cell_type": "code",
   "execution_count": null,
   "metadata": {},
   "outputs": [],
   "source": [
    "def task(thread_name):\n",
    "    print(thread_name, \" is start: \", time.time())\n",
    "    time.sleep(1)\n",
    "    print(thread_name, \" is done: \", time.time())\n",
    "\n",
    "\n",
    "if __name__ == '__main__':\n",
    "    thread1 = Thread(target=task, kwargs={\"thread_name\": \"Thread 1\"})\n",
    "    thread1.start()\n",
    "    print(\"Main thread is done: \", time.time())"
   ]
  },
  {
   "cell_type": "markdown",
   "metadata": {},
   "source": [
    "Thread 1  is start:  1580872213.5254443\n",
    "\n",
    "Main thread is done:  1580872213.5254443\n",
    "\n",
    "Thread 1  is done:  1580872214.5258517"
   ]
  },
  {
   "cell_type": "markdown",
   "metadata": {},
   "source": [
    "**方式二**"
   ]
  },
  {
   "cell_type": "code",
   "execution_count": null,
   "metadata": {},
   "outputs": [],
   "source": [
    "class MyThread(Thread):\n",
    "    def __init__(self, name):\n",
    "        super(MyThread, self).__init__()\n",
    "        self.name = name\n",
    "\n",
    "    def run(self):\n",
    "        print(self.name, \" is start: \", time.time())\n",
    "        time.sleep(2)\n",
    "        print(self.name, \" is done: \", time.time())\n",
    "\n",
    "\n",
    "if __name__ == '__main__':\n",
    "    MyThread(\"Thread 1\").start()\n",
    "    print(\"Main thread is done: \", time.time())"
   ]
  },
  {
   "cell_type": "markdown",
   "metadata": {},
   "source": [
    "Thread 1  is start:  1580872251.49591\n",
    "\n",
    "Main thread is done:  1580872251.49591\n",
    "\n",
    "Thread 1  is done:  1580872253.4970107"
   ]
  },
  {
   "cell_type": "markdown",
   "metadata": {},
   "source": [
    "### 进程与线程的区别"
   ]
  },
  {
   "cell_type": "markdown",
   "metadata": {},
   "source": [
    "#### 一、开启进程的开销远大于开启线程"
   ]
  },
  {
   "cell_type": "code",
   "execution_count": null,
   "metadata": {},
   "outputs": [],
   "source": [
    "def task(name):\n",
    "    print(name, \" is start: \", time.time())\n",
    "    time.sleep(2)\n",
    "    print(name, \" is done: \", time.time())\n",
    "\n",
    "\n",
    "if __name__ == '__main__':\n",
    "    process1 = Process(target=task, kwargs={\"name\": \"Process 1\"})\n",
    "    process1.start()\n",
    "    print(\"Under process 1.\")\n",
    "\n",
    "    thread1 = Thread(target=task, kwargs={\"name\": \"Thread 1\"})\n",
    "    thread1.start()\n",
    "    print(\"Under thread 1.\")"
   ]
  },
  {
   "cell_type": "markdown",
   "metadata": {},
   "source": [
    "Under process 1.\n",
    "\n",
    "Thread 1  is start:  1580872772.25061\n",
    "\n",
    "Under thread 1.\n",
    "\n",
    "Process 1  is start:  1580872772.3264234\n",
    "\n",
    "Thread 1  is done:  1580872774.2513134\n",
    "\n",
    "Process 1  is done:  1580872774.327039"
   ]
  },
  {
   "cell_type": "markdown",
   "metadata": {},
   "source": [
    "我们首先是开启了一个进程process 1，"
   ]
  }
 ],
 "metadata": {
  "kernelspec": {
   "display_name": "PyCharm (PythonFullStack)",
   "language": "python",
   "name": "pycharm-87c12d84"
  },
  "language_info": {
   "codemirror_mode": {
    "name": "ipython",
    "version": 3
   },
   "file_extension": ".py",
   "mimetype": "text/x-python",
   "name": "python",
   "nbconvert_exporter": "python",
   "pygments_lexer": "ipython3",
   "version": "3.7.6"
  },
  "pycharm": {
   "stem_cell": {
    "cell_type": "raw",
    "metadata": {
     "collapsed": false
    },
    "source": []
   }
  }
 },
 "nbformat": 4,
 "nbformat_minor": 4
}
