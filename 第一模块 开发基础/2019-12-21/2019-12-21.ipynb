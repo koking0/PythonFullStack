{
 "cells": [
  {
   "cell_type": "markdown",
   "metadata": {
    "collapsed": true,
    "pycharm": {
     "is_executing": false
    }
   },
   "source": [
    "# 文件"
   ]
  },
  {
   "cell_type": "markdown",
   "metadata": {},
   "source": [
    "1.找到文件，打开\n",
    "\n",
    "2.读、修改\n",
    "\n",
    "3.保存，关闭"
   ]
  },
  {
   "cell_type": "code",
   "execution_count": 1,
   "metadata": {},
   "outputs": [],
   "source": [
    "f = open(\"staff.txt\", mode = \"w\")\n",
    "\n",
    "f.write(\"Alex CEO 6000 \\n\")\n",
    "f.write(\"alex Student 0 \\n\")\n",
    "\n",
    "f.close()"
   ]
  },
  {
   "cell_type": "code",
   "execution_count": 4,
   "metadata": {},
   "outputs": [
    {
     "name": "stdout",
     "output_type": "stream",
     "text": [
      "乔亦菲     广州    172    52    15823423525\n",
      "\n",
      "-------split-------\n",
      "罗梦竹     北京    175    49    18623423421\n",
      "刘诺涵     北京    170    48    18623423765\n",
      "岳妮妮     广州    177    54    18835324553\n",
      "贺婉萱     广州    174    52    18933434452\n",
      "叶梓萱     上海    171    49    18042432324\n"
     ]
    }
   ],
   "source": [
    "f = open(file = \"兼职白领学生空姐模特护士联系方式.txt\", mode = \"r\")\n",
    "print(f.readline())\n",
    "\n",
    "print(\"-------split-------\")\n",
    "\n",
    "data = f.read()\n",
    "print(data)\n",
    "\n",
    "f.close()"
   ]
  },
  {
   "cell_type": "code",
   "execution_count": 7,
   "metadata": {},
   "outputs": [],
   "source": [
    "f = open(file = \"兼职白领学生空姐模特护士联系方式.txt\", mode = \"a\")\n",
    "\n",
    "f.write(\"\\n李飘飘     澳门    180    20    15532112378\")\n",
    "\n",
    "f.close()"
   ]
  },
  {
   "cell_type": "code",
   "execution_count": 11,
   "metadata": {},
   "outputs": [
    {
     "name": "stdout",
     "output_type": "stream",
     "text": [
      "乔亦菲     广州    172    52    15823423525\n",
      "\n",
      "罗梦竹     北京    175    49    18623423421\n",
      "\n",
      "刘诺涵     北京    170    48    18623423765\n",
      "\n",
      "岳妮妮     广州    177    54    18835324553\n",
      "\n",
      "贺婉萱     广州    174    52    18933434452\n",
      "\n",
      "叶梓萱     上海    171    49    18042432324\n",
      "\n",
      "李飘飘     澳门    180    20    15532112378\n"
     ]
    }
   ],
   "source": [
    "f = open(file = \"兼职白领学生空姐模特护士联系方式.txt\")\n",
    "\n",
    "for line in f:\n",
    "    print(line)"
   ]
  },
  {
   "cell_type": "code",
   "execution_count": 14,
   "metadata": {},
   "outputs": [
    {
     "data": {
      "text/plain": [
       "['乔亦菲     广州    172    52    15823423525\\n',\n",
       " '罗梦竹     北京    175    49    18623423421\\n',\n",
       " '刘诺涵     北京    170    48    18623423765\\n',\n",
       " '岳妮妮     广州    177    54    18835324553\\n',\n",
       " '贺婉萱     广州    174    52    18933434452\\n',\n",
       " '叶梓萱     上海    171    49    18042432324\\n',\n",
       " '李飘飘     澳门    180    20    15532112378']"
      ]
     },
     "execution_count": 14,
     "metadata": {},
     "output_type": "execute_result"
    }
   ],
   "source": [
    "f = open(file = \"兼职白领学生空姐模特护士联系方式.txt\")\n",
    "\n",
    "f.readlines()"
   ]
  },
  {
   "cell_type": "code",
   "execution_count": 15,
   "metadata": {},
   "outputs": [
    {
     "name": "stdout",
     "output_type": "stream",
     "text": [
      "乔亦菲     广州    172    52    15823423525\n",
      "罗梦竹     北京    175    49    18623423421\n",
      "刘诺涵     北京    170    48    18623423765\n",
      "岳妮妮     广州    177    54    18835324553\n",
      "贺婉萱     广州    174    52    18933434452\n",
      "叶梓萱     上海    171    49    18042432324\n",
      "李飘飘     澳门    180    20    15532112378\n"
     ]
    }
   ],
   "source": [
    "f = open(file = \"兼职白领学生空姐模特护士联系方式.txt\")\n",
    "\n",
    "for line in f:\n",
    "    print(line.strip())"
   ]
  },
  {
   "cell_type": "code",
   "execution_count": 16,
   "metadata": {},
   "outputs": [
    {
     "name": "stdout",
     "output_type": "stream",
     "text": [
      "['岳妮妮', '广州', '177', '54', '18835324553']\n",
      "['李飘飘', '澳门', '180', '20', '15532112378']\n"
     ]
    }
   ],
   "source": [
    "f = open(file = \"兼职白领学生空姐模特护士联系方式.txt\")\n",
    "\n",
    "for line in f:\n",
    "    line = line.split()\n",
    "    height = int(line[2])\n",
    "    \n",
    "    if height > 175:\n",
    "        print(line)"
   ]
  },
  {
   "cell_type": "markdown",
   "metadata": {},
   "source": [
    "# 不占内存修改文件"
   ]
  },
  {
   "cell_type": "code",
   "execution_count": 20,
   "metadata": {},
   "outputs": [],
   "source": [
    "import os\n",
    "\n",
    "old_file = \"兼职白领学生空姐模特护士联系方式.txt\"\n",
    "f = open(file = old_file, mode = \"r\")\n",
    "\n",
    "new_file = \"兼职白领学生空姐模特护士联系方式1.txt\"\n",
    "f_new = open(file = new_file, mode = \"w\")\n",
    "\n",
    "old_str = \"广州\"\n",
    "new_str = \"深圳\"\n",
    "\n",
    "for line in f:\n",
    "    if old_str in line:\n",
    "        line = line.replace(old_str, new_str)\n",
    "    f_new.write(line)\n",
    "    \n",
    "f.close()\n",
    "f_new.close()\n",
    "\n",
    "os.rename(new_file, old_file)"
   ]
  },
  {
   "cell_type": "code",
   "execution_count": null,
   "metadata": {},
   "outputs": [],
   "source": []
  }
 ],
 "metadata": {
  "kernelspec": {
   "display_name": "Python 3",
   "language": "python",
   "name": "python3"
  },
  "language_info": {
   "codemirror_mode": {
    "name": "ipython",
    "version": 3
   },
   "file_extension": ".py",
   "mimetype": "text/x-python",
   "name": "python",
   "nbconvert_exporter": "python",
   "pygments_lexer": "ipython3",
   "version": "3.7.5"
  }
 },
 "nbformat": 4,
 "nbformat_minor": 1
}
