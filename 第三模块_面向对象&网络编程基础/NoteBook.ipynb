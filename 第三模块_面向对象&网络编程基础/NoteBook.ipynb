{
 "cells": [
  {
   "cell_type": "markdown",
   "metadata": {
    "collapsed": true,
    "pycharm": {
     "is_executing": false
    }
   },
   "source": [
    "# 面向过程\n",
    "\n",
    "核心是过程二字，过程指的是解决问题的步骤，设计一条流水线，机械式的思维方式\n",
    "\n",
    "优点：复杂的问题流程化，进而简单化。\n",
    "\n",
    "缺点：可扩展性差"
   ]
  },
  {
   "cell_type": "markdown",
   "metadata": {},
   "source": [
    "# 面向对象\n",
    "\n",
    "核心就是对象二字，对象就是特征与技能的集合体\n",
    "\n",
    "优点：可扩展性强\n",
    "\n",
    "缺点：编程复杂度高"
   ]
  },
  {
   "cell_type": "markdown",
   "metadata": {},
   "source": [
    "# 类\n",
    "\n",
    "类就是一系列对象相似的特征与技能的结合体。\n",
    "\n",
    "**强调：站在不同的角度，得到的分类是不一样的。**\n",
    "\n",
    "在现实世界中：先有对象再有类\n",
    "\n",
    "在程序中：先定义类再产生对象"
   ]
  },
  {
   "cell_type": "code",
   "execution_count": 1,
   "metadata": {
    "pycharm": {
     "is_executing": false
    }
   },
   "outputs": [],
   "source": [
    "# 先定义类\n",
    "class LuffyStudent:\n",
    "    school = 'luffycity'\n",
    "    \n",
    "    def learn():\n",
    "        print('Learing...')\n",
    "        \n",
    "    def eat():\n",
    "        print('Eating')\n",
    "\n",
    "# 后产生对象\n",
    "stu = LuffyStudent()"
   ]
  },
  {
   "cell_type": "code",
   "execution_count": 2,
   "metadata": {
    "pycharm": {
     "is_executing": false
    }
   },
   "outputs": [
    {
     "data": {
      "text/plain": [
       "<__main__.LuffyStudent at 0x7f5ddc65eed0>"
      ]
     },
     "execution_count": 2,
     "metadata": {},
     "output_type": "execute_result"
    }
   ],
   "source": [
    "stu"
   ]
  },
  {
   "cell_type": "markdown",
   "metadata": {},
   "source": [
    "**查**"
   ]
  },
  {
   "cell_type": "code",
   "execution_count": 3,
   "metadata": {
    "pycharm": {
     "is_executing": false
    }
   },
   "outputs": [
    {
     "data": {
      "text/plain": [
       "mappingproxy({'__module__': '__main__',\n",
       "              'school': 'luffycity',\n",
       "              'learn': <function __main__.LuffyStudent.learn()>,\n",
       "              'eat': <function __main__.LuffyStudent.eat()>,\n",
       "              '__dict__': <attribute '__dict__' of 'LuffyStudent' objects>,\n",
       "              '__weakref__': <attribute '__weakref__' of 'LuffyStudent' objects>,\n",
       "              '__doc__': None})"
      ]
     },
     "execution_count": 3,
     "metadata": {},
     "output_type": "execute_result"
    }
   ],
   "source": [
    "LuffyStudent.__dict__"
   ]
  },
  {
   "cell_type": "code",
   "execution_count": 4,
   "metadata": {
    "pycharm": {
     "is_executing": false
    }
   },
   "outputs": [
    {
     "data": {
      "text/plain": [
       "'luffycity'"
      ]
     },
     "execution_count": 4,
     "metadata": {},
     "output_type": "execute_result"
    }
   ],
   "source": [
    "stu.school"
   ]
  },
  {
   "cell_type": "markdown",
   "metadata": {},
   "source": [
    "**增**"
   ]
  },
  {
   "cell_type": "code",
   "execution_count": 5,
   "metadata": {
    "pycharm": {
     "is_executing": false
    }
   },
   "outputs": [],
   "source": [
    "stu.country = 'China'"
   ]
  },
  {
   "cell_type": "code",
   "execution_count": 6,
   "metadata": {
    "pycharm": {
     "is_executing": false
    }
   },
   "outputs": [
    {
     "data": {
      "text/plain": [
       "{'country': 'China'}"
      ]
     },
     "execution_count": 6,
     "metadata": {},
     "output_type": "execute_result"
    }
   ],
   "source": [
    "stu.__dict__"
   ]
  },
  {
   "cell_type": "markdown",
   "metadata": {},
   "source": [
    "**删**"
   ]
  },
  {
   "cell_type": "code",
   "execution_count": 7,
   "metadata": {
    "pycharm": {
     "is_executing": false
    }
   },
   "outputs": [],
   "source": [
    "del stu.country"
   ]
  },
  {
   "cell_type": "code",
   "execution_count": 8,
   "metadata": {
    "pycharm": {
     "is_executing": false
    }
   },
   "outputs": [
    {
     "data": {
      "text/plain": [
       "{}"
      ]
     },
     "execution_count": 8,
     "metadata": {},
     "output_type": "execute_result"
    }
   ],
   "source": [
    "stu.__dict__"
   ]
  },
  {
   "cell_type": "markdown",
   "metadata": {},
   "source": [
    "**改**"
   ]
  },
  {
   "cell_type": "code",
   "execution_count": 9,
   "metadata": {
    "pycharm": {
     "is_executing": false
    }
   },
   "outputs": [],
   "source": [
    "stu.school = 'LuffyCity'"
   ]
  },
  {
   "cell_type": "code",
   "execution_count": 10,
   "metadata": {
    "pycharm": {
     "is_executing": false
    }
   },
   "outputs": [
    {
     "data": {
      "text/plain": [
       "{'school': 'LuffyCity'}"
      ]
     },
     "execution_count": 10,
     "metadata": {},
     "output_type": "execute_result"
    }
   ],
   "source": [
    "stu.__dict__"
   ]
  },
  {
   "cell_type": "markdown",
   "metadata": {},
   "source": [
    "## \\_\\_init\\_\\_\n",
    "\n",
    "\\_\\_init\\_\\_方法用来为对象定制对象自己独有的特征"
   ]
  },
  {
   "cell_type": "code",
   "execution_count": 11,
   "metadata": {
    "pycharm": {
     "is_executing": false
    }
   },
   "outputs": [],
   "source": [
    "# 先定义类\n",
    "class LuffyStudent:\n",
    "    school = 'luffycity'\n",
    "    \n",
    "    def __init__(self, name, sex, age):\n",
    "        self.Name = name\n",
    "        self.Sex = sex\n",
    "        self.Age = age\n",
    "    \n",
    "    def learn(self):\n",
    "        print('%s Learing...'% self.Name)\n",
    "        \n",
    "    def eat(self):\n",
    "        print('%s Eating...'% self.Name)\n",
    "\n",
    "# 后产生对象\n",
    "stu = LuffyStudent('Alex', '男', 18)"
   ]
  },
  {
   "cell_type": "code",
   "execution_count": 12,
   "metadata": {
    "pycharm": {
     "is_executing": false
    }
   },
   "outputs": [
    {
     "data": {
      "text/plain": [
       "{'Name': 'Alex', 'Sex': '男', 'Age': 18}"
      ]
     },
     "execution_count": 12,
     "metadata": {},
     "output_type": "execute_result"
    }
   ],
   "source": [
    "stu.__dict__"
   ]
  },
  {
   "cell_type": "markdown",
   "metadata": {},
   "source": [
    "加上\\_\\_init\\_\\_方法后，实例化的步骤：\n",
    "\n",
    "1.先产生一个空对象\n",
    "\n",
    "2.自动执行\\_\\_init\\_\\_函数"
   ]
  },
  {
   "cell_type": "code",
   "execution_count": 13,
   "metadata": {
    "pycharm": {
     "is_executing": false
    }
   },
   "outputs": [],
   "source": [
    "stu.Name = 'Coco'"
   ]
  },
  {
   "cell_type": "code",
   "execution_count": 14,
   "metadata": {
    "pycharm": {
     "is_executing": false
    }
   },
   "outputs": [
    {
     "data": {
      "text/plain": [
       "{'Name': 'Coco', 'Sex': '男', 'Age': 18}"
      ]
     },
     "execution_count": 14,
     "metadata": {},
     "output_type": "execute_result"
    }
   ],
   "source": [
    "stu.__dict__"
   ]
  },
  {
   "cell_type": "code",
   "execution_count": 15,
   "metadata": {
    "pycharm": {
     "is_executing": false
    }
   },
   "outputs": [],
   "source": [
    "del stu.Sex"
   ]
  },
  {
   "cell_type": "code",
   "execution_count": 16,
   "metadata": {
    "pycharm": {
     "is_executing": false
    }
   },
   "outputs": [
    {
     "data": {
      "text/plain": [
       "{'Name': 'Coco', 'Age': 18}"
      ]
     },
     "execution_count": 16,
     "metadata": {},
     "output_type": "execute_result"
    }
   ],
   "source": [
    "stu.__dict__"
   ]
  },
  {
   "cell_type": "code",
   "execution_count": 17,
   "metadata": {
    "pycharm": {
     "is_executing": false
    }
   },
   "outputs": [],
   "source": [
    "stu.Age = 19"
   ]
  },
  {
   "cell_type": "code",
   "execution_count": 18,
   "metadata": {
    "pycharm": {
     "is_executing": false
    }
   },
   "outputs": [
    {
     "data": {
      "text/plain": [
       "{'Name': 'Coco', 'Age': 19}"
      ]
     },
     "execution_count": 18,
     "metadata": {},
     "output_type": "execute_result"
    }
   ],
   "source": [
    "stu.__dict__"
   ]
  },
  {
   "cell_type": "markdown",
   "metadata": {},
   "source": [
    "**类中的数据属性：是所有对象共有的。**"
   ]
  },
  {
   "cell_type": "code",
   "execution_count": 19,
   "metadata": {
    "pycharm": {
     "is_executing": false
    }
   },
   "outputs": [],
   "source": [
    "stu1 = LuffyStudent(\"Alex\", '男', 18)\n",
    "stu2 = LuffyStudent(\"Coco\", '女', 19)"
   ]
  },
  {
   "cell_type": "code",
   "execution_count": 20,
   "metadata": {
    "pycharm": {
     "is_executing": false
    }
   },
   "outputs": [
    {
     "data": {
      "text/plain": [
       "140041106352560"
      ]
     },
     "execution_count": 20,
     "metadata": {},
     "output_type": "execute_result"
    }
   ],
   "source": [
    "id(LuffyStudent.school)"
   ]
  },
  {
   "cell_type": "code",
   "execution_count": 21,
   "metadata": {
    "pycharm": {
     "is_executing": false
    }
   },
   "outputs": [
    {
     "data": {
      "text/plain": [
       "140041106352560"
      ]
     },
     "execution_count": 21,
     "metadata": {},
     "output_type": "execute_result"
    }
   ],
   "source": [
    "id(stu1.school)"
   ]
  },
  {
   "cell_type": "code",
   "execution_count": 22,
   "metadata": {
    "pycharm": {
     "is_executing": false
    }
   },
   "outputs": [
    {
     "data": {
      "text/plain": [
       "140041106352560"
      ]
     },
     "execution_count": 22,
     "metadata": {},
     "output_type": "execute_result"
    }
   ],
   "source": [
    "id(stu2.school)"
   ]
  },
  {
   "cell_type": "markdown",
   "metadata": {},
   "source": [
    "**类中的函数属性：是绑定给对象使用的，绑定到不同的对象是不同的方法，对象调用绑定方法时，会把对象本身当作第一个参数self传入。**"
   ]
  },
  {
   "cell_type": "code",
   "execution_count": 23,
   "metadata": {
    "pycharm": {
     "is_executing": false
    }
   },
   "outputs": [
    {
     "data": {
      "text/plain": [
       "<function __main__.LuffyStudent.learn(self)>"
      ]
     },
     "execution_count": 23,
     "metadata": {},
     "output_type": "execute_result"
    }
   ],
   "source": [
    "LuffyStudent.learn"
   ]
  },
  {
   "cell_type": "code",
   "execution_count": 24,
   "metadata": {
    "pycharm": {
     "is_executing": false
    }
   },
   "outputs": [
    {
     "data": {
      "text/plain": [
       "<bound method LuffyStudent.learn of <__main__.LuffyStudent object at 0x7f5dd8494190>>"
      ]
     },
     "execution_count": 24,
     "metadata": {},
     "output_type": "execute_result"
    }
   ],
   "source": [
    "stu1.learn"
   ]
  },
  {
   "cell_type": "code",
   "execution_count": 25,
   "metadata": {
    "pycharm": {
     "is_executing": false
    }
   },
   "outputs": [
    {
     "data": {
      "text/plain": [
       "<bound method LuffyStudent.learn of <__main__.LuffyStudent object at 0x7f5dd8d0ead0>>"
      ]
     },
     "execution_count": 25,
     "metadata": {},
     "output_type": "execute_result"
    }
   ],
   "source": [
    "stu2.learn"
   ]
  },
  {
   "cell_type": "code",
   "execution_count": 26,
   "metadata": {
    "pycharm": {
     "is_executing": false
    }
   },
   "outputs": [
    {
     "name": "stdout",
     "output_type": "stream",
     "text": [
      "Alex Learing...\n"
     ]
    }
   ],
   "source": [
    "LuffyStudent.learn(stu1)"
   ]
  },
  {
   "cell_type": "code",
   "execution_count": 27,
   "metadata": {
    "pycharm": {
     "is_executing": false
    }
   },
   "outputs": [
    {
     "name": "stdout",
     "output_type": "stream",
     "text": [
      "Coco Learing...\n"
     ]
    }
   ],
   "source": [
    "LuffyStudent.learn(stu2)"
   ]
  },
  {
   "cell_type": "code",
   "execution_count": 28,
   "metadata": {
    "pycharm": {
     "is_executing": false
    }
   },
   "outputs": [
    {
     "name": "stdout",
     "output_type": "stream",
     "text": [
      "Alex Learing...\n"
     ]
    }
   ],
   "source": [
    "stu1.learn()"
   ]
  },
  {
   "cell_type": "code",
   "execution_count": 29,
   "metadata": {
    "pycharm": {
     "is_executing": false
    }
   },
   "outputs": [
    {
     "name": "stdout",
     "output_type": "stream",
     "text": [
      "Coco Learing...\n"
     ]
    }
   ],
   "source": [
    "stu2.learn()"
   ]
  },
  {
   "cell_type": "markdown",
   "metadata": {},
   "source": [
    "#### 练习1\n",
    "\n",
    "编写一个学生类，产生一堆学生对象， (5分钟)\n",
    "\n",
    "#### 要求：\n",
    "\n",
    "有一个计数器（属性），统计总共实例了多少个对象"
   ]
  },
  {
   "cell_type": "code",
   "execution_count": 30,
   "metadata": {
    "pycharm": {
     "is_executing": false
    }
   },
   "outputs": [],
   "source": [
    "class Student:\n",
    "    count = 0\n",
    "    school = 'luffycity'\n",
    "    \n",
    "    def __init__(self, name, age, sex):\n",
    "        self.name = name\n",
    "        self.age = age\n",
    "        self.sex = sex\n",
    "        Student.count += 1\n",
    "        \n",
    "    def learn(self):\n",
    "        print(self.name, ' is learing...')\n",
    "\n",
    "stu1 = Student('Alex', 18, '男')\n",
    "stu2 = Student('Coco', 19, '女')"
   ]
  },
  {
   "cell_type": "code",
   "execution_count": 31,
   "metadata": {
    "pycharm": {
     "is_executing": false
    }
   },
   "outputs": [
    {
     "data": {
      "text/plain": [
       "<__main__.Student at 0x7f5dd849f350>"
      ]
     },
     "execution_count": 31,
     "metadata": {},
     "output_type": "execute_result"
    }
   ],
   "source": [
    "stu1"
   ]
  },
  {
   "cell_type": "code",
   "execution_count": 32,
   "metadata": {
    "pycharm": {
     "is_executing": false
    }
   },
   "outputs": [
    {
     "data": {
      "text/plain": [
       "{'name': 'Alex', 'age': 18, 'sex': '男'}"
      ]
     },
     "execution_count": 32,
     "metadata": {},
     "output_type": "execute_result"
    }
   ],
   "source": [
    "stu1.__dict__"
   ]
  },
  {
   "cell_type": "code",
   "execution_count": 33,
   "metadata": {
    "pycharm": {
     "is_executing": false
    }
   },
   "outputs": [
    {
     "data": {
      "text/plain": [
       "mappingproxy({'__module__': '__main__',\n",
       "              'count': 2,\n",
       "              'school': 'luffycity',\n",
       "              '__init__': <function __main__.Student.__init__(self, name, age, sex)>,\n",
       "              'learn': <function __main__.Student.learn(self)>,\n",
       "              '__dict__': <attribute '__dict__' of 'Student' objects>,\n",
       "              '__weakref__': <attribute '__weakref__' of 'Student' objects>,\n",
       "              '__doc__': None})"
      ]
     },
     "execution_count": 33,
     "metadata": {},
     "output_type": "execute_result"
    }
   ],
   "source": [
    "Student.__dict__"
   ]
  },
  {
   "cell_type": "markdown",
   "metadata": {},
   "source": [
    "#### 练习2\n",
    "\n",
    "模仿LoL定义两个英雄类， (10分钟)\n",
    "\n",
    "#### 要求：\n",
    "\n",
    "英雄需要有昵称、攻击力、生命值等属性；\n",
    "\n",
    "实例化出两个英雄对象；\n",
    "\n",
    "英雄之间可以互殴，被殴打的一方掉血，血量小于0则判定为死亡。"
   ]
  },
  {
   "cell_type": "code",
   "execution_count": 34,
   "metadata": {
    "pycharm": {
     "is_executing": false
    }
   },
   "outputs": [],
   "source": [
    "class Galen:\n",
    "    camp = 'De Marcia'\n",
    "    \n",
    "    def __init__(self, nickname, life_value, aggressivity):\n",
    "        self.nickname = nickname\n",
    "        self.life_value = life_value\n",
    "        self.aggressivity = aggressivity\n",
    "    \n",
    "    def attack(self, enemy):\n",
    "        enemy.life_value -= self.aggressivity\n",
    "\n",
    "\n",
    "class Raven:\n",
    "    camp = 'NOx'\n",
    "    \n",
    "    def __init__(self, nickname, life_value, aggressivity):\n",
    "        self.nickname = nickname\n",
    "        self.life_value = life_value\n",
    "        self.aggressivity = aggressivity\n",
    "    \n",
    "    def attack(self, enemy):\n",
    "        enemy.life_value -= self.aggressivity\n",
    "\n",
    "        \n",
    "g1 = Galen('盖伦', 100, 30)\n",
    "r1 = Raven('瑞文', 70, 50)"
   ]
  },
  {
   "cell_type": "code",
   "execution_count": 35,
   "metadata": {
    "pycharm": {
     "is_executing": false
    }
   },
   "outputs": [
    {
     "data": {
      "text/plain": [
       "100"
      ]
     },
     "execution_count": 35,
     "metadata": {},
     "output_type": "execute_result"
    }
   ],
   "source": [
    "g1.life_value"
   ]
  },
  {
   "cell_type": "code",
   "execution_count": 36,
   "metadata": {
    "pycharm": {
     "is_executing": false
    }
   },
   "outputs": [],
   "source": [
    "r1.attack(g1)"
   ]
  },
  {
   "cell_type": "code",
   "execution_count": 37,
   "metadata": {
    "pycharm": {
     "is_executing": false
    }
   },
   "outputs": [
    {
     "data": {
      "text/plain": [
       "50"
      ]
     },
     "execution_count": 37,
     "metadata": {},
     "output_type": "execute_result"
    }
   ],
   "source": [
    "g1.life_value"
   ]
  },
  {
   "cell_type": "markdown",
   "metadata": {},
   "source": [
    "## 继承"
   ]
  },
  {
   "cell_type": "code",
   "execution_count": 38,
   "metadata": {
    "pycharm": {
     "is_executing": false
    }
   },
   "outputs": [],
   "source": [
    "class ParentClass1:\n",
    "    pass\n",
    "\n",
    "class ParentClass2:\n",
    "    pass\n",
    "\n",
    "class SubClass1(ParentClass1):\n",
    "    pass\n",
    "\n",
    "class SubClass2(ParentClass1, ParentClass2):\n",
    "    pass"
   ]
  },
  {
   "cell_type": "code",
   "execution_count": 39,
   "metadata": {
    "pycharm": {
     "is_executing": false
    }
   },
   "outputs": [
    {
     "data": {
      "text/plain": [
       "(__main__.ParentClass1,)"
      ]
     },
     "execution_count": 39,
     "metadata": {},
     "output_type": "execute_result"
    }
   ],
   "source": [
    "SubClass1.__bases__"
   ]
  },
  {
   "cell_type": "code",
   "execution_count": 40,
   "metadata": {
    "pycharm": {
     "is_executing": false
    }
   },
   "outputs": [
    {
     "data": {
      "text/plain": [
       "(__main__.ParentClass1, __main__.ParentClass2)"
      ]
     },
     "execution_count": 40,
     "metadata": {},
     "output_type": "execute_result"
    }
   ],
   "source": [
    "SubClass2.__bases__"
   ]
  },
  {
   "cell_type": "code",
   "execution_count": null,
   "metadata": {
    "pycharm": {
     "is_executing": false
    }
   },
   "outputs": [],
   "source": []
  },
  {
   "cell_type": "code",
   "execution_count": 41,
   "metadata": {
    "pycharm": {
     "is_executing": false
    }
   },
   "outputs": [],
   "source": [
    "class Hero:\n",
    "    def __init__(self, nickname, life_value, aggressivity):\n",
    "        self.nickname = nickname\n",
    "        self.life_value = life_value\n",
    "        self.aggressivity = aggressivity\n",
    "    \n",
    "    def attack(self, enemy):\n",
    "        enemy.life_value -= self.aggressivity\n",
    "\n",
    "class Galen(Hero):\n",
    "    camp = 'De Marcia'\n",
    "\n",
    "class Raven(Hero):\n",
    "    camp = 'NOx'"
   ]
  },
  {
   "cell_type": "code",
   "execution_count": 42,
   "metadata": {
    "pycharm": {
     "is_executing": false
    }
   },
   "outputs": [],
   "source": [
    "G1 = Galen('Alex', 100, 30)"
   ]
  },
  {
   "cell_type": "code",
   "execution_count": 43,
   "metadata": {
    "pycharm": {
     "is_executing": false
    }
   },
   "outputs": [
    {
     "data": {
      "text/plain": [
       "{'nickname': 'Alex', 'life_value': 100, 'aggressivity': 30}"
      ]
     },
     "execution_count": 43,
     "metadata": {},
     "output_type": "execute_result"
    }
   ],
   "source": [
    "G1.__dict__"
   ]
  },
  {
   "cell_type": "markdown",
   "metadata": {},
   "source": [
    "**属性查找**"
   ]
  },
  {
   "cell_type": "code",
   "execution_count": 44,
   "metadata": {
    "pycharm": {
     "is_executing": false
    }
   },
   "outputs": [
    {
     "name": "stdout",
     "output_type": "stream",
     "text": [
      "Foo func2\n",
      "Bar func1\n"
     ]
    }
   ],
   "source": [
    "class Foo:\n",
    "    def func1(self):\n",
    "        print('Foo func1')\n",
    "    \n",
    "    def func2(self):\n",
    "        print('Foo func2')\n",
    "        self.func1()\n",
    "\n",
    "class Bar(Foo):\n",
    "    def func1(self):\n",
    "        print('Bar func1')\n",
    "        \n",
    "bar = Bar()\n",
    "bar.func2()"
   ]
  },
  {
   "cell_type": "markdown",
   "metadata": {},
   "source": [
    "### 继承的实现原理\n",
    "\n",
    "对于定义的每一个类，python会计算出一个方法解析顺序（MRO）列表，这个MRO列表就是一个简单的所有基类的线性顺序列表。\n",
    "\n",
    "为了实现继承，python会再MRO列表上从左到右开始查找基类，直到找到第一个匹配这个属性的类为止。\n",
    "\n",
    "MRO列表的构造是通过一个C3线性化算法来实现的。\n",
    "\n",
    "合并所有父类的MRO列表遵循如下三条准则：\n",
    "\n",
    "    1.子类会先于父类被检查\n",
    "    \n",
    "    2.多个父类会根据它们再列表中的顺序被检查\n",
    "    \n",
    "    3.如果对下一个类存在两个合法的选择，选择第一个父类"
   ]
  },
  {
   "cell_type": "markdown",
   "metadata": {},
   "source": [
    "##### 1、经典类\n",
    "\n",
    "当类是经典类时，多继承情况下，在要查找属性不存在时，会按照深度优先的方式查找下去。\n",
    "\n",
    "![](/media/alex/新加卷/PythonProject/PythonFullStack/第三模块_面向对象&网络编程基础/images/经典类深度优先.png)\n",
    "\n",
    "在python2中，没有继承object的类，以及它的子类都称之为经典类\n",
    "\n",
    "##### 2、新式类\n",
    "\n",
    "当类是新式类时，多继承情况下，在要查找属性不存在时，会按照广度优先的方式查找下去。\n",
    "\n",
    "![](/media/alex/新加卷/PythonProject/PythonFullStack/第三模块_面向对象&网络编程基础/images/新式类广度优先.png)\n",
    "\n",
    "在python3中，统一都是新式类。\n",
    "\n",
    "在python2中，继承object的类，以及它的子类都称之为新式类。"
   ]
  },
  {
   "cell_type": "code",
   "execution_count": 45,
   "metadata": {
    "pycharm": {
     "is_executing": false
    }
   },
   "outputs": [],
   "source": [
    "class A:\n",
    "    def test(self):\n",
    "        print('from A')\n",
    "    pass\n",
    "\n",
    "class B(A):\n",
    "    def test(self):\n",
    "        print('from B')\n",
    "    pass\n",
    "\n",
    "class C(A):\n",
    "    def test(self):\n",
    "        print('from C')\n",
    "    pass\n",
    "\n",
    "class D(B):\n",
    "    def test(self):\n",
    "        print('from D')\n",
    "    pass\n",
    "\n",
    "class E(C):\n",
    "    def test(self):\n",
    "        print('from E')\n",
    "    pass\n",
    "\n",
    "class F(D,E):\n",
    "    def test(self):\n",
    "        print('from F')\n",
    "    pass"
   ]
  },
  {
   "cell_type": "markdown",
   "metadata": {},
   "source": [
    "![](jetbrains://pycharm/navigate/reference?project=PythonFullStack&path=第三模块_面向对象&网络编程基础/images/继承的实现方式.png)"
   ]
  },
  {
   "cell_type": "code",
   "execution_count": 46,
   "metadata": {
    "pycharm": {
     "is_executing": false
    }
   },
   "outputs": [
    {
     "name": "stdout",
     "output_type": "stream",
     "text": [
      "[<class '__main__.F'>, <class '__main__.D'>, <class '__main__.B'>, <class '__main__.E'>, <class '__main__.C'>, <class '__main__.A'>, <class 'object'>]\n"
     ]
    }
   ],
   "source": [
    "print(F.mro())"
   ]
  },
  {
   "cell_type": "code",
   "execution_count": 47,
   "metadata": {
    "pycharm": {
     "is_executing": false
    }
   },
   "outputs": [
    {
     "name": "stdout",
     "output_type": "stream",
     "text": [
      "from F\n"
     ]
    }
   ],
   "source": [
    "f = F()\n",
    "f.test()"
   ]
  },
  {
   "cell_type": "markdown",
   "metadata": {},
   "source": [
    "## 派生"
   ]
  },
  {
   "cell_type": "markdown",
   "metadata": {},
   "source": [
    "在子类中派生出新方法重用父类的方法，有两种方式。"
   ]
  },
  {
   "cell_type": "markdown",
   "metadata": {},
   "source": [
    "1.指名道姓派生法\n",
    "\n",
    "不依赖继承"
   ]
  },
  {
   "cell_type": "code",
   "execution_count": 48,
   "metadata": {
    "pycharm": {
     "is_executing": false
    }
   },
   "outputs": [],
   "source": [
    "class Hero:\n",
    "    def __init__(self, nickname, life_value, aggressivity):\n",
    "        self.nickname = nickname\n",
    "        self.life_value = life_value\n",
    "        self.aggressivity = aggressivity\n",
    "    \n",
    "    def attack(self, enemy):\n",
    "        enemy.life_value -= self.aggressivity\n",
    "\n",
    "class Galen(Hero):\n",
    "    camp = 'De Marcia'\n",
    "    \n",
    "    def __init__(self, nickname, life_value, aggressivity, weapon):\n",
    "        Hero.__init__(self, nickname, life_value, aggressivity)\n",
    "        self.weapon = weapon\n",
    "\n",
    "class Raven(Hero):\n",
    "    camp = 'NOx'"
   ]
  },
  {
   "cell_type": "code",
   "execution_count": 49,
   "metadata": {
    "pycharm": {
     "is_executing": false
    }
   },
   "outputs": [],
   "source": [
    "g = Galen(\"盖伦\", 100, 30, \"无尽之刃\")"
   ]
  },
  {
   "cell_type": "code",
   "execution_count": 50,
   "metadata": {
    "pycharm": {
     "is_executing": false
    }
   },
   "outputs": [
    {
     "data": {
      "text/plain": [
       "{'nickname': '盖伦', 'life_value': 100, 'aggressivity': 30, 'weapon': '无尽之刃'}"
      ]
     },
     "execution_count": 50,
     "metadata": {},
     "output_type": "execute_result"
    }
   ],
   "source": [
    "g.__dict__"
   ]
  },
  {
   "cell_type": "markdown",
   "metadata": {},
   "source": [
    "2.super()\n",
    "\n",
    "依赖于继承"
   ]
  },
  {
   "cell_type": "code",
   "execution_count": 51,
   "metadata": {
    "pycharm": {
     "is_executing": false
    }
   },
   "outputs": [],
   "source": [
    "class Hero:\n",
    "    def __init__(self, nickname, life_value, aggressivity):\n",
    "        self.nickname = nickname\n",
    "        self.life_value = life_value\n",
    "        self.aggressivity = aggressivity\n",
    "    \n",
    "    def attack(self, enemy):\n",
    "        enemy.life_value -= self.aggressivity\n",
    "\n",
    "class Galen(Hero):\n",
    "    camp = 'De Marcia'\n",
    "    \n",
    "    def __init__(self, nickname, life_value, aggressivity, weapon):\n",
    "        # super(Galen, self).__init__(nickname, life_value, aggressivity) python2写法\n",
    "        super().__init__(nickname, life_value, aggressivity) # python3写法\n",
    "        self.weapon = weapon\n",
    "\n",
    "class Raven(Hero):\n",
    "    camp = 'NOx'"
   ]
  },
  {
   "cell_type": "code",
   "execution_count": 52,
   "metadata": {
    "pycharm": {
     "is_executing": false
    }
   },
   "outputs": [],
   "source": [
    "g = Galen(\"盖伦\", 100, 30, \"无尽之刃\")"
   ]
  },
  {
   "cell_type": "code",
   "execution_count": 53,
   "metadata": {
    "pycharm": {
     "is_executing": false
    }
   },
   "outputs": [
    {
     "data": {
      "text/plain": [
       "{'nickname': '盖伦', 'life_value': 100, 'aggressivity': 30, 'weapon': '无尽之刃'}"
      ]
     },
     "execution_count": 53,
     "metadata": {},
     "output_type": "execute_result"
    }
   ],
   "source": [
    "g.__dict__"
   ]
  },
  {
   "cell_type": "markdown",
   "metadata": {},
   "source": [
    "**super()依赖于MRO列表，所以依赖于继承。**"
   ]
  },
  {
   "cell_type": "code",
   "execution_count": 54,
   "metadata": {
    "pycharm": {
     "is_executing": false
    }
   },
   "outputs": [],
   "source": [
    "class A:\n",
    "    def func1(self):\n",
    "        print('A func1')\n",
    "        super().func1()\n",
    "\n",
    "class B:\n",
    "    def func1(self):\n",
    "        print('B func1')\n",
    "        \n",
    "class C(A, B):\n",
    "    pass"
   ]
  },
  {
   "cell_type": "code",
   "execution_count": 55,
   "metadata": {
    "pycharm": {
     "is_executing": false
    }
   },
   "outputs": [
    {
     "data": {
      "text/plain": [
       "[__main__.C, __main__.A, __main__.B, object]"
      ]
     },
     "execution_count": 55,
     "metadata": {},
     "output_type": "execute_result"
    }
   ],
   "source": [
    "C.mro()"
   ]
  },
  {
   "cell_type": "code",
   "execution_count": 56,
   "metadata": {
    "pycharm": {
     "is_executing": false
    }
   },
   "outputs": [
    {
     "name": "stdout",
     "output_type": "stream",
     "text": [
      "A func1\n",
      "B func1\n"
     ]
    }
   ],
   "source": [
    "temp_c = C()\n",
    "temp_c.func1()"
   ]
  },
  {
   "cell_type": "markdown",
   "metadata": {},
   "source": [
    "## 组合"
   ]
  },
  {
   "cell_type": "code",
   "execution_count": 57,
   "metadata": {
    "pycharm": {
     "is_executing": false
    }
   },
   "outputs": [],
   "source": [
    "class Luffycity:\n",
    "    school = 'luffycity'\n",
    "    \n",
    "    def __init__(self, name, age, sex):\n",
    "        self.name = name\n",
    "        self.age = age\n",
    "        self.sex = sex\n",
    "\n",
    "class Teacher(Luffycity):\n",
    "    def __init__(self, name, age, sex, level, salary):\n",
    "        super().__init__(name, age, sex)\n",
    "        self.level = level\n",
    "        self.salary = salary\n",
    "    \n",
    "    def teach(self):\n",
    "        print(self.name, ' is teaching...')\n",
    "        \n",
    "class Student(Luffycity):\n",
    "    def __init__(self, name,age, sex):\n",
    "        super().__init__(name, age, sex)\n",
    "    \n",
    "    def learn(self):\n",
    "        print(self.name, ' is learning...')\n",
    "    \n",
    "class Course:\n",
    "    def __init__(self, course_name, course_price, course_period):\n",
    "        self.course_name = course_name\n",
    "        self.course_price = course_price\n",
    "        self.course_period = course_period\n",
    "    \n",
    "    def course_info(self):\n",
    "        print('课程名：<%s>\\t课程价钱：<%s>\\t课程周期：<%s>' % (self.course_name, self.course_price, self.course_period))\n",
    "\n",
    "class Date:\n",
    "    def __init__(self, year, month, day):\n",
    "        self.year = year\n",
    "        self.month = month\n",
    "        self.day = day\n",
    "    \n",
    "    def date_info(self):\n",
    "        print(self.year, '-', self.month, '-', self.day)"
   ]
  },
  {
   "cell_type": "code",
   "execution_count": 58,
   "metadata": {
    "pycharm": {
     "is_executing": false
    }
   },
   "outputs": [],
   "source": [
    "teacher = Teacher('alex', 28, '男', 10, 1000000)"
   ]
  },
  {
   "cell_type": "code",
   "execution_count": 59,
   "metadata": {
    "pycharm": {
     "is_executing": false
    }
   },
   "outputs": [
    {
     "data": {
      "text/plain": [
       "<__main__.Teacher at 0x7f5dd848fd50>"
      ]
     },
     "execution_count": 59,
     "metadata": {},
     "output_type": "execute_result"
    }
   ],
   "source": [
    "teacher"
   ]
  },
  {
   "cell_type": "code",
   "execution_count": 60,
   "metadata": {
    "pycharm": {
     "is_executing": false
    }
   },
   "outputs": [
    {
     "data": {
      "text/plain": [
       "{'name': 'alex', 'age': 28, 'sex': '男', 'level': 10, 'salary': 1000000}"
      ]
     },
     "execution_count": 60,
     "metadata": {},
     "output_type": "execute_result"
    }
   ],
   "source": [
    "teacher.__dict__"
   ]
  },
  {
   "cell_type": "code",
   "execution_count": 61,
   "metadata": {
    "pycharm": {
     "is_executing": false
    }
   },
   "outputs": [],
   "source": [
    "student = Student('Alex', 18, '男')"
   ]
  },
  {
   "cell_type": "code",
   "execution_count": 62,
   "metadata": {
    "pycharm": {
     "is_executing": false
    }
   },
   "outputs": [
    {
     "data": {
      "text/plain": [
       "<__main__.Student at 0x7f5dd84caa10>"
      ]
     },
     "execution_count": 62,
     "metadata": {},
     "output_type": "execute_result"
    }
   ],
   "source": [
    "student"
   ]
  },
  {
   "cell_type": "code",
   "execution_count": 63,
   "metadata": {
    "pycharm": {
     "is_executing": false
    }
   },
   "outputs": [
    {
     "data": {
      "text/plain": [
       "{'name': 'Alex', 'age': 18, 'sex': '男'}"
      ]
     },
     "execution_count": 63,
     "metadata": {},
     "output_type": "execute_result"
    }
   ],
   "source": [
    "student.__dict__"
   ]
  },
  {
   "cell_type": "code",
   "execution_count": 64,
   "metadata": {
    "pycharm": {
     "is_executing": false
    }
   },
   "outputs": [],
   "source": [
    "python = Course('python', 12888, '6 months')"
   ]
  },
  {
   "cell_type": "code",
   "execution_count": 65,
   "metadata": {
    "pycharm": {
     "is_executing": false
    }
   },
   "outputs": [
    {
     "data": {
      "text/plain": [
       "<__main__.Course at 0x7f5dd84bed90>"
      ]
     },
     "execution_count": 65,
     "metadata": {},
     "output_type": "execute_result"
    }
   ],
   "source": [
    "python"
   ]
  },
  {
   "cell_type": "code",
   "execution_count": 66,
   "metadata": {
    "pycharm": {
     "is_executing": false
    }
   },
   "outputs": [
    {
     "data": {
      "text/plain": [
       "{'course_name': 'python', 'course_price': 12888, 'course_period': '6 months'}"
      ]
     },
     "execution_count": 66,
     "metadata": {},
     "output_type": "execute_result"
    }
   ],
   "source": [
    "python.__dict__"
   ]
  },
  {
   "cell_type": "code",
   "execution_count": 67,
   "metadata": {
    "pycharm": {
     "is_executing": false
    }
   },
   "outputs": [],
   "source": [
    "teacher.course = python"
   ]
  },
  {
   "cell_type": "code",
   "execution_count": 68,
   "metadata": {
    "pycharm": {
     "is_executing": false
    }
   },
   "outputs": [
    {
     "data": {
      "text/plain": [
       "{'name': 'alex',\n",
       " 'age': 28,\n",
       " 'sex': '男',\n",
       " 'level': 10,\n",
       " 'salary': 1000000,\n",
       " 'course': <__main__.Course at 0x7f5dd84bed90>}"
      ]
     },
     "execution_count": 68,
     "metadata": {},
     "output_type": "execute_result"
    }
   ],
   "source": [
    "teacher.__dict__"
   ]
  },
  {
   "cell_type": "code",
   "execution_count": 69,
   "metadata": {
    "pycharm": {
     "is_executing": false
    }
   },
   "outputs": [],
   "source": [
    "student.course = python"
   ]
  },
  {
   "cell_type": "code",
   "execution_count": 70,
   "metadata": {
    "pycharm": {
     "is_executing": false
    }
   },
   "outputs": [
    {
     "data": {
      "text/plain": [
       "{'name': 'Alex',\n",
       " 'age': 18,\n",
       " 'sex': '男',\n",
       " 'course': <__main__.Course at 0x7f5dd84bed90>}"
      ]
     },
     "execution_count": 70,
     "metadata": {},
     "output_type": "execute_result"
    }
   ],
   "source": [
    "student.__dict__"
   ]
  },
  {
   "cell_type": "code",
   "execution_count": 71,
   "metadata": {
    "pycharm": {
     "is_executing": false
    }
   },
   "outputs": [
    {
     "data": {
      "text/plain": [
       "'python'"
      ]
     },
     "execution_count": 71,
     "metadata": {},
     "output_type": "execute_result"
    }
   ],
   "source": [
    "teacher.course.course_name"
   ]
  },
  {
   "cell_type": "code",
   "execution_count": 72,
   "metadata": {
    "pycharm": {
     "is_executing": false
    }
   },
   "outputs": [
    {
     "name": "stdout",
     "output_type": "stream",
     "text": [
      "课程名：<python>\t课程价钱：<12888>\t课程周期：<6 months>\n"
     ]
    }
   ],
   "source": [
    "student.course.course_info()"
   ]
  },
  {
   "cell_type": "code",
   "execution_count": 73,
   "metadata": {
    "pycharm": {
     "is_executing": false
    }
   },
   "outputs": [],
   "source": [
    "birthday = Date(2000, 10, 1)"
   ]
  },
  {
   "cell_type": "code",
   "execution_count": 74,
   "metadata": {
    "pycharm": {
     "is_executing": false
    }
   },
   "outputs": [],
   "source": [
    "student.birthday = birthday"
   ]
  },
  {
   "cell_type": "code",
   "execution_count": 75,
   "metadata": {
    "pycharm": {
     "is_executing": false
    }
   },
   "outputs": [
    {
     "data": {
      "text/plain": [
       "{'name': 'Alex',\n",
       " 'age': 18,\n",
       " 'sex': '男',\n",
       " 'course': <__main__.Course at 0x7f5dd84bed90>,\n",
       " 'birthday': <__main__.Date at 0x7f5dd84b8e10>}"
      ]
     },
     "execution_count": 75,
     "metadata": {},
     "output_type": "execute_result"
    }
   ],
   "source": [
    "student.__dict__"
   ]
  },
  {
   "cell_type": "code",
   "execution_count": 76,
   "metadata": {
    "pycharm": {
     "is_executing": false
    }
   },
   "outputs": [
    {
     "name": "stdout",
     "output_type": "stream",
     "text": [
      "2000 - 10 - 1\n"
     ]
    }
   ],
   "source": [
    "student.birthday.date_info()"
   ]
  },
  {
   "cell_type": "markdown",
   "metadata": {},
   "source": [
    "## 抽象类"
   ]
  },
  {
   "cell_type": "code",
   "execution_count": 77,
   "metadata": {
    "pycharm": {
     "is_executing": false
    }
   },
   "outputs": [],
   "source": [
    "import abc"
   ]
  },
  {
   "cell_type": "code",
   "execution_count": 78,
   "metadata": {
    "pycharm": {
     "is_executing": false
    }
   },
   "outputs": [],
   "source": [
    "class Animal(metaclass=abc.ABCMeta):\n",
    "    all_type = 'animal'\n",
    "    \n",
    "    @abc.abstractmethod\n",
    "    def run(self):\n",
    "        pass\n",
    "    \n",
    "    @abc.abstractmethod\n",
    "    def eat(self):\n",
    "        pass"
   ]
  },
  {
   "cell_type": "markdown",
   "metadata": {},
   "source": [
    "**抽象类只能被继承，不能被实例化。**"
   ]
  },
  {
   "cell_type": "code",
   "execution_count": 79,
   "metadata": {
    "pycharm": {
     "is_executing": false
    }
   },
   "outputs": [
    {
     "ename": "TypeError",
     "evalue": "Can't instantiate abstract class Animal with abstract methods eat, run",
     "output_type": "error",
     "traceback": [
      "\u001b[0;31m---------------------------------------------------------------------------\u001b[0m",
      "\u001b[0;31mTypeError\u001b[0m                                 Traceback (most recent call last)",
      "\u001b[0;32m<ipython-input-79-5d44ba9875b7>\u001b[0m in \u001b[0;36m<module>\u001b[0;34m\u001b[0m\n\u001b[0;32m----> 1\u001b[0;31m \u001b[0manimal\u001b[0m \u001b[0;34m=\u001b[0m \u001b[0mAnimal\u001b[0m\u001b[0;34m(\u001b[0m\u001b[0;34m)\u001b[0m\u001b[0;34m\u001b[0m\u001b[0;34m\u001b[0m\u001b[0m\n\u001b[0m",
      "\u001b[0;31mTypeError\u001b[0m: Can't instantiate abstract class Animal with abstract methods eat, run"
     ]
    }
   ],
   "source": [
    "animal = Animal()"
   ]
  },
  {
   "cell_type": "code",
   "execution_count": null,
   "metadata": {
    "pycharm": {
     "is_executing": false
    }
   },
   "outputs": [],
   "source": [
    "class People(Animal):\n",
    "    def run(self):\n",
    "        print('People is running...')\n",
    "    def eat(self):\n",
    "        print('People is eating...')"
   ]
  },
  {
   "cell_type": "code",
   "execution_count": null,
   "metadata": {
    "pycharm": {
     "is_executing": false
    }
   },
   "outputs": [],
   "source": [
    "people = People()"
   ]
  },
  {
   "cell_type": "code",
   "execution_count": null,
   "metadata": {
    "pycharm": {
     "is_executing": false
    }
   },
   "outputs": [],
   "source": [
    "people.run()"
   ]
  },
  {
   "cell_type": "code",
   "execution_count": null,
   "metadata": {
    "pycharm": {
     "is_executing": false
    }
   },
   "outputs": [],
   "source": [
    "class Pig(Animal):\n",
    "    def walk(self):\n",
    "        print('pig is walkint...')\n",
    "    def eat(self):\n",
    "        print('pig is eating...')"
   ]
  },
  {
   "cell_type": "code",
   "execution_count": null,
   "metadata": {
    "pycharm": {
     "is_executing": false
    }
   },
   "outputs": [],
   "source": [
    "pig = Pig()"
   ]
  },
  {
   "cell_type": "markdown",
   "metadata": {},
   "source": [
    "## 多态\n",
    "\n",
    "多态指的是一类事物的多种形态。"
   ]
  },
  {
   "cell_type": "code",
   "execution_count": null,
   "metadata": {
    "pycharm": {
     "is_executing": false
    }
   },
   "outputs": [],
   "source": [
    "import abc\n",
    "class Animal(metaclass=abc.ABCMeta): #同一类事物:动物\n",
    "    @abc.abstractmethod\n",
    "    def talk(self):\n",
    "        pass\n",
    "\n",
    "class People(Animal): #动物的形态之一:人\n",
    "    def talk(self):\n",
    "        print('say hello')\n",
    "\n",
    "class Dog(Animal): #动物的形态之二:狗\n",
    "    def talk(self):\n",
    "        print('say wangwang')\n",
    "\n",
    "class Pig(Animal): #动物的形态之三:猪\n",
    "    def talk(self):\n",
    "        print('say aoao')"
   ]
  },
  {
   "cell_type": "markdown",
   "metadata": {},
   "source": [
    "### 多态性"
   ]
  },
  {
   "cell_type": "markdown",
   "metadata": {},
   "source": [
    "一、什么是多态动态绑定（在继承的背景下使用时，有时也称为多态性）\n",
    "\n",
    "多态性是指在不考虑实例类型的情况下使用实例，多态性分为静态多态性和动态多态性\n",
    "\n",
    "静态多态性：如任何类型都可以用运算符+进行运算\n",
    "\n",
    "动态多态性：如下"
   ]
  },
  {
   "cell_type": "code",
   "execution_count": null,
   "metadata": {
    "pycharm": {
     "is_executing": false
    }
   },
   "outputs": [],
   "source": [
    "peo = People()\n",
    "dog = Dog()\n",
    "pig = Pig()\n",
    "\n",
    "#peo、dog、pig都是动物,只要是动物肯定有talk方法\n",
    "#于是我们可以不用考虑它们三者的具体是什么类型,而直接使用\n",
    "peo.talk()\n",
    "dog.talk()\n",
    "pig.talk()\n",
    "\n",
    "#更进一步,我们可以定义一个统一的接口来使用\n",
    "def func(obj):\n",
    "    obj.talk()"
   ]
  },
  {
   "cell_type": "markdown",
   "metadata": {},
   "source": [
    "二 为什么要用多态性（多态性的好处）\n",
    "\n",
    "1.增加了程序的灵活性\n",
    "\n",
    "    以不变应万变，不论对象千变万化，使用者都是同一种形式去调用，如func(animal)\n",
    "\n",
    "2.增加了程序额可扩展性\n",
    "    \n",
    "    通过继承animal类创建了一个新的类，使用者无需更改自己的代码，还是用func(animal)去调用 　　"
   ]
  },
  {
   "cell_type": "code",
   "execution_count": null,
   "metadata": {
    "pycharm": {
     "is_executing": false
    }
   },
   "outputs": [],
   "source": [
    "class Cat(Animal): #属于动物的另外一种形态：猫\n",
    "    def talk(self):\n",
    "        print('say miao')"
   ]
  },
  {
   "cell_type": "code",
   "execution_count": null,
   "metadata": {
    "pycharm": {
     "is_executing": false
    }
   },
   "outputs": [],
   "source": [
    "cat = Cat()\n",
    "func(cat)"
   ]
  },
  {
   "cell_type": "markdown",
   "metadata": {},
   "source": [
    "### 鸭子类型\n",
    "\n",
    "Python崇尚鸭子类型，即‘如果看起来像、叫声像而且走起路来像鸭子，那么它就是鸭子’\n",
    "\n",
    "python程序员通常根据这种行为来编写程序。例如，如果想编写现有对象的自定义版本，可以继承该对象\n",
    "\n",
    "也可以创建一个外观和行为像，但与它无任何关系的全新对象，后者通常用于保存程序组件的松耦合度。"
   ]
  },
  {
   "cell_type": "code",
   "execution_count": null,
   "metadata": {
    "pycharm": {
     "is_executing": false
    }
   },
   "outputs": [],
   "source": []
  },
  {
   "cell_type": "markdown",
   "metadata": {},
   "source": [
    "# 封装"
   ]
  },
  {
   "cell_type": "markdown",
   "metadata": {},
   "source": [
    "在python中用双下划线开头的方式将属性隐藏起来\n",
    "\n",
    "类似于C++中设置成私有的变量"
   ]
  },
  {
   "cell_type": "code",
   "execution_count": null,
   "metadata": {},
   "outputs": [],
   "source": [
    "class A:\n",
    "    __N = 0\n",
    "    \n",
    "    def __init__(self):\n",
    "        self.__x = 10\n",
    "        \n",
    "    def __foo(self):\n",
    "        print('This is __foo in A')\n",
    "    \n",
    "    def bar(self):\n",
    "        print('This is bar in A')\n",
    "        self.__foo()"
   ]
  },
  {
   "cell_type": "code",
   "execution_count": null,
   "metadata": {},
   "outputs": [],
   "source": [
    "A.__N"
   ]
  },
  {
   "cell_type": "code",
   "execution_count": null,
   "metadata": {},
   "outputs": [],
   "source": [
    "a = A()"
   ]
  },
  {
   "cell_type": "code",
   "execution_count": null,
   "metadata": {},
   "outputs": [],
   "source": [
    "a.__N"
   ]
  },
  {
   "cell_type": "code",
   "execution_count": null,
   "metadata": {},
   "outputs": [],
   "source": [
    "a.__foo()"
   ]
  },
  {
   "cell_type": "code",
   "execution_count": null,
   "metadata": {},
   "outputs": [],
   "source": [
    "a.bar()"
   ]
  },
  {
   "cell_type": "markdown",
   "metadata": {},
   "source": [
    "类的数据属性就应该是共享的,但是语法上是可以把类的数据属性设置成私有的\n",
    "\n",
    "类中所有双下划线开头的名称如\\_\\_x都会自动变形成：\\_类名\\_\\_x的形式：\n",
    "\n",
    "如\\_\\_N，会变形为\\_A\\_\\_N\n",
    "\n",
    "self.\\_\\_X=10，会变形为self.\\_A\\_\\_X\n",
    "\n",
    "def \\_\\_foo(self): ，变形为\\_A\\_\\_foo\n",
    "\n",
    "self.\\_\\_foo()，只有在类内部才可以通过\\_\\_foo的形式访问到。"
   ]
  },
  {
   "cell_type": "code",
   "execution_count": null,
   "metadata": {},
   "outputs": [],
   "source": [
    "a.__dict__"
   ]
  },
  {
   "cell_type": "markdown",
   "metadata": {},
   "source": [
    "这种自动变形的特点：\n",
    "\n",
    "    1.类中定义的__x只能在内部使用，如self.__x，引用的就是变形的结果。\n",
    "\n",
    "    2.这种变形其实正是针对外部的变形，在外部是无法通过__x这个名字访问到的。\n",
    "    \n",
    "    3.在子类定义的__x不会覆盖在父类定义的__x，因为子类中变形成了：_子类名__x,而父类中变形成了：_父类名__x，即双下滑线开头的属性在继承给子类时，子类是无法覆盖的。\n",
    "\n",
    "这种变形需要注意的问题是：\n",
    "\n",
    "    1、这种机制也并没有真正意义上限制从外部直接访问属性，知道了类名和属性名就可以拼出名字：_类名__属性，然后就可以访问了，如a._A__N\n",
    "\n",
    "    2、变形的过程只在类的定义是发生一次,在定义后的赋值操作，不会变形\n",
    "    \n",
    "    3、在继承中，父类如果不想让子类覆盖自己的方法，可以将方法定义为私有的"
   ]
  },
  {
   "cell_type": "code",
   "execution_count": null,
   "metadata": {},
   "outputs": [],
   "source": [
    "a._A__x"
   ]
  },
  {
   "cell_type": "code",
   "execution_count": null,
   "metadata": {},
   "outputs": [],
   "source": [
    "a.__y = 10"
   ]
  },
  {
   "cell_type": "code",
   "execution_count": null,
   "metadata": {},
   "outputs": [],
   "source": [
    "a.__dict__"
   ]
  },
  {
   "cell_type": "markdown",
   "metadata": {},
   "source": [
    "### 封装不是单纯意义的隐藏\n",
    "\n",
    "1：封装数据\n",
    "\n",
    "将数据隐藏起来这不是目的。\n",
    "\n",
    "隐藏起来然后对外提供操作该数据的接口，然后可以在接口附加上对该数据操作的限制，以此完成对数据属性操作的严格控制。"
   ]
  },
  {
   "cell_type": "code",
   "execution_count": null,
   "metadata": {},
   "outputs": [],
   "source": [
    "class Teacher:\n",
    "    def __init__(self, name, age):\n",
    "        self.__name = name\n",
    "        self.__age = age\n",
    "\n",
    "    def tell_info(self):\n",
    "        print('姓名:%s,年龄:%s' %(self.__name,self.__age))\n",
    "        \n",
    "    def set_info(self, name, age):\n",
    "        if not isinstance(name,str):\n",
    "            raise TypeError('姓名必须是字符串类型')\n",
    "        if not isinstance(age,int):\n",
    "            raise TypeError('年龄必须是整型')\n",
    "        self.__name = name\n",
    "        self.__age = age"
   ]
  },
  {
   "cell_type": "code",
   "execution_count": null,
   "metadata": {},
   "outputs": [],
   "source": [
    "teacher = Teacher('alex',18)\n",
    "teacher.tell_info()"
   ]
  },
  {
   "cell_type": "code",
   "execution_count": null,
   "metadata": {},
   "outputs": [],
   "source": [
    "teacher.set_info('alex', '18')"
   ]
  },
  {
   "cell_type": "markdown",
   "metadata": {},
   "source": [
    "2：封装方法：目的是隔离复杂度\n",
    "\n",
    "取款是功能,而这个功能有很多功能组成:插卡、密码认证、输入金额、打印账单、取钱。\n",
    "\n",
    "对使用者来说,只需要知道取款这个功能即可,其余功能我们都可以隐藏起来,很明显这么做隔离了复杂度,同时也提升了安全性。"
   ]
  },
  {
   "cell_type": "code",
   "execution_count": null,
   "metadata": {},
   "outputs": [],
   "source": [
    "class ATM:\n",
    "    def __card(self):\n",
    "        print('插卡')\n",
    "    def __auth(self):\n",
    "        print('用户认证')\n",
    "    def __input(self):\n",
    "        print('输入取款金额')\n",
    "    def __print_bill(self):\n",
    "        print('打印账单')\n",
    "    def __take_money(self):\n",
    "        print('取款')\n",
    "\n",
    "    def withdraw(self):\n",
    "        self.__card()\n",
    "        self.__auth()\n",
    "        self.__input()\n",
    "        self.__print_bill()\n",
    "        self.__take_money()"
   ]
  },
  {
   "cell_type": "code",
   "execution_count": null,
   "metadata": {},
   "outputs": [],
   "source": [
    "a = ATM()\n",
    "a.withdraw()"
   ]
  },
  {
   "cell_type": "markdown",
   "metadata": {},
   "source": [
    "在编程语言里，对外提供的接口（接口可理解为了一个入口），可以是函数，称为接口函数，这与接口的概念还不一样，接口代表一组接口函数的集合体。"
   ]
  },
  {
   "cell_type": "markdown",
   "metadata": {},
   "source": [
    "### 特性（property）"
   ]
  },
  {
   "cell_type": "markdown",
   "metadata": {},
   "source": [
    "property是一种特殊的属性，访问它时会执行一段功能（函数）然后返回值。"
   ]
  },
  {
   "cell_type": "code",
   "execution_count": null,
   "metadata": {},
   "outputs": [],
   "source": [
    "import math\n",
    "class Circle:\n",
    "    def __init__(self,radius):     # 圆的半径radius\n",
    "        self.radius=radius\n",
    "\n",
    "    @property\n",
    "    def area(self):\n",
    "        return math.pi * self.radius ** 2     # 计算面积\n",
    "\n",
    "    @property\n",
    "    def perimeter(self):\n",
    "        return 2 * math.pi * self.radius     # 计算周长"
   ]
  },
  {
   "cell_type": "code",
   "execution_count": null,
   "metadata": {},
   "outputs": [],
   "source": [
    "c=Circle(10)"
   ]
  },
  {
   "cell_type": "code",
   "execution_count": null,
   "metadata": {},
   "outputs": [],
   "source": [
    "c.radius"
   ]
  },
  {
   "cell_type": "code",
   "execution_count": null,
   "metadata": {},
   "outputs": [],
   "source": [
    "c.area"
   ]
  },
  {
   "cell_type": "markdown",
   "metadata": {},
   "source": [
    "@property 可以向访问数据属性一样去访问area,会触发一个函数的执行,动态计算出一个值。"
   ]
  },
  {
   "cell_type": "code",
   "execution_count": null,
   "metadata": {},
   "outputs": [],
   "source": [
    "c.perimeter"
   ]
  },
  {
   "cell_type": "markdown",
   "metadata": {},
   "source": [
    "**注意：此时的特性area和perimeter不能被赋值**"
   ]
  },
  {
   "cell_type": "code",
   "execution_count": null,
   "metadata": {},
   "outputs": [],
   "source": [
    "c.area = 100"
   ]
  },
  {
   "cell_type": "markdown",
   "metadata": {},
   "source": [
    "##### 为什么要用property\n",
    "\n",
    "将一个类的函数定义成特性以后，对象再去使用的时候obj.name,根本无法察觉自己的name是执行了一个函数然后计算出来的，这种特性的使用方式遵循了统一访问的原则。"
   ]
  },
  {
   "cell_type": "markdown",
   "metadata": {},
   "source": [
    "面向对象的封装有三种方式:\n",
    "\n",
    "【public】\n",
    "这种其实就是不封装,是对外公开的\n",
    "\n",
    "【protected】\n",
    "这种封装方式对外不公开,但对朋友(friend)或者子类公开\n",
    "\n",
    "【private】\n",
    "这种封装对谁都不公开"
   ]
  },
  {
   "cell_type": "code",
   "execution_count": null,
   "metadata": {},
   "outputs": [],
   "source": [
    "class Foo:\n",
    "    def __init__(self,val):\n",
    "        self.__NAME = val     # 将所有的数据属性都隐藏起来\n",
    "\n",
    "    @property\n",
    "    def name(self):\n",
    "        return self.__NAME     # obj.name访问的是self.__NAME(这也是真实值的存放位置)\n",
    "\n",
    "    @name.setter\n",
    "    def name(self,value):\n",
    "        if not isinstance(value,str):      # 在设定值之前进行类型检查\n",
    "            raise TypeError('%s must be str' %value)\n",
    "        self.__NAME = value     # 通过类型检查后,将值value存放到真实的位置self.__NAME\n",
    "\n",
    "    @name.deleter\n",
    "    def name(self):\n",
    "        raise TypeError('Can not delete')"
   ]
  },
  {
   "cell_type": "code",
   "execution_count": null,
   "metadata": {},
   "outputs": [],
   "source": [
    "foo = Foo('Alex')"
   ]
  },
  {
   "cell_type": "code",
   "execution_count": null,
   "metadata": {},
   "outputs": [],
   "source": [
    "foo.name"
   ]
  },
  {
   "cell_type": "code",
   "execution_count": null,
   "metadata": {},
   "outputs": [],
   "source": [
    "foo.name = 10"
   ]
  },
  {
   "cell_type": "code",
   "execution_count": null,
   "metadata": {},
   "outputs": [],
   "source": [
    "del foo.name"
   ]
  },
  {
   "cell_type": "markdown",
   "metadata": {},
   "source": [
    "### 封装与扩展性\n",
    "\n",
    "封装在于明确区分内外，使得类实现者可以修改封装内的东西而不影响外部调用者的代码；而外部使用用者只知道一个接口(函数)，只要接口（函数）名、参数不变，使用者的代码永远无需改变。\n",
    "\n",
    "这就提供一个良好的合作基础——或者说，只要接口这个基础约定不变，则代码改变不足为虑。"
   ]
  },
  {
   "cell_type": "code",
   "execution_count": null,
   "metadata": {},
   "outputs": [],
   "source": [
    "#类的设计者\n",
    "class Room:\n",
    "    def __init__(self,name,owner,width,length,high):\n",
    "        self.name = name\n",
    "        self.owner = owner\n",
    "        \n",
    "        self.__width = width\n",
    "        self.__length = length\n",
    "        self.__high = high\n",
    "    \n",
    "    def tell_area(self):     # 对外提供的接口，隐藏了内部的实现细节，此时我们想求的是面积\n",
    "        return self.__width * self.__length"
   ]
  },
  {
   "cell_type": "code",
   "execution_count": null,
   "metadata": {},
   "outputs": [],
   "source": [
    "r1=Room('卧室','Alex',20,20,20)\n",
    "r1.tell_area() #使用者调用接口tell_area"
   ]
  },
  {
   "cell_type": "code",
   "execution_count": null,
   "metadata": {},
   "outputs": [],
   "source": [
    "#类的设计者，轻松的扩展了功能，而类的使用者完全不需要改变自己的代码\n",
    "class Room:\n",
    "    def __init__(self,name,owner,width,length,high):\n",
    "        self.name = name\n",
    "        self.owner = owner\n",
    "        \n",
    "        self.__width = width\n",
    "        self.__length = length\n",
    "        self.__high = high\n",
    "    \n",
    "    def tell_area(self):     \n",
    "        return self.__width * self.__length * self.__high"
   ]
  },
  {
   "cell_type": "markdown",
   "metadata": {},
   "source": [
    "对外提供的接口，隐藏内部实现，此时想求的是体积,内部逻辑变了,只需求修该下一行就可以很简答的实现,而且外部调用感知不到,仍然使用该方法，但是功能已经变了。\n",
    "\n",
    "对于仍然在使用tell_area接口的人来说，根本无需改动自己的代码，就可以用上新功能"
   ]
  },
  {
   "cell_type": "code",
   "execution_count": null,
   "metadata": {},
   "outputs": [],
   "source": [
    "r1.tell_area()"
   ]
  },
  {
   "cell_type": "markdown",
   "metadata": {},
   "source": [
    "### 绑定方法与非绑定方法"
   ]
  },
  {
   "cell_type": "code",
   "execution_count": null,
   "metadata": {},
   "outputs": [],
   "source": []
  },
  {
   "cell_type": "code",
   "execution_count": null,
   "metadata": {},
   "outputs": [],
   "source": []
  },
  {
   "cell_type": "code",
   "execution_count": null,
   "metadata": {},
   "outputs": [],
   "source": []
  },
  {
   "cell_type": "code",
   "execution_count": null,
   "metadata": {},
   "outputs": [],
   "source": []
  },
  {
   "cell_type": "code",
   "execution_count": null,
   "metadata": {},
   "outputs": [],
   "source": []
  },
  {
   "cell_type": "code",
   "execution_count": null,
   "metadata": {},
   "outputs": [],
   "source": []
  },
  {
   "cell_type": "code",
   "execution_count": null,
   "metadata": {},
   "outputs": [],
   "source": []
  },
  {
   "cell_type": "code",
   "execution_count": null,
   "metadata": {},
   "outputs": [],
   "source": []
  },
  {
   "cell_type": "code",
   "execution_count": null,
   "metadata": {},
   "outputs": [],
   "source": []
  },
  {
   "cell_type": "code",
   "execution_count": null,
   "metadata": {},
   "outputs": [],
   "source": []
  },
  {
   "cell_type": "code",
   "execution_count": null,
   "metadata": {},
   "outputs": [],
   "source": []
  },
  {
   "cell_type": "code",
   "execution_count": null,
   "metadata": {},
   "outputs": [],
   "source": []
  },
  {
   "cell_type": "code",
   "execution_count": null,
   "metadata": {},
   "outputs": [],
   "source": []
  },
  {
   "cell_type": "code",
   "execution_count": null,
   "metadata": {},
   "outputs": [],
   "source": []
  },
  {
   "cell_type": "code",
   "execution_count": null,
   "metadata": {},
   "outputs": [],
   "source": []
  },
  {
   "cell_type": "code",
   "execution_count": null,
   "metadata": {},
   "outputs": [],
   "source": []
  },
  {
   "cell_type": "code",
   "execution_count": null,
   "metadata": {},
   "outputs": [],
   "source": []
  },
  {
   "cell_type": "code",
   "execution_count": null,
   "metadata": {},
   "outputs": [],
   "source": []
  },
  {
   "cell_type": "code",
   "execution_count": null,
   "metadata": {},
   "outputs": [],
   "source": []
  },
  {
   "cell_type": "code",
   "execution_count": null,
   "metadata": {},
   "outputs": [],
   "source": []
  },
  {
   "cell_type": "code",
   "execution_count": null,
   "metadata": {},
   "outputs": [],
   "source": []
  },
  {
   "cell_type": "code",
   "execution_count": null,
   "metadata": {},
   "outputs": [],
   "source": []
  },
  {
   "cell_type": "code",
   "execution_count": null,
   "metadata": {},
   "outputs": [],
   "source": []
  },
  {
   "cell_type": "code",
   "execution_count": null,
   "metadata": {},
   "outputs": [],
   "source": []
  },
  {
   "cell_type": "code",
   "execution_count": null,
   "metadata": {},
   "outputs": [],
   "source": []
  },
  {
   "cell_type": "code",
   "execution_count": null,
   "metadata": {},
   "outputs": [],
   "source": []
  },
  {
   "cell_type": "code",
   "execution_count": null,
   "metadata": {},
   "outputs": [],
   "source": []
  },
  {
   "cell_type": "code",
   "execution_count": null,
   "metadata": {},
   "outputs": [],
   "source": []
  },
  {
   "cell_type": "code",
   "execution_count": null,
   "metadata": {},
   "outputs": [],
   "source": []
  },
  {
   "cell_type": "code",
   "execution_count": null,
   "metadata": {},
   "outputs": [],
   "source": []
  },
  {
   "cell_type": "code",
   "execution_count": null,
   "metadata": {},
   "outputs": [],
   "source": []
  },
  {
   "cell_type": "code",
   "execution_count": null,
   "metadata": {},
   "outputs": [],
   "source": []
  },
  {
   "cell_type": "code",
   "execution_count": null,
   "metadata": {},
   "outputs": [],
   "source": []
  },
  {
   "cell_type": "code",
   "execution_count": null,
   "metadata": {},
   "outputs": [],
   "source": []
  },
  {
   "cell_type": "code",
   "execution_count": null,
   "metadata": {},
   "outputs": [],
   "source": []
  },
  {
   "cell_type": "code",
   "execution_count": null,
   "metadata": {},
   "outputs": [],
   "source": []
  },
  {
   "cell_type": "code",
   "execution_count": null,
   "metadata": {},
   "outputs": [],
   "source": []
  },
  {
   "cell_type": "markdown",
   "metadata": {},
   "source": [
    "# 网络编程"
   ]
  },
  {
   "cell_type": "markdown",
   "metadata": {},
   "source": [
    "## 计算机基础知识\n",
    "\n",
    "作为应用开发程序员，开发的软件都是应用软件，而应用软件必须运行于操作系统之上，操作系统则运行于硬件之上。\n",
    "\n",
    "应用软件是无法直接操作硬件的，应用软件对硬件的操作必须调用操作系统的接口，由操作系统操控硬件。\n",
    "\n",
    "比如客户端软件想要基于网络发送一条消息给服务端软件，流程是：\n",
    "\n",
    "    1、客户端软件产生数据，存放于客户端软件的内存中，然后调用接口将自己内存中的数据发送／拷贝给操作系统内存\n",
    "\n",
    "    2、客户端操作系统收到数据后，按照客户端软件指定的规则（即协议）、调用网卡发送数据\n",
    "\n",
    "    3、网络传输数据\n",
    "\n",
    "    4、服务端软件调用系统接口，想要将数据从操作系统内存拷贝到自己的内存中\n",
    "\n",
    "    5、服务端操作系统收到4的指令后，使用与客户端相同的规则（即协议）从网卡接收到数据，然后拷贝给服务端软件\n",
    "\n",
    "![](http://book.luffycity.com/python-book/assets/%E8%AE%A1%E7%AE%97%E6%9C%BA%E5%9F%BA%E7%A1%80.png)"
   ]
  },
  {
   "cell_type": "markdown",
   "metadata": {},
   "source": [
    "## 计算机网络知识"
   ]
  },
  {
   "cell_type": "markdown",
   "metadata": {},
   "source": [
    "如果把一个人与这个人的有线电话比喻为一台计算机，那么其实两台计算机之间通信与两个人打电话之间通信的原理是一样的。 \n",
    "\n",
    "两个人之间想要打电话首先一点必须是接电话线，这就好比是计算机之间的通信首先要有物理链接介质，比如网线，交换机，路由器等网络设备。 \n",
    "\n",
    "通信的线路建好之后，只是物理层面有了可以承载数据的介质，要想通信，还需要我们按照某种规则组织我们的数据，这样对方在接收到数据后就可以按照相同的规则去解析出数据。\n",
    "\n",
    "这里说的规则指的就是：中国有很多地区，不同的地区有不同的方言，为了全中国人都可以听懂，大家统一讲普通话。\n",
    "\n",
    "普通话属于中国国内人与人之间通信的标准，那如果是两个国家的人交流呢？\n",
    "\n",
    "问题是，你不可能要求一个人／计算机掌握全世界的语言／标准，于是有了世界统一的通信标准：英语。\n",
    "\n",
    "英语成为世界上所有人通信的统一标准，计算机之间的通信也应该有一个像英语一样的通信标准，这个标准称之为互联网协议。\n",
    "\n",
    "可以很明确地说：互联网协议就是计算机界的英语，网络就是物理链接介质+互联网协议。 \n",
    "\n",
    "我们需要做的是，让全世界的计算机都学会互联网协议，这样任意一台计算机在发消息时都严格按照协议规定的格式去组织数据，接收方就可以按照相同的协议解析出结果了，这就实现了全世界的计算机都能无障碍通信。 \n",
    "\n",
    "按照功能不同，人们将互联网协议分为osi七层或tcp/ip五层或tcp/ip四层（只需要掌握tcp/ip五层协议即可）。\n",
    "\n",
    "这种分层就好比是学习英语的几个阶段，每个阶段应该掌握专门的技能或者说完成特定的任务，比如：1、学音标 2、学单词 3、学语法 4、写作文。"
   ]
  },
  {
   "cell_type": "markdown",
   "metadata": {},
   "source": [
    "计算机网络体系结构\n",
    "\n",
    "![](http://pic.rmb.bdstatic.com/70f406c093e6d39c276ca9ebb97f92d9.png@wm_2,t_55m+5a625Y+3L+W3puaCoA==,fc_ffffff,ff_U2ltSGVp,sz_46,x_29,y_29)"
   ]
  },
  {
   "cell_type": "markdown",
   "metadata": {},
   "source": [
    "每层运行常见物理设备\n",
    "\n",
    "![](http://book.luffycity.com/python-book/assets/6.1-osi-2.png)"
   ]
  },
  {
   "cell_type": "markdown",
   "metadata": {},
   "source": [
    "### OSI七层模型\n",
    "\n",
    "美国国防部在开发tcp/ip的同时，还有一些其它大厂商也开发出了自己的网络体系。\n",
    "\n",
    "实际上世界上第一个网络体系结构由IBM公司提出（也是74年，比TCP/IP略早，SNA），以后其他公司也相继提出自己的网络体系结构如：Digital公司的DNA，美国国防部的TCP/IP等。\n",
    "\n",
    "多种网络体系结构并存，其结果是若采用IBM的结构，只能选用IBM的产品，只能与同种结构的网络互联。\n",
    "\n",
    "这就像中国人说中文，美国人说英语，日本人说日本话一样，同一国家的人沟通没问题，但不同国家之间的人没法通信。\n",
    "\n",
    "为了解决网络通信中这样不互通的问题，国际标准化组织ISO于1977年成立了一个委员会，在现有网络的基础上，提出了不基于具体机型、操作系统或公司的网络体系结构，称为开放系统互联模型。\n",
    "\n",
    "OSI/RM模型(Open System Interconnection / Reference Model)的设计目的是成为一个所有计算机厂商都能实现的开放网络模型，来克服使用众多私有网络模型所带来的困难和低效性。"
   ]
  },
  {
   "cell_type": "markdown",
   "metadata": {},
   "source": [
    "### 什么是TCP/IP?\n",
    "\n",
    "Transmission Control Protocol/Internet Protocol的简写，中译名为传输控制协议/因特网互联协议，又名网络通讯协议，是Internet最基本的协议、Internet国际互联网络的基础。"
   ]
  },
  {
   "cell_type": "markdown",
   "metadata": {},
   "source": [
    "### TCP/IP的起源\n",
    "\n",
    "20世纪50年代末，正处于冷战时期。\n",
    "\n",
    "当时美国军方为了自己的计算机网络在受到袭击时，即使部分网络被摧毁，其余部分仍能保持通信联系，便由美国国防部的高级研究计划局（ARPA）建设了一个军用网，叫做“阿帕网”（ARPAnet）。\n",
    "\n",
    "阿帕网于1969年正式启用，当时仅连接了4台计算机，供科学家们进行计算机联网实验用，这就是因特网的前身。\n",
    "\n",
    "到70年代，ARPAnet已经有了好几十个计算机网络，但是每个网络只能在网络内部的计算机之间互联通信，不同计算机网络之间仍然不能互通。\n",
    "\n",
    "为此， ARPA又设立了新的研究项目，支持学术界和工业界进行有关的研究，研究的主要内容就是想用一种新的方法将不同的计算机局域网互联，形成“互联网”。\n",
    "\n",
    "研究人员称之为“internetwork”，简称“Internet”，这个名词就一直沿用到现在。\n",
    "\n",
    "终于到1974年，TCP/IP诞生啦，TCP/IP有一个非常重要的特点，就是开放性，即TCP/IP的规范和Internet的技术都是公开的。\n",
    "\n",
    "目的就是使任何厂家生产的计算机都能相互通信，使Internet成为一个开放的系统，这正是后来Internet得到飞速发展的重要原因。"
   ]
  },
  {
   "cell_type": "markdown",
   "metadata": {},
   "source": [
    "### TCP/IP五层模型讲解\n",
    "\n",
    "我们将应用层，表示层，会话层并作应用层，从tcp／ip五层协议的角度来阐述每层的由来与功能，搞清楚了每层的主要协议就理解了整个互联网通信的原理。\n",
    "\n",
    "首先，用户感知到的只是最上面一层应用层，自上而下每层都依赖于下一层，所以我们从最下一层开始切入，比较好理解。\n",
    "\n",
    "每层都运行特定的协议，越往上越靠近用户，越往下越靠近硬件。\n",
    "\n",
    "#### 物理层\n",
    "\n",
    "物理层由来：上面提到，孤立的计算机之间要想一起玩，就必须接入internet，言外之意就是计算机之间必须完成组网。\n",
    "\n",
    "![](http://static.zybuluo.com/agocan/n3dmu4wcajuhgxzdix9ticpg/image_1c1phulig10ftmjl914m11l7g37.png)\n",
    "\n",
    "物理层功能：主要是基于电器特性发送高低电压(电信号)，高电压对应数字1，低电压对应数字0。\n",
    "\n",
    "#### 数据链路层\n",
    "\n",
    "数据链路层由来：单纯的电信号0和1没有任何意义，必须规定电信号多少位一组，每组什么意思。\n",
    "\n",
    "数据链路层的功能：定义了电信号的分组方式\n",
    "\n",
    "**以太网协议：**\n",
    "\n",
    "早期的时候各个公司都有自己的分组方式，后来形成了统一的标准，即以太网协议ethernet。\n",
    "\n",
    "ethernet规定\n",
    "\n",
    "一组电信号构成一个数据包，叫做‘帧’\n",
    "\n",
    "每一数据帧分成：报头head和数据data两部分：\n",
    "\n",
    "    head包含：(固定18个字节)\n",
    "\n",
    "        发送者／源地址，6个字节\n",
    "        接收者／目标地址，6个字节\n",
    "        数据类型，6个字节\n",
    "    \n",
    "    data包含：(最短46字节，最长1500字节)\n",
    "\n",
    "        数据包的具体内容\n",
    "\n",
    "head长度＋data长度＝最短64字节，最长1518字节，超过最大限制就分片发送。\n",
    "\n",
    "**mac地址：**\n",
    "\n",
    "head中包含的源和目标地址由来：ethernet规定接入internet的设备都必须具备网卡，发送端和接收端的地址便是指网卡的地址，即mac地址。\n",
    "\n",
    "每块网卡出厂时都被烧制上一个世界唯一的mac地址，长度为48位2进制，通常由12位16进制数表示（前六位是厂商编号，后六位是流水线号）\n",
    "\n",
    "**广播：**\n",
    "\n",
    "有了mac地址，同一网络内的两台主机就可以通信了（一台主机通过arp协议获取另外一台主机的mac地址）\n",
    "\n",
    "ethernet采用最原始的方式，广播的方式进行通信，即计算机通信基本靠吼。\n",
    "\n",
    "![](http://static.zybuluo.com/agocan/x5i4rgscp9rn8drgvcriz550/image_1c1phvbie1089aas488136h1b3t44.png)\n",
    "\n",
    "#### 网络层\n",
    "\n",
    "网络层由来：有了ethernet、mac地址、广播的发送方式，世界上的计算机就可以彼此通信了，问题是世界范围的互联网是由一个个彼此隔离的小的局域网组成的，那么如果所有的通信都采用以太网的广播方式，那么一台机器发送的包全世界都会收到，这就不仅仅是效率低的问题了，这会是一种灾难。\n",
    "\n",
    "![](http://static.zybuluo.com/agocan/y83sok1x0fk6pw1xp6kporqz/image_1c1phvu001kpnl93o96ee0qpq4u.png)\n",
    "\n",
    "上图结论：必须找出一种方法来区分哪些计算机属于同一广播域，哪些不是，如果是就采用广播的方式发送，如果不是，就采用路由的方式（向不同广播域／子网分发数据包），mac地址是无法区分的，它只跟厂商有关。\n",
    "\n",
    "网络层功能：引入一套新的地址用来区分不同的广播域／子网，这套地址即网络地址。\n",
    "\n",
    "**IP协议：**\n",
    "\n",
    "规定网络地址的协议叫ip协议，它定义的地址称之为ip地址，广泛采用的v4版本即ipv4，它规定网络地址由32位2进制表示\n",
    "范围0.0.0.0-255.255.255.255。\n",
    "\n",
    "一个ip地址通常写成四段十进制数，例：172.16.10.1\n",
    "\n",
    "**子网掩码**\n",
    "\n",
    "所谓”子网掩码”，就是表示子网络特征的一个参数。\n",
    "\n",
    "它在形式上等同于IP地址，也是一个32位二进制数字，它的网络部分全部为1，主机部分全部为0。\n",
    "\n",
    "比如，IP地址172.16.10.1，如果已知网络部分是前24位，主机部分是后8位，那么子网络掩码就是11111111.11111111.11111111.00000000，写成十进制就是255.255.255.0。\n",
    "\n",
    "子网掩码是用来标识一个IP地址的哪些位是代表网络位，以及哪些位是代表主机位。\n",
    "\n",
    "子网掩码不能单独存在，它必须结合IP地址一起使用。\n",
    "\n",
    "子网掩码只有一个作用，就是将某个IP地址划分成网络地址和主机地址两部分。\n",
    "\n",
    "要区分网络位和主机位有什么用呢？\n",
    "\n",
    "这就像寄信，你给你的南方姑娘寄信，她身在厦门，详细地址是厦门鼓浪屿三街27号，那网络位就相当于城市，详细地址就是主机位，网络位帮你定位到城市，主机位帮你找到你的南方姑娘。 \n",
    "\n",
    "路由器通过子网掩码来确定哪些是网络位，哪些是主机位。\n",
    "\n",
    "区分网络位和主机位是为了划分子网，就是把一个大网络分成多个小网络，为什么要分子网呢?\n",
    "\n",
    "广播风暴：6万台主机在一个网段里，通信基本靠吼，任何一个人要吼一嗓子，6万多个人必须被动听着，一会你的网络就瘫痪啦。\n",
    "\n",
    "地址浪费：运营商在公网上有很多级联的路由器，有时候2个路由器之间只会用掉几个IP,如果不进行子网划分，那同网段的其它主机也就都不能用了。\n",
    "\n",
    "举例两个级联路由器的接口ip分别为222.34.24.12/24,222.34.24.13/24, 此可承载255个主机的网段只用了2个IP,那其它的就全浪费了，因为不能再分配给别人。\n",
    "\n",
    "划分子网本质上就是借主机位到给网络位，每借一位主机位，这个网段的可分配主机就会越少，比如192.168.1.0/24可用主机255个，借一位变成192.168.1.0/25，那可用主机就从255-128=127个了（从最大的值开始借），再借一位192.168.1.0/26,那可用主机数就变成了255-(128+64)=63个啦\n",
    "\n",
    "**IP地址分类：**\n",
    "\n",
    "IP地址根据网络ID的不同分为5种类型，A类地址、B类地址、C类地址、D类地址和E类地址。\n",
    "\n",
    "A类IP地址：\n",
    "\n",
    "一个A类IP地址由1字节的网络地址和3字节主机地址组成，网络地址的最高位必须是“0”， 地址范围从1.0.0.0 到126.0.0.0。\n",
    "\n",
    "可用的A类网络有126个，每个网络能容纳1亿多个主机。\n",
    "\n",
    "B类IP地址 ：\n",
    "\n",
    "一个B类IP地址由2个字节的网络地址和2个字节的主机地址组成，网络地址的最高位必须是“10”，地址范围从128.0.0.0到191.255.255.255。\n",
    "\n",
    "可用的B类网络有16382个，每个网络能容纳6万多个主机 。\n",
    "\n",
    "C类IP地址：\n",
    "\n",
    "一个C类IP地址由3字节的网络地址和1字节的主机地址组成，网络地址的最高位必须是“110”。\n",
    "\n",
    "范围从192.0.0.0到223.255.255.255。\n",
    "\n",
    "C类网络可达209万余个，每个网络能容纳254个主机。\n",
    "\n",
    "D类地址用于多点广播（Multicast）： \n",
    "\n",
    "D类IP地址第一个字节以“lll0”开始，它是一个专门保留的地址。\n",
    "\n",
    "它并不指向特定的网络，目前这一类地址被用在多点广播（Multicast）中。\n",
    "\n",
    "多点广播地址用来一次寻址一组计算机，它标识共享同一协议的一组计算机。\n",
    "\n",
    "E类IP地址 以“llll0”开始，为将来使用保留。\n",
    "\n",
    "全零（“0．0．0．0”）地址对应于当前主机。\n",
    "\n",
    "全“1”的IP地址（“255．255．255．255”）是当前子网的广播地址。\n",
    "\n",
    "回环地址(127.0.0.1) 又称为本机地址，那它跟0.0.0.0是什么区别呢？\n",
    "\n",
    "那得先了解回环接口\n",
    "\n",
    "**环回接口（loopback）。**\n",
    "\n",
    "平时我们用127.0.0.1来尝试自己的机器服务器好使不好使。\n",
    "\n",
    "走的就是这个loopback接口。\n",
    "\n",
    "对于环回接口，有如下三点值得注意:\n",
    "\n",
    "    传给环回地址（一般是127.0.0.1）的任何数据均作为IP输入。\n",
    "\n",
    "    传给广播地址或多播地址的数据报复制一份传给环回接口，然后送到以太网上；这是因为广播传送和多播传送的定义包含主机本身。\n",
    "\n",
    "    任何传给该主机IP地址的数据均送到环回接口。\n",
    "\n",
    "**IP报文**\n",
    "\n",
    "IP协议是TCP/IP协议的核心，所有的TCP，UDP，IMCP，IGCP的数据都以IP数据格式传输，要注意的是，IP不是可靠的协议，这是说，IP协议没有提供一种数据未传达以后的处理机制－－这被认为是上层协议－－TCP或UDP要做的事情。\n",
    "\n",
    "所以这也就出现了TCP是一个可靠的协议，而UDP就没有那么可靠的区别。\n",
    "\n",
    "IP协议头\n",
    "\n",
    "![](https://img-blog.csdn.net/20171118172527691?watermark/2/text/aHR0cDovL2Jsb2cuY3Nkbi5uZXQvcXFfMjkzNDQ3NTc=/font/5a6L5L2T/fontsize/400/fill/I0JBQkFCMA==/dissolve/70/gravity/SouthEast)\n",
    "\n",
    "挨个解释它是教科书的活计，我感兴趣的只是那八位的TTL字段，还记得这个字段是做什么的么？这个字段规定该数据包在穿过多少个路由之后才会被抛弃(这里就体现出来IP协议包的不可靠性，它不保证数据被送达)，某个ip数据包每穿过一个路由器，该数据包的TTL数值就会减少1，当该数据包的TTL成为零，它就会被自动抛弃。这个字段的最大值也就是255，也就是说一个协议包也就在路由器里面穿行255次就会被抛弃了，根据系统的不同，这个数字也不一样，一般是32或者是64\n",
    "\n",
    "**ARP协议**\n",
    "\n",
    "arp协议由来：计算机通信基本靠吼，即广播的方式，所有上层的包到最后都要封装上以太网头，然后通过以太网协议发送，在谈及以太网协议时候，我门了解到通信是基于mac的广播方式实现，计算机在发包时，获取自身的mac是容易的，如何获取目标主机的mac，就需要通过arp协议。\n",
    "\n",
    "arp协议功能：广播的方式发送数据包，获取目标主机的mac地址。\n",
    "\n",
    "协议工作方式：每台主机ip都是已知的。\n",
    "\n",
    "例如：主机172.16.10.10/24访问172.16.10.11/24\n",
    "\n",
    "一：首先通过ip地址和子网掩码区分出自己所处的子网\n",
    "\n",
    "|场景|数据包地址|\n",
    "|:-:|:-:|\n",
    "|同一子网|\t目标主机mac，目标主机ip|\n",
    "|不同子网|\t网关mac，目标主机ip|\n",
    "\n",
    "二：分析172.16.10.10/24与172.16.10.11/24处于同一网络\n",
    "\n",
    "如果不是同一网络，那么下表中目标ip为172.16.10.1,通过arp获取的是网关的mac。\n",
    "\n",
    "||源mac\t|目标mac\t|源ip\t|目标ip\t|数据部分|\n",
    "|:-:|:-:|:-:|:-:|:-:|:-:|\n",
    "|发送端主机|\t发送端mac|\tFF:FF:FF:FF:FF:FF|\t172.16.10.10/24\t|172.16.10.11/24\t|数据|\n",
    "\n",
    "三：这个包会以广播的方式在发送端所处的子网内传输，所有主机接收后拆开包，发现目标ip为自己的，就响应，返回自己的mac。\n",
    "\n",
    "查看本机arp表的命令：arp -a\n",
    "\n",
    "    >> arp -a\n",
    "    _gateway (192.168.1.1) at 8c:6d:77:4c:a8:c2 [ether] on wlp60s0\n",
    "    ? (192.168.1.3) at a0:57:e3:27:00:95 [ether] on wlp60s0\n",
    "\n",
    "###### ICMP\n",
    "\n",
    "前面讲到了，IP协议并不是一个可靠的协议，它不保证数据被送达，那么，自然的，保证数据送达的工作应该由其他的模块来完成。\n",
    "\n",
    "其中一个重要的模块就是ICMP(网络控制报文)协议。\n",
    "\n",
    "当传送IP数据包发生错误－－比如主机不可达，路由不可达等等，ICMP协议将会把错误信息封包，然后传送回给主机。\n",
    "\n",
    "给主机一个处理错误的机会。\n",
    "\n",
    "我们一般主要用ICMP协议检测网络是否通畅，基于ICMP协议的工具主要有ping 和traceroute\n",
    "\n",
    "**ping**\n",
    "\n",
    "    >> ping www.baidu.com\n",
    "    PING www.a.shifen.com (180.101.49.11) 56(84) bytes of data.\n",
    "    64 bytes from 180.101.49.11 (180.101.49.11): icmp_seq=1 ttl=53 time=23.4 ms\n",
    "    64 bytes from 180.101.49.11 (180.101.49.11): icmp_seq=2 ttl=53 time=22.2 ms\n",
    "    64 bytes from 180.101.49.11 (180.101.49.11): icmp_seq=3 ttl=53 time=24.3 ms\n",
    "    64 bytes from 180.101.49.11 (180.101.49.11): icmp_seq=4 ttl=53 time=22.2 ms\n",
    "    64 bytes from 180.101.49.11 (180.101.49.11): icmp_seq=5 ttl=53 time=23.5 ms\n",
    "    64 bytes from 180.101.49.11 (180.101.49.11): icmp_seq=6 ttl=53 time=22.1 ms\n",
    "    64 bytes from 180.101.49.11 (180.101.49.11): icmp_seq=7 ttl=53 time=23.1 ms\n",
    "\n",
    "ping这个单词源自声纳定位，而这个程序的作用也确实如此，它利用ICMP协议包来侦测另一个主机是否可达。\n",
    "\n",
    "原理是用类型码为0的ICMP发请求，受到请求的主机则用类型码为8的ICMP回应。\n",
    "\n",
    "ping程序来计算间隔时间，并计算有多少个包被送达。\n",
    "\n",
    "用户就可以判断网络大致的情况。\n",
    "\n",
    "我们可以看到，ping给出来了传送的时间和TTL的数据。\n",
    "\n",
    "**traceroute**\n",
    "\n",
    "用来查看从当前主机到某地址一共经过多少跳路由。\n",
    "\n",
    "    >> traceroute www.baidu.com\n",
    "    traceroute to www.baidu.com (180.101.49.11), 30 hops max, 60 byte packets\n",
    "     1  _gateway (192.168.1.1)  1.240 ms  1.367 ms  1.522 ms\n",
    "     2  * * *\n",
    "     3  60.235.176.177 (60.235.176.177)  7.307 ms  8.060 ms  8.056 ms\n",
    "     4  60.235.176.189 (60.235.176.189)  10.965 ms  11.785 ms 60.235.177.101 (60.235.177.101)  11.281 ms\n"
   ]
  },
  {
   "cell_type": "code",
   "execution_count": null,
   "metadata": {},
   "outputs": [],
   "source": []
  },
  {
   "cell_type": "code",
   "execution_count": null,
   "metadata": {},
   "outputs": [],
   "source": []
  },
  {
   "cell_type": "code",
   "execution_count": null,
   "metadata": {},
   "outputs": [],
   "source": []
  },
  {
   "cell_type": "markdown",
   "metadata": {},
   "source": [
    "## 套接字通信"
   ]
  },
  {
   "cell_type": "markdown",
   "metadata": {},
   "source": [
    "##### 服务端"
   ]
  },
  {
   "cell_type": "code",
   "execution_count": null,
   "metadata": {},
   "outputs": [],
   "source": [
    "import socket\n",
    "\n",
    "# 1、买手机\n",
    "phone = socket.socket(socket.AF_INET, socket.SOCK_STREAM)\n",
    "# print(phone)\n",
    "\n",
    "# 2、绑定手机卡\n",
    "phone.bind(('127.0.0.1', 8081))  # 0-65535:0-1024给操作系统使用\n",
    "\n",
    "# 3、开机\n",
    "phone.listen(5)\n",
    "\n",
    "# 4、等电话链接\n",
    "print('starting...')\n",
    "conn, client_addr = phone.accept()\n",
    "\n",
    "# 5、收，发消息\n",
    "data = conn.recv(1024)  # 1、单位：bytes 2、1024代表最大接收1024个bytes\n",
    "print('客户端收到的数据', data)\n"
   ]
  },
  {
   "cell_type": "markdown",
   "metadata": {},
   "source": [
    "##### 客户端"
   ]
  },
  {
   "cell_type": "code",
   "execution_count": null,
   "metadata": {},
   "outputs": [],
   "source": [
    "import socket\n",
    "\n",
    "# 1、买手机\n",
    "phone = socket.socket(socket.AF_INET, socket.SOCK_STREAM)\n",
    "# print(phone)\n",
    "\n",
    "# 2、拨号\n",
    "phone.connect(('127.0.0.1', 8081))\n",
    "\n",
    "# 3、发，收消息\n",
    "phone.send('hello'.encode('utf-8'))\n",
    "data = phone.recv(1024)\n",
    "print(data)\n",
    "\n",
    "# 4、关闭\n",
    "phone.close()"
   ]
  }
 ],
 "metadata": {
  "kernelspec": {
   "display_name": "Python 3",
   "language": "python",
   "name": "python3"
  },
  "language_info": {
   "codemirror_mode": {
    "name": "ipython",
    "version": 3
   },
   "file_extension": ".py",
   "mimetype": "text/x-python",
   "name": "python",
   "nbconvert_exporter": "python",
   "pygments_lexer": "ipython3",
   "version": "3.7.4"
  }
 },
 "nbformat": 4,
 "nbformat_minor": 1
}
