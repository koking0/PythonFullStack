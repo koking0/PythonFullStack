{
 "cells": [
  {
   "cell_type": "markdown",
   "metadata": {
    "collapsed": true,
    "pycharm": {
     "is_executing": false
    }
   },
   "source": [
    "# 面向过程\n",
    "\n",
    "核心是过程二字，过程指的是解决问题的步骤，设计一条流水线，机械式的思维方式\n",
    "\n",
    "优点：复杂的问题流程化，进而简单化。\n",
    "\n",
    "缺点：可扩展性差"
   ]
  },
  {
   "cell_type": "markdown",
   "metadata": {},
   "source": [
    "# 面向对象\n",
    "\n",
    "核心就是对象二字，对象就是特征与技能的集合体\n",
    "\n",
    "优点：可扩展性强\n",
    "\n",
    "缺点：编程复杂度高"
   ]
  },
  {
   "cell_type": "markdown",
   "metadata": {},
   "source": [
    "# 类\n",
    "\n",
    "类就是一系列对象相似的特征与技能的结合体。\n",
    "\n",
    "**强调：站在不同的角度，得到的分类是不一样的。**\n",
    "\n",
    "在现实世界中：先有对象再有类\n",
    "\n",
    "在程序中：先定义类再产生对象"
   ]
  },
  {
   "cell_type": "code",
   "execution_count": 1,
   "metadata": {},
   "outputs": [],
   "source": [
    "# 先定义类\n",
    "class LuffyStudent:\n",
    "    school = 'luffycity'\n",
    "    \n",
    "    def learn():\n",
    "        print('Learing...')\n",
    "        \n",
    "    def eat():\n",
    "        print('Eating')\n",
    "\n",
    "# 后产生对象\n",
    "stu = LuffyStudent()"
   ]
  },
  {
   "cell_type": "code",
   "execution_count": 2,
   "metadata": {},
   "outputs": [
    {
     "data": {
      "text/plain": [
       "<__main__.LuffyStudent at 0x7fc394bb1150>"
      ]
     },
     "execution_count": 2,
     "metadata": {},
     "output_type": "execute_result"
    }
   ],
   "source": [
    "stu"
   ]
  },
  {
   "cell_type": "markdown",
   "metadata": {},
   "source": [
    "**查**"
   ]
  },
  {
   "cell_type": "code",
   "execution_count": 3,
   "metadata": {},
   "outputs": [
    {
     "data": {
      "text/plain": [
       "mappingproxy({'__module__': '__main__',\n",
       "              'school': 'luffycity',\n",
       "              'learn': <function __main__.LuffyStudent.learn()>,\n",
       "              'eat': <function __main__.LuffyStudent.eat()>,\n",
       "              '__dict__': <attribute '__dict__' of 'LuffyStudent' objects>,\n",
       "              '__weakref__': <attribute '__weakref__' of 'LuffyStudent' objects>,\n",
       "              '__doc__': None})"
      ]
     },
     "execution_count": 3,
     "metadata": {},
     "output_type": "execute_result"
    }
   ],
   "source": [
    "LuffyStudent.__dict__"
   ]
  },
  {
   "cell_type": "code",
   "execution_count": 4,
   "metadata": {},
   "outputs": [
    {
     "data": {
      "text/plain": [
       "'luffycity'"
      ]
     },
     "execution_count": 4,
     "metadata": {},
     "output_type": "execute_result"
    }
   ],
   "source": [
    "stu.school"
   ]
  },
  {
   "cell_type": "markdown",
   "metadata": {},
   "source": [
    "**增**"
   ]
  },
  {
   "cell_type": "code",
   "execution_count": 5,
   "metadata": {},
   "outputs": [],
   "source": [
    "stu.country = 'China'"
   ]
  },
  {
   "cell_type": "code",
   "execution_count": 6,
   "metadata": {},
   "outputs": [
    {
     "data": {
      "text/plain": [
       "{'country': 'China'}"
      ]
     },
     "execution_count": 6,
     "metadata": {},
     "output_type": "execute_result"
    }
   ],
   "source": [
    "stu.__dict__"
   ]
  },
  {
   "cell_type": "markdown",
   "metadata": {},
   "source": [
    "**删**"
   ]
  },
  {
   "cell_type": "code",
   "execution_count": 7,
   "metadata": {},
   "outputs": [],
   "source": [
    "del stu.country"
   ]
  },
  {
   "cell_type": "code",
   "execution_count": 8,
   "metadata": {},
   "outputs": [
    {
     "data": {
      "text/plain": [
       "{}"
      ]
     },
     "execution_count": 8,
     "metadata": {},
     "output_type": "execute_result"
    }
   ],
   "source": [
    "stu.__dict__"
   ]
  },
  {
   "cell_type": "markdown",
   "metadata": {},
   "source": [
    "**改**"
   ]
  },
  {
   "cell_type": "code",
   "execution_count": 9,
   "metadata": {},
   "outputs": [],
   "source": [
    "stu.school = 'LuffyCity'"
   ]
  },
  {
   "cell_type": "code",
   "execution_count": 10,
   "metadata": {},
   "outputs": [
    {
     "data": {
      "text/plain": [
       "{'school': 'LuffyCity'}"
      ]
     },
     "execution_count": 10,
     "metadata": {},
     "output_type": "execute_result"
    }
   ],
   "source": [
    "stu.__dict__"
   ]
  },
  {
   "cell_type": "markdown",
   "metadata": {},
   "source": [
    "## \\_\\_init\\_\\_\n",
    "\n",
    "\\_\\_init\\_\\_方法用来为对象定制对象自己独有的特征"
   ]
  },
  {
   "cell_type": "code",
   "execution_count": 11,
   "metadata": {},
   "outputs": [],
   "source": [
    "# 先定义类\n",
    "class LuffyStudent:\n",
    "    school = 'luffycity'\n",
    "    \n",
    "    def __init__(self, name, sex, age):\n",
    "        self.Name = name\n",
    "        self.Sex = sex\n",
    "        self.Age = age\n",
    "    \n",
    "    def learn(self):\n",
    "        print('%s Learing...'% self.Name)\n",
    "        \n",
    "    def eat(self):\n",
    "        print('%s Eating...'% self.Name)\n",
    "\n",
    "# 后产生对象\n",
    "stu = LuffyStudent('Alex', '男', 18)"
   ]
  },
  {
   "cell_type": "code",
   "execution_count": 12,
   "metadata": {},
   "outputs": [
    {
     "data": {
      "text/plain": [
       "{'Name': 'Alex', 'Sex': '男', 'Age': 18}"
      ]
     },
     "execution_count": 12,
     "metadata": {},
     "output_type": "execute_result"
    }
   ],
   "source": [
    "stu.__dict__"
   ]
  },
  {
   "cell_type": "markdown",
   "metadata": {},
   "source": [
    "加上\\_\\_init\\_\\_方法后，实例化的步骤：\n",
    "\n",
    "1.先产生一个空对象\n",
    "\n",
    "2.自动执行\\_\\_init\\_\\_函数"
   ]
  },
  {
   "cell_type": "code",
   "execution_count": 13,
   "metadata": {},
   "outputs": [],
   "source": [
    "stu.Name = 'Coco'"
   ]
  },
  {
   "cell_type": "code",
   "execution_count": 14,
   "metadata": {},
   "outputs": [
    {
     "data": {
      "text/plain": [
       "{'Name': 'Coco', 'Sex': '男', 'Age': 18}"
      ]
     },
     "execution_count": 14,
     "metadata": {},
     "output_type": "execute_result"
    }
   ],
   "source": [
    "stu.__dict__"
   ]
  },
  {
   "cell_type": "code",
   "execution_count": 15,
   "metadata": {},
   "outputs": [],
   "source": [
    "del stu.Sex"
   ]
  },
  {
   "cell_type": "code",
   "execution_count": 16,
   "metadata": {},
   "outputs": [
    {
     "data": {
      "text/plain": [
       "{'Name': 'Coco', 'Age': 18}"
      ]
     },
     "execution_count": 16,
     "metadata": {},
     "output_type": "execute_result"
    }
   ],
   "source": [
    "stu.__dict__"
   ]
  },
  {
   "cell_type": "code",
   "execution_count": 17,
   "metadata": {},
   "outputs": [],
   "source": [
    "stu.Age = 19"
   ]
  },
  {
   "cell_type": "code",
   "execution_count": 18,
   "metadata": {},
   "outputs": [
    {
     "data": {
      "text/plain": [
       "{'Name': 'Coco', 'Age': 19}"
      ]
     },
     "execution_count": 18,
     "metadata": {},
     "output_type": "execute_result"
    }
   ],
   "source": [
    "stu.__dict__"
   ]
  },
  {
   "cell_type": "markdown",
   "metadata": {},
   "source": [
    "**类中的数据属性：是所有对象共有的。**"
   ]
  },
  {
   "cell_type": "code",
   "execution_count": 19,
   "metadata": {},
   "outputs": [],
   "source": [
    "stu1 = LuffyStudent(\"Alex\", '男', 18)\n",
    "stu2 = LuffyStudent(\"Coco\", '女', 19)"
   ]
  },
  {
   "cell_type": "code",
   "execution_count": 20,
   "metadata": {},
   "outputs": [
    {
     "data": {
      "text/plain": [
       "140477990623536"
      ]
     },
     "execution_count": 20,
     "metadata": {},
     "output_type": "execute_result"
    }
   ],
   "source": [
    "id(LuffyStudent.school)"
   ]
  },
  {
   "cell_type": "code",
   "execution_count": 21,
   "metadata": {},
   "outputs": [
    {
     "data": {
      "text/plain": [
       "140477990623536"
      ]
     },
     "execution_count": 21,
     "metadata": {},
     "output_type": "execute_result"
    }
   ],
   "source": [
    "id(stu1.school)"
   ]
  },
  {
   "cell_type": "code",
   "execution_count": 22,
   "metadata": {},
   "outputs": [
    {
     "data": {
      "text/plain": [
       "140477990623536"
      ]
     },
     "execution_count": 22,
     "metadata": {},
     "output_type": "execute_result"
    }
   ],
   "source": [
    "id(stu2.school)"
   ]
  },
  {
   "cell_type": "markdown",
   "metadata": {},
   "source": [
    "**类中的函数属性：是绑定给对象使用的，绑定到不同的对象是不同的方法，对象调用绑定方法时，会把对象本身当作第一个参数self传入。**"
   ]
  },
  {
   "cell_type": "code",
   "execution_count": 23,
   "metadata": {},
   "outputs": [
    {
     "data": {
      "text/plain": [
       "<function __main__.LuffyStudent.learn(self)>"
      ]
     },
     "execution_count": 23,
     "metadata": {},
     "output_type": "execute_result"
    }
   ],
   "source": [
    "LuffyStudent.learn"
   ]
  },
  {
   "cell_type": "code",
   "execution_count": 24,
   "metadata": {},
   "outputs": [
    {
     "data": {
      "text/plain": [
       "<bound method LuffyStudent.learn of <__main__.LuffyStudent object at 0x7fc3909e2050>>"
      ]
     },
     "execution_count": 24,
     "metadata": {},
     "output_type": "execute_result"
    }
   ],
   "source": [
    "stu1.learn"
   ]
  },
  {
   "cell_type": "code",
   "execution_count": 25,
   "metadata": {},
   "outputs": [
    {
     "data": {
      "text/plain": [
       "<bound method LuffyStudent.learn of <__main__.LuffyStudent object at 0x7fc3909e2890>>"
      ]
     },
     "execution_count": 25,
     "metadata": {},
     "output_type": "execute_result"
    }
   ],
   "source": [
    "stu2.learn"
   ]
  },
  {
   "cell_type": "code",
   "execution_count": 26,
   "metadata": {},
   "outputs": [
    {
     "name": "stdout",
     "output_type": "stream",
     "text": [
      "Alex Learing...\n"
     ]
    }
   ],
   "source": [
    "LuffyStudent.learn(stu1)"
   ]
  },
  {
   "cell_type": "code",
   "execution_count": 27,
   "metadata": {},
   "outputs": [
    {
     "name": "stdout",
     "output_type": "stream",
     "text": [
      "Coco Learing...\n"
     ]
    }
   ],
   "source": [
    "LuffyStudent.learn(stu2)"
   ]
  },
  {
   "cell_type": "code",
   "execution_count": 28,
   "metadata": {},
   "outputs": [
    {
     "name": "stdout",
     "output_type": "stream",
     "text": [
      "Alex Learing...\n"
     ]
    }
   ],
   "source": [
    "stu1.learn()"
   ]
  },
  {
   "cell_type": "code",
   "execution_count": 29,
   "metadata": {},
   "outputs": [
    {
     "name": "stdout",
     "output_type": "stream",
     "text": [
      "Coco Learing...\n"
     ]
    }
   ],
   "source": [
    "stu2.learn()"
   ]
  },
  {
   "cell_type": "markdown",
   "metadata": {},
   "source": [
    "#### 练习1\n",
    "\n",
    "编写一个学生类，产生一堆学生对象， (5分钟)\n",
    "\n",
    "#### 要求：\n",
    "\n",
    "有一个计数器（属性），统计总共实例了多少个对象"
   ]
  },
  {
   "cell_type": "code",
   "execution_count": 30,
   "metadata": {},
   "outputs": [],
   "source": [
    "class Student:\n",
    "    count = 0\n",
    "    school = 'luffycity'\n",
    "    \n",
    "    def __init__(self, name, age, sex):\n",
    "        self.name = name\n",
    "        self.age = age\n",
    "        self.sex = sex\n",
    "        Student.count += 1\n",
    "        \n",
    "    def learn(self):\n",
    "        print(self.name, ' is learing...')\n",
    "\n",
    "stu1 = Student('Alex', 18, '男')\n",
    "stu2 = Student('Coco', 19, '女')"
   ]
  },
  {
   "cell_type": "code",
   "execution_count": 31,
   "metadata": {},
   "outputs": [
    {
     "data": {
      "text/plain": [
       "<__main__.Student at 0x7fc3909f3190>"
      ]
     },
     "execution_count": 31,
     "metadata": {},
     "output_type": "execute_result"
    }
   ],
   "source": [
    "stu1"
   ]
  },
  {
   "cell_type": "code",
   "execution_count": 32,
   "metadata": {},
   "outputs": [
    {
     "data": {
      "text/plain": [
       "{'name': 'Alex', 'age': 18, 'sex': '男'}"
      ]
     },
     "execution_count": 32,
     "metadata": {},
     "output_type": "execute_result"
    }
   ],
   "source": [
    "stu1.__dict__"
   ]
  },
  {
   "cell_type": "code",
   "execution_count": 33,
   "metadata": {},
   "outputs": [
    {
     "data": {
      "text/plain": [
       "mappingproxy({'__module__': '__main__',\n",
       "              'count': 2,\n",
       "              'school': 'luffycity',\n",
       "              '__init__': <function __main__.Student.__init__(self, name, age, sex)>,\n",
       "              'learn': <function __main__.Student.learn(self)>,\n",
       "              '__dict__': <attribute '__dict__' of 'Student' objects>,\n",
       "              '__weakref__': <attribute '__weakref__' of 'Student' objects>,\n",
       "              '__doc__': None})"
      ]
     },
     "execution_count": 33,
     "metadata": {},
     "output_type": "execute_result"
    }
   ],
   "source": [
    "Student.__dict__"
   ]
  },
  {
   "cell_type": "markdown",
   "metadata": {},
   "source": [
    "#### 练习2\n",
    "\n",
    "模仿LoL定义两个英雄类， (10分钟)\n",
    "\n",
    "#### 要求：\n",
    "\n",
    "英雄需要有昵称、攻击力、生命值等属性；\n",
    "\n",
    "实例化出两个英雄对象；\n",
    "\n",
    "英雄之间可以互殴，被殴打的一方掉血，血量小于0则判定为死亡。"
   ]
  },
  {
   "cell_type": "code",
   "execution_count": 34,
   "metadata": {},
   "outputs": [],
   "source": [
    "class Galen:\n",
    "    camp = 'De Marcia'\n",
    "    \n",
    "    def __init__(self, nickname, life_value, aggressivity):\n",
    "        self.nickname = nickname\n",
    "        self.life_value = life_value\n",
    "        self.aggressivity = aggressivity\n",
    "    \n",
    "    def attack(self, enemy):\n",
    "        enemy.life_value -= self.aggressivity\n",
    "\n",
    "\n",
    "class Raven:\n",
    "    camp = 'NOx'\n",
    "    \n",
    "    def __init__(self, nickname, life_value, aggressivity):\n",
    "        self.nickname = nickname\n",
    "        self.life_value = life_value\n",
    "        self.aggressivity = aggressivity\n",
    "    \n",
    "    def attack(self, enemy):\n",
    "        enemy.life_value -= self.aggressivity\n",
    "\n",
    "        \n",
    "g1 = Galen('盖伦', 100, 30)\n",
    "r1 = Raven('瑞文', 70, 50)"
   ]
  },
  {
   "cell_type": "code",
   "execution_count": 36,
   "metadata": {},
   "outputs": [
    {
     "data": {
      "text/plain": [
       "100"
      ]
     },
     "execution_count": 36,
     "metadata": {},
     "output_type": "execute_result"
    }
   ],
   "source": [
    "g1.life_value"
   ]
  },
  {
   "cell_type": "code",
   "execution_count": 37,
   "metadata": {},
   "outputs": [],
   "source": [
    "r1.attack(g1)"
   ]
  },
  {
   "cell_type": "code",
   "execution_count": 38,
   "metadata": {},
   "outputs": [
    {
     "data": {
      "text/plain": [
       "50"
      ]
     },
     "execution_count": 38,
     "metadata": {},
     "output_type": "execute_result"
    }
   ],
   "source": [
    "g1.life_value"
   ]
  },
  {
   "cell_type": "markdown",
   "metadata": {},
   "source": [
    "## 继承"
   ]
  },
  {
   "cell_type": "code",
   "execution_count": 39,
   "metadata": {},
   "outputs": [],
   "source": [
    "class ParentClass1:\n",
    "    pass\n",
    "\n",
    "class ParentClass2:\n",
    "    pass\n",
    "\n",
    "class SubClass1(ParentClass1):\n",
    "    pass\n",
    "\n",
    "class SubClass2(ParentClass1, ParentClass2):\n",
    "    pass"
   ]
  },
  {
   "cell_type": "code",
   "execution_count": 40,
   "metadata": {},
   "outputs": [
    {
     "data": {
      "text/plain": [
       "(__main__.ParentClass1,)"
      ]
     },
     "execution_count": 40,
     "metadata": {},
     "output_type": "execute_result"
    }
   ],
   "source": [
    "SubClass1.__bases__"
   ]
  },
  {
   "cell_type": "code",
   "execution_count": 41,
   "metadata": {},
   "outputs": [
    {
     "data": {
      "text/plain": [
       "(__main__.ParentClass1, __main__.ParentClass2)"
      ]
     },
     "execution_count": 41,
     "metadata": {},
     "output_type": "execute_result"
    }
   ],
   "source": [
    "SubClass2.__bases__"
   ]
  },
  {
   "cell_type": "code",
   "execution_count": null,
   "metadata": {},
   "outputs": [],
   "source": []
  },
  {
   "cell_type": "code",
   "execution_count": 44,
   "metadata": {},
   "outputs": [],
   "source": [
    "class Hero:\n",
    "    def __init__(self, nickname, life_value, aggressivity):\n",
    "        self.nickname = nickname\n",
    "        self.life_value = life_value\n",
    "        self.aggressivity = aggressivity\n",
    "    \n",
    "    def attack(self, enemy):\n",
    "        enemy.life_value -= self.aggressivity\n",
    "\n",
    "class Galen(Hero):\n",
    "    camp = 'De Marcia'\n",
    "\n",
    "class Raven(Hero):\n",
    "    camp = 'NOx'"
   ]
  },
  {
   "cell_type": "code",
   "execution_count": 45,
   "metadata": {},
   "outputs": [],
   "source": [
    "G1 = Galen('Alex', 100, 30)"
   ]
  },
  {
   "cell_type": "code",
   "execution_count": 46,
   "metadata": {},
   "outputs": [
    {
     "data": {
      "text/plain": [
       "{'nickname': 'Alex', 'life_value': 100, 'aggressivity': 30}"
      ]
     },
     "execution_count": 46,
     "metadata": {},
     "output_type": "execute_result"
    }
   ],
   "source": [
    "G1.__dict__"
   ]
  },
  {
   "cell_type": "markdown",
   "metadata": {},
   "source": [
    "**属性查找**"
   ]
  },
  {
   "cell_type": "code",
   "execution_count": 48,
   "metadata": {},
   "outputs": [
    {
     "name": "stdout",
     "output_type": "stream",
     "text": [
      "Foo func2\n",
      "Bar func1\n"
     ]
    }
   ],
   "source": [
    "class Foo:\n",
    "    def func1(self):\n",
    "        print('Foo func1')\n",
    "    \n",
    "    def func2(self):\n",
    "        print('Foo func2')\n",
    "        self.func1()\n",
    "\n",
    "class Bar(Foo):\n",
    "    def func1(self):\n",
    "        print('Bar func1')\n",
    "        \n",
    "bar = Bar()\n",
    "bar.func2()"
   ]
  },
  {
   "cell_type": "markdown",
   "metadata": {},
   "source": [
    "### 继承的实现原理\n",
    "\n",
    "对于定义的每一个类，python会计算出一个方法解析顺序（MRO）列表，这个MRO列表就是一个简单的所有基类的线性顺序列表。\n",
    "\n",
    "为了实现继承，python会再MRO列表上从左到右开始查找基类，直到找到第一个匹配这个属性的类为止。\n",
    "\n",
    "MRO列表的构造是通过一个C3线性化算法来实现的。\n",
    "\n",
    "合并所有父类的MRO列表遵循如下三条准则：\n",
    "\n",
    "    1.子类会先于父类被检查\n",
    "    \n",
    "    2.多个父类会根据它们再列表中的顺序被检查\n",
    "    \n",
    "    3.如果对下一个类存在两个合法的选择，选择第一个父类"
   ]
  },
  {
   "cell_type": "markdown",
   "metadata": {},
   "source": [
    "##### 1、经典类\n",
    "\n",
    "当类是经典类时，多继承情况下，在要查找属性不存在时，会按照深度优先的方式查找下去。\n",
    "\n",
    "![](/media/alex/新加卷/PythonProject/PythonFullStack/第三模块_面向对象&网络编程基础/images/经典类深度优先.png)\n",
    "\n",
    "在python2中，没有继承object的类，以及它的子类都称之为经典类\n",
    "\n",
    "##### 2、新式类\n",
    "\n",
    "当类是新式类时，多继承情况下，在要查找属性不存在时，会按照广度优先的方式查找下去。\n",
    "\n",
    "![](/media/alex/新加卷/PythonProject/PythonFullStack/第三模块_面向对象&网络编程基础/images/新式类广度优先.png)\n",
    "\n",
    "在python3中，统一都是新式类。\n",
    "\n",
    "在python2中，继承object的类，以及它的子类都称之为新式类。"
   ]
  },
  {
   "cell_type": "code",
   "execution_count": 50,
   "metadata": {},
   "outputs": [],
   "source": [
    "class A:\n",
    "    def test(self):\n",
    "        print('from A')\n",
    "    pass\n",
    "\n",
    "class B(A):\n",
    "    def test(self):\n",
    "        print('from B')\n",
    "    pass\n",
    "\n",
    "class C(A):\n",
    "    def test(self):\n",
    "        print('from C')\n",
    "    pass\n",
    "\n",
    "class D(B):\n",
    "    def test(self):\n",
    "        print('from D')\n",
    "    pass\n",
    "\n",
    "class E(C):\n",
    "    def test(self):\n",
    "        print('from E')\n",
    "    pass\n",
    "\n",
    "class F(D,E):\n",
    "    def test(self):\n",
    "        print('from F')\n",
    "    pass"
   ]
  },
  {
   "cell_type": "markdown",
   "metadata": {},
   "source": [
    "![](jetbrains://pycharm/navigate/reference?project=PythonFullStack&path=第三模块_面向对象&网络编程基础/images/继承的实现方式.png)"
   ]
  },
  {
   "cell_type": "code",
   "execution_count": 51,
   "metadata": {},
   "outputs": [
    {
     "name": "stdout",
     "output_type": "stream",
     "text": [
      "[<class '__main__.F'>, <class '__main__.D'>, <class '__main__.B'>, <class '__main__.E'>, <class '__main__.C'>, <class '__main__.A'>, <class 'object'>]\n"
     ]
    }
   ],
   "source": [
    "print(F.mro())"
   ]
  },
  {
   "cell_type": "code",
   "execution_count": 53,
   "metadata": {},
   "outputs": [
    {
     "name": "stdout",
     "output_type": "stream",
     "text": [
      "from F\n"
     ]
    }
   ],
   "source": [
    "f = F()\n",
    "f.test()"
   ]
  },
  {
   "cell_type": "markdown",
   "metadata": {},
   "source": [
    "## 派生"
   ]
  },
  {
   "cell_type": "code",
   "execution_count": null,
   "metadata": {},
   "outputs": [],
   "source": []
  },
  {
   "cell_type": "code",
   "execution_count": null,
   "metadata": {},
   "outputs": [],
   "source": []
  }
 ],
 "metadata": {
  "kernelspec": {
   "display_name": "Python 3",
   "language": "python",
   "name": "python3"
  },
  "language_info": {
   "codemirror_mode": {
    "name": "ipython",
    "version": 3
   },
   "file_extension": ".py",
   "mimetype": "text/x-python",
   "name": "python",
   "nbconvert_exporter": "python",
   "pygments_lexer": "ipython3",
   "version": "3.7.4"
  }
 },
 "nbformat": 4,
 "nbformat_minor": 1
}
