{
 "cells": [
  {
   "cell_type": "markdown",
   "metadata": {
    "collapsed": true,
    "pycharm": {
     "is_executing": false
    }
   },
   "source": [
    "# 面向过程\n",
    "\n",
    "核心是过程二字，过程指的是解决问题的步骤，设计一条流水线，机械式的思维方式\n",
    "\n",
    "优点：复杂的问题流程化，进而简单化。\n",
    "\n",
    "缺点：可扩展性差"
   ]
  },
  {
   "cell_type": "markdown",
   "metadata": {},
   "source": [
    "# 面向对象\n",
    "\n",
    "核心就是对象二字，对象就是特征与技能的集合体\n",
    "\n",
    "优点：可扩展性强\n",
    "\n",
    "缺点：编程复杂度高"
   ]
  }
 ],
 "metadata": {
  "kernelspec": {
   "display_name": "Python 3",
   "language": "python",
   "name": "python3"
  },
  "language_info": {
   "codemirror_mode": {
    "name": "ipython",
    "version": 3
   },
   "file_extension": ".py",
   "mimetype": "text/x-python",
   "name": "python",
   "nbconvert_exporter": "python",
   "pygments_lexer": "ipython3",
   "version": "3.7.4"
  }
 },
 "nbformat": 4,
 "nbformat_minor": 1
}
